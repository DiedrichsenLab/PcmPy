{
 "cells": [
  {
   "cell_type": "markdown",
   "source": [
    "# Appliction of a PCM model to evaluate the correlation between two activity patterns"
   ],
   "metadata": {}
  },
  {
   "cell_type": "code",
   "execution_count": 1,
   "source": [
    "# Import necessary libraries\n",
    "import PcmPy as pcm\n",
    "import numpy as np\n",
    "import pandas as pd\n",
    "import matplotlib.pyplot as plt\n",
    "import seaborn as sns\n",
    "from numpy import exp, sqrt"
   ],
   "outputs": [],
   "metadata": {}
  },
  {
   "cell_type": "code",
   "execution_count": 2,
   "source": [
    "# Make the training data: \n",
    "N = 100 # Number of observations \n",
    "Q = 10  # Number of random effects regressors   \n",
    "P = 10  # Number of variables \n",
    "Z = np.random.normal(0,1,(N,Q)) # Make random design matrix \n",
    "U = np.random.normal(0,1,(Q,P))*0.5 # Make random effects  \n",
    "Y = Z @ U + np.random.normal(0,1,(N,P)) # Generate training data  \n",
    "\n",
    "# Make testing data: \n",
    "Zt = np.random.normal(0,1,(N,Q))\n",
    "Yt = Zt @ U + np.random.normal(0,1,(N,P))"
   ],
   "outputs": [],
   "metadata": {}
  },
  {
   "cell_type": "code",
   "execution_count": 7,
   "source": [
    "# Build the datasets from the Data and condition vectors \n",
    "comp = np.array([0,0,0,0,0,0,1,1,1,1])\n",
    "M1 = pcm.regression.RidgeDiag(comp, fit_intercept = True)\n",
    "M1.optimize_regularization(Z,Y)\n",
    "print('Estimated thetas:', M1.theta_.round(2))\n",
    "print('Regularisation:', (exp(M1.theta_[-1])/exp(M1.theta_[:-1])).round(2))"
   ],
   "outputs": [
    {
     "output_type": "stream",
     "name": "stdout",
     "text": [
      "Estimated thetas: [-1.77 -1.68 -0.01]\n",
      "Regularisation: [5.77 5.3 ]\n"
     ]
    }
   ],
   "metadata": {}
  },
  {
   "cell_type": "code",
   "execution_count": 4,
   "source": [
    "# Now you can fit the model \n",
    "M1.fit(Z,Y)\n",
    "Yp = M1.predict(Zt)\n",
    "R2 = 1- np.sum((Yt-Yp)**2)/np.sum((Yt)**2)\n",
    "print('r2 :', R2.round(3))"
   ],
   "outputs": [
    {
     "output_type": "stream",
     "name": "stdout",
     "text": [
      "r2 : 0.6\n"
     ]
    }
   ],
   "metadata": {}
  },
  {
   "cell_type": "code",
   "execution_count": 5,
   "source": [
    "Yp = M1.predict(Zt)"
   ],
   "outputs": [],
   "metadata": {}
  }
 ],
 "metadata": {
  "kernelspec": {
   "display_name": "Python 3",
   "language": "python",
   "name": "python3"
  },
  "language_info": {
   "codemirror_mode": {
    "name": "ipython",
    "version": 3
   },
   "file_extension": ".py",
   "mimetype": "text/x-python",
   "name": "python",
   "nbconvert_exporter": "python",
   "pygments_lexer": "ipython3",
   "version": "3.7.1-final"
  }
 },
 "nbformat": 4,
 "nbformat_minor": 4
}