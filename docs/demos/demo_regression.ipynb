{
 "cells": [
  {
   "cell_type": "markdown",
   "metadata": {},
   "source": [
    "# PCM for tuning regularization parameters in Ridge regression \n"
   ]
  },
  {
   "cell_type": "code",
   "execution_count": 1,
   "metadata": {},
   "outputs": [],
   "source": [
    "# Import necessary libraries\n",
    "import PcmPy as pcm\n",
    "import numpy as np\n",
    "import pickle\n",
    "import pandas as pd\n",
    "import matplotlib.pyplot as plt\n",
    "import seaborn as sns\n",
    "from numpy import exp, sqrt\n",
    "from sklearn.linear_model import Ridge, LinearRegression\n",
    "from sklearn.pipeline import Pipeline\n",
    "from sklearn.model_selection import GridSearchCV"
   ]
  },
  {
   "cell_type": "code",
   "execution_count": 2,
   "metadata": {},
   "outputs": [],
   "source": [
    "# Make the training data: \n",
    "N = 100 # Number of observations \n",
    "Q = 10  # Number of random effects regressors   \n",
    "P = 10  # Number of variables \n",
    "Z = np.random.normal(0,1,(N,Q)) # Make random design matrix \n",
    "U = np.random.normal(0,1,(Q,P))*0.5 # Make random effects  \n",
    "Y = Z @ U + np.random.normal(0,1,(N,P)) # Generate training data  \n",
    "\n",
    "# Make testing data: \n",
    "Zt = np.random.normal(0,1,(N,Q))\n",
    "Yt = Zt @ U + np.random.normal(0,1,(N,P))"
   ]
  },
  {
   "cell_type": "code",
   "execution_count": 3,
   "metadata": {},
   "outputs": [
    {
     "name": "stdout",
     "output_type": "stream",
     "text": [
      "Estimated thetas: [-1.27 -1.38 -0.01]\n",
      "Regularisation: [3.51 3.91]\n"
     ]
    }
   ],
   "source": [
    "# Build the datasets from the Data and condition vectors \n",
    "comp = np.array([0,0,0,0,0,0,1,1,1,1])\n",
    "M1 = pcm.regression.RidgeDiag(comp, fit_intercept = True)\n",
    "M1.optimize_regularization(Z,Y)\n",
    "print('Estimated thetas:', M1.theta_.round(2))\n",
    "print('Regularisation:', (exp(M1.theta_[-1])/exp(M1.theta_[:-1])).round(2))"
   ]
  },
  {
   "cell_type": "code",
   "execution_count": 4,
   "metadata": {},
   "outputs": [
    {
     "name": "stdout",
     "output_type": "stream",
     "text": [
      "r2 : 0.696\n"
     ]
    }
   ],
   "source": [
    "# Now you can fit the model \n",
    "M1.fit(Z,Y)\n",
    "Yp = M1.predict(Zt)\n",
    "R2 = 1- np.sum((Yt-Yp)**2)/np.sum((Yt)**2)\n",
    "print('r2 :', R2.round(3))"
   ]
  },
  {
   "cell_type": "code",
   "execution_count": 5,
   "metadata": {},
   "outputs": [],
   "source": [
    "Yp = M1.predict(Zt)"
   ]
  }
 ],
 "metadata": {
  "interpreter": {
   "hash": "569d6b7e9215e11aba41c6454007e5c1b78bad7df09dab765d8cf00362c40f03"
  },
  "kernelspec": {
   "display_name": "Python 3.9.5 64-bit ('base': conda)",
   "name": "python3"
  },
  "language_info": {
   "codemirror_mode": {
    "name": "ipython",
    "version": 3
   },
   "file_extension": ".py",
   "mimetype": "text/x-python",
   "name": "python",
   "nbconvert_exporter": "python",
   "pygments_lexer": "ipython3",
   "version": "3.9.5"
  }
 },
 "nbformat": 4,
 "nbformat_minor": 4
}
