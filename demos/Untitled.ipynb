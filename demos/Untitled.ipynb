{
 "cells": [
  {
   "cell_type": "markdown",
   "metadata": {},
   "source": [
    "## Finger demo\n",
    "Example of a fit to two fixed pcm-models\n",
    "The example of the models and data is taken from Ejaz et al. (2015).\n",
    "Nature Neuroscience: \"Hand usage predicts..\" \n",
    "We fit the follwoing 5 models \n",
    "* null: G=np.eye, all finger patterns are equally far away from each other, Note that in many situations the no-information null model, G = np.zeros, maybe , more appropriate   \n",
    "* Muscle: Fixed model with G = covariance of muscle activities \n",
    "* Natural: Fixed model with G = covariance of natural movements\n",
    "* Muscle+nat: Combination model of muscle and natural covariance \n",
    "* Noiseceil: Noise ceiling model "
   ]
  },
  {
   "cell_type": "code",
   "execution_count": 18,
   "metadata": {},
   "outputs": [],
   "source": [
    "# Import necessary libraries\n",
    "import PcmPy as pcm\n",
    "import numpy as np\n",
    "import pickle"
   ]
  },
  {
   "cell_type": "code",
   "execution_count": 19,
   "metadata": {},
   "outputs": [],
   "source": [
    "# Read in the activity Data, condition vector, partition vector, \n",
    "# and model matrices for Muscle (0) and Natural stats Models (M)\n",
    "f = open('data_demo_finger7T.p','rb')\n",
    "Data,cond_vec,part_vec,modelM = pickle.load(f)\n",
    "f.close()"
   ]
  },
  {
   "cell_type": "code",
   "execution_count": 20,
   "metadata": {},
   "outputs": [],
   "source": [
    "# Build the datasets from the Data and condition vectors \n",
    "Y = list()\n",
    "for i in range(len(Data)):\n",
    "    obs_des = {'cond_vec': cond_vec[i],\n",
    "               'part_vec': part_vec[i]}\n",
    "    Y.append(pcm.Dataset(Data[i],obs_descriptors = obs_des))"
   ]
  },
  {
   "cell_type": "code",
   "execution_count": 23,
   "metadata": {},
   "outputs": [],
   "source": [
    "# Build models from the second momement matrices\n",
    "M = []\n",
    "M.append(pcm.ModelFixed('null',np.eye(5)))\n",
    "M.append(pcm.ModelFixed('muscle',modelM[0]))\n",
    "M.append(pcm.ModelFixed('natural',modelM[1]))\n",
    "M.append(pcm.ModelComponent('muscle+nat',[modelM[0],modelM[1]]))"
   ]
  },
  {
   "cell_type": "code",
   "execution_count": 17,
   "metadata": {},
   "outputs": [
    {
     "data": {
      "text/plain": [
       "array([[1., 0., 0., 0., 0.],\n",
       "       [0., 1., 0., 0., 0.],\n",
       "       [0., 0., 1., 0., 0.],\n",
       "       [0., 0., 0., 1., 0.],\n",
       "       [0., 0., 0., 0., 1.]])"
      ]
     },
     "execution_count": 17,
     "metadata": {},
     "output_type": "execute_result"
    }
   ],
   "source": [
    "np.eye(5)"
   ]
  },
  {
   "cell_type": "code",
   "execution_count": null,
   "metadata": {},
   "outputs": [],
   "source": []
  }
 ],
 "metadata": {
  "kernelspec": {
   "display_name": "Python 3",
   "language": "python",
   "name": "python3"
  },
  "language_info": {
   "codemirror_mode": {
    "name": "ipython",
    "version": 3
   },
   "file_extension": ".py",
   "mimetype": "text/x-python",
   "name": "python",
   "nbconvert_exporter": "python",
   "pygments_lexer": "ipython3",
   "version": "3.7.6"
  }
 },
 "nbformat": 4,
 "nbformat_minor": 4
}
