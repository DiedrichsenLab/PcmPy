{
 "cells": [
  {
   "cell_type": "markdown",
   "source": [
    "# Correlation models \n",
    "This example shows how PCM can be used to test hypotheses about the correlation between two sets of activity patterns. For more information, see our [*Brain, Data, and Science* blog](http://diedrichsenlab.org/BrainDataScience/noisy_correlation) on this topic. In this example we will simulate data from a hypothetical experiment, in which participants either observe 3 hand gestures or execute the same 3 hand gestures. In this case we have three items (actions) observer under 2 conditions. We are interested in the average correlation between the patterns associtated with observing and execution action A, observing and execution action observing and execution action B, and observing and execution action C. In this, we would like to account for the general correlation between the average patterns of observing and executing. "
   ],
   "metadata": {}
  },
  {
   "cell_type": "code",
   "execution_count": 94,
   "source": [
    "# First import necessary libraries\n",
    "import PcmPy as pcm\n",
    "import numpy as np\n",
    "import pandas as pd\n",
    "import matplotlib.pyplot as plt\n",
    "import seaborn as sns\n",
    "from numpy import exp, sqrt\n",
    "import scipy.stats as ss"
   ],
   "outputs": [],
   "metadata": {}
  },
  {
   "cell_type": "markdown",
   "source": [
    "## Data simulation\n",
    "First, we make our true model - one where the all action are equally stronly encoded in each conditions - but where the strength of encoding can differ between condition - certainly it is expected to be smaller during observation than during execution. We also model the covariance between items within condition with a condition effect.\n",
    "Let's say the correlation is 0.7. "
   ],
   "metadata": {}
  },
  {
   "cell_type": "code",
   "execution_count": 95,
   "source": [
    "Mtrue = pcm.CorrelationModel('corr',num_items=3, corr=0.7, cond_effect=True, within_cov=None)\n",
    "print(f\"The model has {Mtrue.n_param} hyper parameters\")"
   ],
   "outputs": [
    {
     "output_type": "stream",
     "name": "stdout",
     "text": [
      "The model has 4 hyper parameters\n"
     ]
    }
   ],
   "metadata": {}
  },
  {
   "cell_type": "markdown",
   "source": [
    "These four parameters are concerned with the condition effect and item effects for observation and execution respectively. Visualizing the components of the second moment mattrix helps to understand this.  "
   ],
   "metadata": {}
  },
  {
   "cell_type": "code",
   "execution_count": 96,
   "source": [
    "H = Mtrue.n_param\n",
    "for i in range(H):\n",
    "    plt.subplot(1,H,i+1)\n",
    "    plt.imshow(Mtrue.Gc[i,:,:])"
   ],
   "outputs": [
    {
     "output_type": "display_data",
     "data": {
      "image/png": "[encoded data removed]",
      "text/plain": [
       "<Figure size 432x288 with 4 Axes>"
      ]
     },
     "metadata": {
      "needs_background": "light"
     }
    }
   ],
   "metadata": {}
  },
  {
   "cell_type": "markdown",
   "source": [
    "To Simulate a data set, we need to make a design. Let's assume we measure the 6 trial types in 8 imaging runs and submit the beta-values from each run to the model as $\\mathbf{Y}$. \n",
    "\n",
    "We then generate a data set where there is a strong effect of both observation (exp(0)) and execution (exp(1)) \n",
    "The item effects for observation (exp(-1.5)) and execution ((exp(-1))) are pretty weak in comparision, as it typical \n",
    "Note that all hyper parameters are log(variances) - this helps us to keep variances positive and the math easy. "
   ],
   "metadata": {}
  },
  {
   "cell_type": "code",
   "execution_count": 97,
   "source": [
    "\n",
    "# Make the design in this case it's 8 runs, 6 conditions!\n",
    "cond_vec,part_vec = pcm.sim.make_design(6,8)\n",
    "# Generate 20 data sets with pretty low signal to noise (1:10)\n",
    "D = pcm.sim.make_dataset(Mtrue, [0,0.5,-0.5,-0.5], cond_vec, part_vec=part_vec,n_sim=12, signal=0.4)\n",
    "    "
   ],
   "outputs": [],
   "metadata": {}
  },
  {
   "cell_type": "markdown",
   "source": [
    "As a quick check, let's plot the predicted second moment matrix of our model (for the simulation parameters) and the crossvalidated estimate from the first data set. "
   ],
   "metadata": {}
  },
  {
   "cell_type": "code",
   "execution_count": 98,
   "source": [
    " # Get the predicted G-matrix \n",
    " G,_ = Mtrue.predict([0,0.5,-0.5,-0.5])\n",
    "# The estimated G-matrix from the data \n",
    "trial_type = D[1].obs_descriptors['cond_vec']\n",
    "G_hat,_ = pcm.util.est_G_crossval(D[1].measurements,trial_type,part_vec)\n",
    "plt.subplot(1,2,1)\n",
    "plt.imshow(G)\n",
    "plt.title('predicted')\n",
    "plt.subplot(1,2,2)\n",
    "plt.imshow(G_hat)\n",
    "plt.title('data set')\n",
    "\n"
   ],
   "outputs": [
    {
     "output_type": "execute_result",
     "data": {
      "text/plain": [
       "Text(0.5, 1.0, 'data set')"
      ]
     },
     "metadata": {},
     "execution_count": 98
    },
    {
     "output_type": "display_data",
     "data": {
      "image/png": "[encoded data removed]",
      "text/plain": [
       "<Figure size 432x288 with 2 Axes>"
      ]
     },
     "metadata": {
      "needs_background": "light"
     }
    }
   ],
   "metadata": {}
  },
  {
   "cell_type": "markdown",
   "source": [
    "## Fitting the data \n",
    "Now we are fitting these data sets with a range of models assuming a correlation between -1 and 1. The other parameters will still be included, like in the true model. \n",
    "We also include a flexible correlation model, which has a additional free parameter that model the correlation. "
   ],
   "metadata": {}
  },
  {
   "cell_type": "code",
   "execution_count": 99,
   "source": [
    "nsteps=21 # 21 models  \n",
    "M=[]\n",
    "# Generate the models equally spaced between -1 and 1 \n",
    "for r in np.linspace(-1,1,nsteps):\n",
    "    M.append(pcm.CorrelationModel(f\"{r:0.2f}\",num_items=3,corr=r,cond_effect=True))\n",
    "# Now make the flexible model \n",
    "Mflex = pcm.CorrelationModel(\"flex\",num_items=3,corr=None,cond_effect=True)\n",
    "M.append(Mflex)"
   ],
   "outputs": [],
   "metadata": {}
  },
  {
   "cell_type": "markdown",
   "source": [
    "We can now fit the model to the data sets in one go. The resulting data frame `T` has the log-likelihoods for each model / data set. The second return argument `theta` contains the parameters for each model fit. "
   ],
   "metadata": {}
  },
  {
   "cell_type": "code",
   "execution_count": 100,
   "source": [
    " # In this case we model the block effect as a mixed effect - we don't need to include a scale parameter, as we don't have a fixed model \n",
    "T,theta = pcm.inference.fit_model_individ(D,M,fixed_effect='block',fit_scale=False,verbose=False)\n",
    "\n",
    "T"
   ],
   "outputs": [
    {
     "output_type": "execute_result",
     "data": {
      "text/html": [
       "<div>\n",
       "<style scoped>\n",
       "    .dataframe tbody tr th:only-of-type {\n",
       "        vertical-align: middle;\n",
       "    }\n",
       "\n",
       "    .dataframe tbody tr th {\n",
       "        vertical-align: top;\n",
       "    }\n",
       "\n",
       "    .dataframe thead tr th {\n",
       "        text-align: left;\n",
       "    }\n",
       "</style>\n",
       "<table border=\"1\" class=\"dataframe\">\n",
       "  <thead>\n",
       "    <tr>\n",
       "      <th>variable</th>\n",
       "      <th colspan=\"10\" halign=\"left\">likelihood</th>\n",
       "      <th>...</th>\n",
       "      <th colspan=\"10\" halign=\"left\">iterations</th>\n",
       "    </tr>\n",
       "    <tr>\n",
       "      <th>model</th>\n",
       "      <th>-1.00</th>\n",
       "      <th>-0.90</th>\n",
       "      <th>-0.80</th>\n",
       "      <th>-0.70</th>\n",
       "      <th>-0.60</th>\n",
       "      <th>-0.50</th>\n",
       "      <th>-0.40</th>\n",
       "      <th>-0.30</th>\n",
       "      <th>-0.20</th>\n",
       "      <th>-0.10</th>\n",
       "      <th>...</th>\n",
       "      <th>0.20</th>\n",
       "      <th>0.30</th>\n",
       "      <th>0.40</th>\n",
       "      <th>0.50</th>\n",
       "      <th>0.60</th>\n",
       "      <th>0.70</th>\n",
       "      <th>0.80</th>\n",
       "      <th>0.90</th>\n",
       "      <th>1.00</th>\n",
       "      <th>flex</th>\n",
       "    </tr>\n",
       "  </thead>\n",
       "  <tbody>\n",
       "    <tr>\n",
       "      <th>0</th>\n",
       "      <td>-929.209717</td>\n",
       "      <td>-929.209717</td>\n",
       "      <td>-929.209717</td>\n",
       "      <td>-934.873523</td>\n",
       "      <td>-929.204222</td>\n",
       "      <td>-924.722496</td>\n",
       "      <td>-921.063430</td>\n",
       "      <td>-917.990055</td>\n",
       "      <td>-915.352987</td>\n",
       "      <td>-913.054804</td>\n",
       "      <td>...</td>\n",
       "      <td>6.0</td>\n",
       "      <td>6.0</td>\n",
       "      <td>6.0</td>\n",
       "      <td>6.0</td>\n",
       "      <td>6.0</td>\n",
       "      <td>6.0</td>\n",
       "      <td>6.0</td>\n",
       "      <td>6.0</td>\n",
       "      <td>6.0</td>\n",
       "      <td>6.0</td>\n",
       "    </tr>\n",
       "    <tr>\n",
       "      <th>1</th>\n",
       "      <td>-935.493289</td>\n",
       "      <td>-935.493289</td>\n",
       "      <td>-949.597768</td>\n",
       "      <td>-940.101664</td>\n",
       "      <td>-933.277698</td>\n",
       "      <td>-928.003905</td>\n",
       "      <td>-923.715509</td>\n",
       "      <td>-920.105202</td>\n",
       "      <td>-916.989494</td>\n",
       "      <td>-914.251292</td>\n",
       "      <td>...</td>\n",
       "      <td>6.0</td>\n",
       "      <td>6.0</td>\n",
       "      <td>6.0</td>\n",
       "      <td>6.0</td>\n",
       "      <td>6.0</td>\n",
       "      <td>6.0</td>\n",
       "      <td>6.0</td>\n",
       "      <td>6.0</td>\n",
       "      <td>6.0</td>\n",
       "      <td>6.0</td>\n",
       "    </tr>\n",
       "    <tr>\n",
       "      <th>2</th>\n",
       "      <td>-910.374064</td>\n",
       "      <td>-910.374064</td>\n",
       "      <td>-916.922616</td>\n",
       "      <td>-909.527554</td>\n",
       "      <td>-904.084439</td>\n",
       "      <td>-899.928281</td>\n",
       "      <td>-896.621752</td>\n",
       "      <td>-893.915161</td>\n",
       "      <td>-891.658060</td>\n",
       "      <td>-889.755755</td>\n",
       "      <td>...</td>\n",
       "      <td>6.0</td>\n",
       "      <td>6.0</td>\n",
       "      <td>6.0</td>\n",
       "      <td>6.0</td>\n",
       "      <td>6.0</td>\n",
       "      <td>6.0</td>\n",
       "      <td>6.0</td>\n",
       "      <td>6.0</td>\n",
       "      <td>6.0</td>\n",
       "      <td>6.0</td>\n",
       "    </tr>\n",
       "    <tr>\n",
       "      <th>3</th>\n",
       "      <td>-915.863663</td>\n",
       "      <td>-915.863663</td>\n",
       "      <td>-915.863663</td>\n",
       "      <td>-922.549177</td>\n",
       "      <td>-916.074983</td>\n",
       "      <td>-911.036979</td>\n",
       "      <td>-906.932361</td>\n",
       "      <td>-903.475843</td>\n",
       "      <td>-900.494554</td>\n",
       "      <td>-897.877419</td>\n",
       "      <td>...</td>\n",
       "      <td>6.0</td>\n",
       "      <td>6.0</td>\n",
       "      <td>6.0</td>\n",
       "      <td>6.0</td>\n",
       "      <td>6.0</td>\n",
       "      <td>6.0</td>\n",
       "      <td>6.0</td>\n",
       "      <td>6.0</td>\n",
       "      <td>6.0</td>\n",
       "      <td>6.0</td>\n",
       "    </tr>\n",
       "    <tr>\n",
       "      <th>4</th>\n",
       "      <td>-926.741026</td>\n",
       "      <td>-926.741026</td>\n",
       "      <td>-926.741026</td>\n",
       "      <td>-929.789280</td>\n",
       "      <td>-923.933970</td>\n",
       "      <td>-919.449486</td>\n",
       "      <td>-915.861428</td>\n",
       "      <td>-912.901810</td>\n",
       "      <td>-910.409700</td>\n",
       "      <td>-908.283527</td>\n",
       "      <td>...</td>\n",
       "      <td>6.0</td>\n",
       "      <td>6.0</td>\n",
       "      <td>6.0</td>\n",
       "      <td>6.0</td>\n",
       "      <td>6.0</td>\n",
       "      <td>6.0</td>\n",
       "      <td>6.0</td>\n",
       "      <td>6.0</td>\n",
       "      <td>6.0</td>\n",
       "      <td>6.0</td>\n",
       "    </tr>\n",
       "    <tr>\n",
       "      <th>5</th>\n",
       "      <td>-972.712847</td>\n",
       "      <td>-972.712847</td>\n",
       "      <td>-982.354871</td>\n",
       "      <td>-972.942003</td>\n",
       "      <td>-966.326855</td>\n",
       "      <td>-961.279633</td>\n",
       "      <td>-957.224869</td>\n",
       "      <td>-953.854514</td>\n",
       "      <td>-950.986784</td>\n",
       "      <td>-948.507327</td>\n",
       "      <td>...</td>\n",
       "      <td>6.0</td>\n",
       "      <td>6.0</td>\n",
       "      <td>6.0</td>\n",
       "      <td>6.0</td>\n",
       "      <td>6.0</td>\n",
       "      <td>6.0</td>\n",
       "      <td>6.0</td>\n",
       "      <td>6.0</td>\n",
       "      <td>6.0</td>\n",
       "      <td>6.0</td>\n",
       "    </tr>\n",
       "    <tr>\n",
       "      <th>6</th>\n",
       "      <td>-978.353628</td>\n",
       "      <td>-978.353628</td>\n",
       "      <td>-988.314095</td>\n",
       "      <td>-980.420978</td>\n",
       "      <td>-974.530629</td>\n",
       "      <td>-969.987779</td>\n",
       "      <td>-966.329364</td>\n",
       "      <td>-963.290944</td>\n",
       "      <td>-960.712542</td>\n",
       "      <td>-958.492358</td>\n",
       "      <td>...</td>\n",
       "      <td>6.0</td>\n",
       "      <td>6.0</td>\n",
       "      <td>6.0</td>\n",
       "      <td>6.0</td>\n",
       "      <td>6.0</td>\n",
       "      <td>6.0</td>\n",
       "      <td>6.0</td>\n",
       "      <td>6.0</td>\n",
       "      <td>6.0</td>\n",
       "      <td>6.0</td>\n",
       "    </tr>\n",
       "    <tr>\n",
       "      <th>7</th>\n",
       "      <td>-928.210854</td>\n",
       "      <td>-928.210854</td>\n",
       "      <td>-928.210854</td>\n",
       "      <td>-928.348329</td>\n",
       "      <td>-923.904975</td>\n",
       "      <td>-920.473523</td>\n",
       "      <td>-917.758436</td>\n",
       "      <td>-915.566014</td>\n",
       "      <td>-913.774532</td>\n",
       "      <td>-912.306584</td>\n",
       "      <td>...</td>\n",
       "      <td>6.0</td>\n",
       "      <td>6.0</td>\n",
       "      <td>6.0</td>\n",
       "      <td>6.0</td>\n",
       "      <td>6.0</td>\n",
       "      <td>6.0</td>\n",
       "      <td>6.0</td>\n",
       "      <td>7.0</td>\n",
       "      <td>7.0</td>\n",
       "      <td>6.0</td>\n",
       "    </tr>\n",
       "    <tr>\n",
       "      <th>8</th>\n",
       "      <td>-907.783203</td>\n",
       "      <td>-907.783203</td>\n",
       "      <td>-907.783203</td>\n",
       "      <td>-907.783203</td>\n",
       "      <td>-910.587418</td>\n",
       "      <td>-907.705963</td>\n",
       "      <td>-905.197955</td>\n",
       "      <td>-903.044660</td>\n",
       "      <td>-901.187098</td>\n",
       "      <td>-899.574920</td>\n",
       "      <td>...</td>\n",
       "      <td>6.0</td>\n",
       "      <td>6.0</td>\n",
       "      <td>6.0</td>\n",
       "      <td>6.0</td>\n",
       "      <td>6.0</td>\n",
       "      <td>6.0</td>\n",
       "      <td>6.0</td>\n",
       "      <td>6.0</td>\n",
       "      <td>6.0</td>\n",
       "      <td>6.0</td>\n",
       "    </tr>\n",
       "    <tr>\n",
       "      <th>9</th>\n",
       "      <td>-899.011095</td>\n",
       "      <td>-899.011095</td>\n",
       "      <td>-910.152979</td>\n",
       "      <td>-902.231905</td>\n",
       "      <td>-896.200321</td>\n",
       "      <td>-891.517437</td>\n",
       "      <td>-887.722789</td>\n",
       "      <td>-884.550160</td>\n",
       "      <td>-881.837482</td>\n",
       "      <td>-879.480889</td>\n",
       "      <td>...</td>\n",
       "      <td>6.0</td>\n",
       "      <td>6.0</td>\n",
       "      <td>6.0</td>\n",
       "      <td>6.0</td>\n",
       "      <td>6.0</td>\n",
       "      <td>6.0</td>\n",
       "      <td>6.0</td>\n",
       "      <td>6.0</td>\n",
       "      <td>6.0</td>\n",
       "      <td>6.0</td>\n",
       "    </tr>\n",
       "    <tr>\n",
       "      <th>10</th>\n",
       "      <td>-956.937842</td>\n",
       "      <td>-956.937842</td>\n",
       "      <td>-956.937842</td>\n",
       "      <td>-956.937842</td>\n",
       "      <td>-956.937842</td>\n",
       "      <td>-958.936919</td>\n",
       "      <td>-957.092429</td>\n",
       "      <td>-955.381725</td>\n",
       "      <td>-953.866640</td>\n",
       "      <td>-952.536593</td>\n",
       "      <td>...</td>\n",
       "      <td>6.0</td>\n",
       "      <td>6.0</td>\n",
       "      <td>6.0</td>\n",
       "      <td>6.0</td>\n",
       "      <td>6.0</td>\n",
       "      <td>6.0</td>\n",
       "      <td>6.0</td>\n",
       "      <td>6.0</td>\n",
       "      <td>6.0</td>\n",
       "      <td>6.0</td>\n",
       "    </tr>\n",
       "    <tr>\n",
       "      <th>11</th>\n",
       "      <td>-937.640632</td>\n",
       "      <td>-937.640632</td>\n",
       "      <td>-937.640632</td>\n",
       "      <td>-945.249976</td>\n",
       "      <td>-938.372589</td>\n",
       "      <td>-933.060798</td>\n",
       "      <td>-928.745148</td>\n",
       "      <td>-925.115367</td>\n",
       "      <td>-921.986312</td>\n",
       "      <td>-919.239996</td>\n",
       "      <td>...</td>\n",
       "      <td>6.0</td>\n",
       "      <td>6.0</td>\n",
       "      <td>6.0</td>\n",
       "      <td>6.0</td>\n",
       "      <td>6.0</td>\n",
       "      <td>6.0</td>\n",
       "      <td>6.0</td>\n",
       "      <td>6.0</td>\n",
       "      <td>6.0</td>\n",
       "      <td>6.0</td>\n",
       "    </tr>\n",
       "  </tbody>\n",
       "</table>\n",
       "<p>12 rows × 66 columns</p>\n",
       "</div>"
      ],
      "text/plain": [
       "variable  likelihood                                                  \\\n",
       "model          -1.00       -0.90       -0.80       -0.70       -0.60   \n",
       "0        -929.209717 -929.209717 -929.209717 -934.873523 -929.204222   \n",
       "1        -935.493289 -935.493289 -949.597768 -940.101664 -933.277698   \n",
       "2        -910.374064 -910.374064 -916.922616 -909.527554 -904.084439   \n",
       "3        -915.863663 -915.863663 -915.863663 -922.549177 -916.074983   \n",
       "4        -926.741026 -926.741026 -926.741026 -929.789280 -923.933970   \n",
       "5        -972.712847 -972.712847 -982.354871 -972.942003 -966.326855   \n",
       "6        -978.353628 -978.353628 -988.314095 -980.420978 -974.530629   \n",
       "7        -928.210854 -928.210854 -928.210854 -928.348329 -923.904975   \n",
       "8        -907.783203 -907.783203 -907.783203 -907.783203 -910.587418   \n",
       "9        -899.011095 -899.011095 -910.152979 -902.231905 -896.200321   \n",
       "10       -956.937842 -956.937842 -956.937842 -956.937842 -956.937842   \n",
       "11       -937.640632 -937.640632 -937.640632 -945.249976 -938.372589   \n",
       "\n",
       "variable                                                              ...  \\\n",
       "model          -0.50       -0.40       -0.30       -0.20       -0.10  ...   \n",
       "0        -924.722496 -921.063430 -917.990055 -915.352987 -913.054804  ...   \n",
       "1        -928.003905 -923.715509 -920.105202 -916.989494 -914.251292  ...   \n",
       "2        -899.928281 -896.621752 -893.915161 -891.658060 -889.755755  ...   \n",
       "3        -911.036979 -906.932361 -903.475843 -900.494554 -897.877419  ...   \n",
       "4        -919.449486 -915.861428 -912.901810 -910.409700 -908.283527  ...   \n",
       "5        -961.279633 -957.224869 -953.854514 -950.986784 -948.507327  ...   \n",
       "6        -969.987779 -966.329364 -963.290944 -960.712542 -958.492358  ...   \n",
       "7        -920.473523 -917.758436 -915.566014 -913.774532 -912.306584  ...   \n",
       "8        -907.705963 -905.197955 -903.044660 -901.187098 -899.574920  ...   \n",
       "9        -891.517437 -887.722789 -884.550160 -881.837482 -879.480889  ...   \n",
       "10       -958.936919 -957.092429 -955.381725 -953.866640 -952.536593  ...   \n",
       "11       -933.060798 -928.745148 -925.115367 -921.986312 -919.239996  ...   \n",
       "\n",
       "variable iterations                                               \n",
       "model          0.20 0.30 0.40 0.50 0.60 0.70 0.80 0.90 1.00 flex  \n",
       "0               6.0  6.0  6.0  6.0  6.0  6.0  6.0  6.0  6.0  6.0  \n",
       "1               6.0  6.0  6.0  6.0  6.0  6.0  6.0  6.0  6.0  6.0  \n",
       "2               6.0  6.0  6.0  6.0  6.0  6.0  6.0  6.0  6.0  6.0  \n",
       "3               6.0  6.0  6.0  6.0  6.0  6.0  6.0  6.0  6.0  6.0  \n",
       "4               6.0  6.0  6.0  6.0  6.0  6.0  6.0  6.0  6.0  6.0  \n",
       "5               6.0  6.0  6.0  6.0  6.0  6.0  6.0  6.0  6.0  6.0  \n",
       "6               6.0  6.0  6.0  6.0  6.0  6.0  6.0  6.0  6.0  6.0  \n",
       "7               6.0  6.0  6.0  6.0  6.0  6.0  6.0  7.0  7.0  6.0  \n",
       "8               6.0  6.0  6.0  6.0  6.0  6.0  6.0  6.0  6.0  6.0  \n",
       "9               6.0  6.0  6.0  6.0  6.0  6.0  6.0  6.0  6.0  6.0  \n",
       "10              6.0  6.0  6.0  6.0  6.0  6.0  6.0  6.0  6.0  6.0  \n",
       "11              6.0  6.0  6.0  6.0  6.0  6.0  6.0  6.0  6.0  6.0  \n",
       "\n",
       "[12 rows x 66 columns]"
      ]
     },
     "metadata": {},
     "execution_count": 100
    }
   ],
   "metadata": {}
  },
  {
   "cell_type": "markdown",
   "source": [
    "## Interpreting the Fit \n",
    "Not that the absolute values of the log-likelihoods doesn't mean much - so we first will remove the mean likelihood for each, expressing each as the differences against the mean. Then we plot the full log-likelihood curves and the maximum likelihood estimate of the correlation for each person. We can also add the mean log-likelihood curve."
   ],
   "metadata": {}
  },
  {
   "cell_type": "code",
   "execution_count": 101,
   "source": [
    "L = T.likelihood.to_numpy()\n",
    "\n",
    "# express log-liklihoods relative to mean \n",
    "L = L - L.mean(axis=1).reshape(-1,1)\n",
    "maxL = L[:,-1] # Last model is the flexible \n",
    "L = L[:,0:-1] # REmove it \n",
    "\n",
    "# Get the correlation for each of the models\n",
    "r = np.empty((nsteps,))\n",
    "for i in range(nsteps):\n",
    "    r[i]= M[i].corr\n",
    "\n",
    "# Get the maximum likelihood estimate of each parameter \n",
    "maxr = M[-1].get_correlation(theta[-1])\n",
    "\n",
    "# Now we make the plot \n",
    "plt.plot(r,L.T,color='gray', marker=None, linewidth=1)\n",
    "plt.plot(maxr,maxL,'k.',markersize=12)\n",
    "plt.plot(r,L.mean(axis=0),'k:')\n",
    "plt.axvline(maxr.mean())\n",
    "plt.xlabel('correlation')\n",
    "plt.ylabel('log-likelihood')"
   ],
   "outputs": [
    {
     "output_type": "execute_result",
     "data": {
      "text/plain": [
       "Text(0, 0.5, 'log-likelihood')"
      ]
     },
     "metadata": {},
     "execution_count": 101
    },
    {
     "output_type": "display_data",
     "data": {
      "image/png": "[encoded data removed]",
      "text/plain": [
       "<Figure size 432x288 with 1 Axes>"
      ]
     },
     "metadata": {
      "needs_background": "light"
     }
    }
   ],
   "metadata": {}
  },
  {
   "cell_type": "markdown",
   "source": [
    "As we can see, the maximum likelihood estimates behave quite well, bit the mean of the maximum likelihood estimates is not exactly where the maximum of the mean (or group) likelihood lies. \n",
    "\n",
    "One way to use the log-liklihoods is to do a paired t-test between the log-likelihoods for two correlation values - for example 0.70 vs 0.3"
   ],
   "metadata": {}
  },
  {
   "cell_type": "code",
   "execution_count": 102,
   "source": [
    "print(f\"Testing correlation of {r[13]:0.2f} against {r[17]:0.2f}\")\n",
    "R1=ss.ttest_rel(L[:,13],L[:,17])\n",
    "print(R1)"
   ],
   "outputs": [
    {
     "output_type": "stream",
     "name": "stdout",
     "text": [
      "Testing correlation of 0.30 against 0.70\n",
      "Ttest_relResult(statistic=-4.778397455821559, pvalue=0.0005728885286022233)\n"
     ]
    }
   ],
   "metadata": {}
  },
  {
   "cell_type": "markdown",
   "source": [
    "Alternatively, we can transform the log-likelihoods in approximate posterior distributions, and proceed with a Full Bayesian group analysis. \n",
    "For more accurate results, you probably want to space your correlation models more tightly."
   ],
   "metadata": {}
  },
  {
   "cell_type": "code",
   "execution_count": 103,
   "source": [
    "P = exp(L) # Take the exponential \n",
    "P = P / P.sum(axis=1).reshape(-1,1) # Normalize to 1 over domain \n",
    "plt.plot(r,P.T,color='gray', marker=None, linewidth=1)\n",
    "plt.xlabel('correlation')\n",
    "plt.ylabel('posterior probability')\n"
   ],
   "outputs": [
    {
     "output_type": "execute_result",
     "data": {
      "text/plain": [
       "Text(0, 0.5, 'posterior probability')"
      ]
     },
     "metadata": {},
     "execution_count": 103
    },
    {
     "output_type": "display_data",
     "data": {
      "image/png": "[encoded data removed]",
      "text/plain": [
       "<Figure size 432x288 with 1 Axes>"
      ]
     },
     "metadata": {
      "needs_background": "light"
     }
    }
   ],
   "metadata": {}
  }
 ],
 "metadata": {
  "kernelspec": {
   "name": "python3",
   "display_name": "Python 3.9.5 64-bit ('base': conda)"
  },
  "language_info": {
   "codemirror_mode": {
    "name": "ipython",
    "version": 3
   },
   "file_extension": ".py",
   "mimetype": "text/x-python",
   "name": "python",
   "nbconvert_exporter": "python",
   "pygments_lexer": "ipython3",
   "version": "3.9.5"
  },
  "interpreter": {
   "hash": "569d6b7e9215e11aba41c6454007e5c1b78bad7df09dab765d8cf00362c40f03"
  }
 },
 "nbformat": 4,
 "nbformat_minor": 4
}