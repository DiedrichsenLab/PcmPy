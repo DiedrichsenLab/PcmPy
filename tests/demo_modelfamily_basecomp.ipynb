{
 "cells": [
  {
   "cell_type": "code",
   "execution_count": 1,
   "metadata": {},
   "outputs": [],
   "source": [
    "from pathlib import Path\n",
    "import scipy.io as sio\n",
    "import numpy as np\n",
    "import PcmPy as pcm\n",
    "import matplotlib.pyplot as plt"
   ]
  },
  {
   "cell_type": "code",
   "execution_count": 2,
   "metadata": {},
   "outputs": [],
   "source": [
    "# directories\n",
    "glm = 8\n",
    "base_dir = '/Volumes/diedrichsen_data$/data/SequenceAndChord/OnlinePlanning/op2'\n",
    "if not Path(base_dir).exists():\n",
    "    base_dir = '/srv/diedrichsen/data/SequenceAndChord/OnlinePlanning/op2'\n",
    "roi_dir = base_dir + '/ROI'\n",
    "glm_dir = base_dir + f'/glm_{glm}'\n",
    "\n",
    "parcelType = 'Brodmann'\n",
    "subj_vec = np.arange(22)\n",
    "nroi = 16\n",
    "n_cond = 10\n",
    "\n",
    "data_name = Path(f'{roi_dir}/betas_glm{glm}_{parcelType}_{nroi}ROIs_N={len(subj_vec)}.mat')\n",
    "T = sio.loadmat(data_name,simplify_cells=True)"
   ]
  },
  {
   "cell_type": "code",
   "execution_count": 3,
   "metadata": {},
   "outputs": [],
   "source": [
    "Y = list()\n",
    "\n",
    "roi = 7 # spla\n",
    "hem = 1 # left hemisphere\n",
    "\n",
    "for s in subj_vec:\n",
    "    \n",
    "    subj_name = \"s{:02d}\".format(s+1)\n",
    "    info_name = Path(f'{glm_dir}/{subj_name}/SPM_info.mat')\n",
    "    \n",
    "    # spm_info for each subject\n",
    "    D = sio.loadmat(info_name,simplify_cells=True)\n",
    "\n",
    "    mask = ((T['ROI_type']==roi) & (T['ROI_side']==hem) & (T['SN']==s+1))\n",
    "    data = T['betaW'][np.where(mask)][0]\n",
    "\n",
    "    # get rid of instruction regressor\n",
    "    data = data[np.where(D['cond']<(n_cond+1))[0],:]\n",
    "\n",
    "    [cond_vec,part_vec] = pcm.sim.make_design(n_cond,np.int32(data.shape[0]/n_cond))\n",
    "\n",
    "    obs_des = {'cond_vec': cond_vec,\n",
    "               'part_vec': part_vec}\n",
    "\n",
    "\n",
    "    Y.append(pcm.dataset.Dataset(data,obs_descriptors = obs_des))"
   ]
  },
  {
   "cell_type": "code",
   "execution_count": 4,
   "metadata": {},
   "outputs": [],
   "source": [
    "# Estimate and plot the second moment matrices across all subjects\n",
    "N=len(Y)\n",
    "G_hat = np.zeros((N,n_cond,n_cond))\n",
    "for i in range(0,N):\n",
    "    G_hat[i,:,:],_ = pcm.est_G_crossval(Y[i].measurements,\n",
    "                            Y[i].obs_descriptors['cond_vec'],\n",
    "                            Y[i].obs_descriptors['part_vec'],\n",
    "                            X=pcm.matrix.indicator(Y[i].obs_descriptors['part_vec']))"
   ]
  },
  {
   "cell_type": "code",
   "execution_count": 5,
   "metadata": {},
   "outputs": [],
   "source": [
    "T = np.block([[np.zeros((5,5)),np.eye(5)],[np.eye(5),np.zeros((5,5))]])\n",
    "\n",
    "Gc = np.zeros((2,n_cond,n_cond))\n",
    "\n",
    "# built the component model based on half of the subjects\n",
    "Gc[0] = np.mean(G_hat[::2],axis=0)\n",
    "Gc[1] = T@Gc[0]@T.T\n",
    "\n",
    "base = np.zeros((1,n_cond,n_cond))\n",
    "base[0] = np.block([[np.ones((5,5)),np.zeros((5,5))],[np.zeros((5,5)),np.ones((5,5))]])\n",
    "\n",
    "MF = pcm.model.ModelFamily(Gc,comp_names=['press','cue'],basecomponents=base)"
   ]
  },
  {
   "cell_type": "code",
   "execution_count": 6,
   "metadata": {},
   "outputs": [
    {
     "data": {
      "image/png": "[encoded data removed]",
      "text/plain": [
       "<Figure size 432x288 with 2 Axes>"
      ]
     },
     "metadata": {
      "needs_background": "light"
     },
     "output_type": "display_data"
    }
   ],
   "source": [
    "# Show the three model components\n",
    "for i in range(2):\n",
    "    ax = plt.subplot(1,2,i+1)\n",
    "    plt.imshow(Gc[i])\n",
    "    ax.get_xaxis().set_visible(False)\n",
    "    ax.get_yaxis().set_visible(False)\n",
    "    plt.title(MF.comp_names[i])"
   ]
  },
  {
   "cell_type": "code",
   "execution_count": 7,
   "metadata": {},
   "outputs": [
    {
     "data": {
      "text/plain": [
       "<AxesSubplot:xlabel='model', ylabel='Log Bayes Factor'>"
      ]
     },
     "execution_count": 7,
     "metadata": {},
     "output_type": "execute_result"
    },
    {
     "data": {
      "image/png": "[encoded data removed]",
      "text/plain": [
       "<Figure size 432x288 with 1 Axes>"
      ]
     },
     "metadata": {
      "needs_background": "light"
     },
     "output_type": "display_data"
    }
   ],
   "source": [
    "# Fit \n",
    "T,theta = pcm.fit_model_individ(Y[1::2],MF,verbose=False,fixed_effect='block',fit_scale=False)\n",
    "pcm.vis.model_plot(T.likelihood-MF.num_comp_per_m)"
   ]
  },
  {
   "cell_type": "code",
   "execution_count": 8,
   "metadata": {},
   "outputs": [
    {
     "data": {
      "image/png": "[encoded data removed]",
      "text/plain": [
       "<Figure size 288x216 with 1 Axes>"
      ]
     },
     "metadata": {
      "needs_background": "light"
     },
     "output_type": "display_data"
    }
   ],
   "source": [
    "# Component Bayes Factor \n",
    "plt.figure(figsize=(4,3))\n",
    "c_bf = MF.component_bayesfactor(T.likelihood,method='AIC',format='DataFrame')\n",
    "pcm.vis.plot_component(c_bf,type='bf')"
   ]
  }
 ],
 "metadata": {
  "kernelspec": {
   "display_name": "Python 3.8.5 ('base')",
   "language": "python",
   "name": "python3"
  },
  "language_info": {
   "codemirror_mode": {
    "name": "ipython",
    "version": 3
   },
   "file_extension": ".py",
   "mimetype": "text/x-python",
   "name": "python",
   "nbconvert_exporter": "python",
   "pygments_lexer": "ipython3",
   "version": "3.8.5"
  },
  "orig_nbformat": 4,
  "vscode": {
   "interpreter": {
    "hash": "82c9595c6ac3df5bed1366f4aa85323e4ec1b3448185f6be6e163d2b6e222f49"
   }
  }
 },
 "nbformat": 4,
 "nbformat_minor": 2
}
