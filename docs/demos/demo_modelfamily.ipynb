{
 "cells": [
  {
   "cell_type": "markdown",
   "metadata": {},
   "source": [
    "# Component inference and model families \n",
    "\n",
    "This notebook shows a series of examples of how to use model families and component inference with PCM."
   ]
  },
  {
   "cell_type": "code",
   "execution_count": 1,
   "metadata": {},
   "outputs": [],
   "source": [
    "# Import necessary libraries\n",
    "import PcmPy as pcm\n",
    "import numpy as np\n",
    "import matplotlib.pyplot as plt\n",
    "import seaborn as sb"
   ]
  },
  {
   "cell_type": "markdown",
   "metadata": {},
   "source": [
    "## Simple 3 x 2 Anova\n",
    "A classical example is a fully crossed design with two factors (A and B) and the possibility for an interaction between those two factors. "
   ]
  },
  {
   "cell_type": "markdown",
   "metadata": {},
   "source": [
    "#### Building a model family"
   ]
  },
  {
   "cell_type": "code",
   "execution_count": 2,
   "metadata": {},
   "outputs": [],
   "source": [
    "# Generate the three model components, each one as a fixed model\n",
    "M = []\n",
    "A = np.array([[1.0,0,0],[1,0,0],[0,1,0],[0,1,0],[0,0,1],[0,0,1]])\n",
    "B = np.array([[1.0,0],[0,1],[1,0],[0,1],[1,0],[0,1]])\n",
    "M.append(pcm.FixedModel('A',A@A.T))\n",
    "M.append(pcm.FixedModel('B',B@B.T))\n",
    "M.append(pcm.FixedModel('I',np.eye(6)))\n",
    "# Then construct a model family of all possible combinations \n",
    "MF=pcm.model.ModelFamily(M)"
   ]
  },
  {
   "cell_type": "code",
   "execution_count": 3,
   "metadata": {},
   "outputs": [
    {
     "data": {
      "image/png": "[encoded data removed]",
      "text/plain": [
       "<Figure size 432x288 with 3 Axes>"
      ]
     },
     "metadata": {
      "needs_background": "light"
     },
     "output_type": "display_data"
    }
   ],
   "source": [
    "# Show the three model components\n",
    "for i in range(3):\n",
    "    ax = plt.subplot(1,3,i+1)\n",
    "    plt.imshow(M[i].G)\n",
    "    ax.get_xaxis().set_visible(False)\n",
    "    ax.get_yaxis().set_visible(False)\n",
    "    plt.title(M[i].name)"
   ]
  },
  {
   "cell_type": "markdown",
   "metadata": {},
   "source": [
    "Note that no effort was made here to remove any of the overlap between the categories. That is, the interaction can explain all possible differences between stimuli, also differences that could be attributed to A and B. "
   ]
  },
  {
   "cell_type": "markdown",
   "metadata": {},
   "source": [
    "#### Generating data "
   ]
  },
  {
   "cell_type": "code",
   "execution_count": 4,
   "metadata": {},
   "outputs": [],
   "source": [
    "# Now generate 20 data set from the full model \n",
    "trueModel = MF[-1]\n",
    "[cond_vec,part_vec]=pcm.sim.make_design(6,8)\n",
    "D = pcm.sim.make_dataset(trueModel,np.array([-1.0,-1.0,-1.0]),\n",
    "        signal=0.1,\n",
    "        n_sim = 20,\n",
    "        n_channel=20,part_vec=part_vec,\n",
    "        cond_vec=cond_vec)\n",
    "    "
   ]
  },
  {
   "cell_type": "markdown",
   "metadata": {},
   "source": [
    "#### Fitting the data \n",
    "Now we can fit the data with the entire model family. An intercept is added as a fixed effect for each partition (block) seperately, as common for fMRI data. The result is a likelihood for each of the model combination. "
   ]
  },
  {
   "cell_type": "code",
   "execution_count": 5,
   "metadata": {},
   "outputs": [
    {
     "data": {
      "text/plain": [
       "<AxesSubplot:xlabel='model', ylabel='Log Bayes Factor'>"
      ]
     },
     "execution_count": 5,
     "metadata": {},
     "output_type": "execute_result"
    },
    {
     "data": {
      "image/png": "[encoded data removed]",
      "text/plain": [
       "<Figure size 432x288 with 1 Axes>"
      ]
     },
     "metadata": {
      "needs_background": "light"
     },
     "output_type": "display_data"
    }
   ],
   "source": [
    "# Fit the data and display the relative likelihood. \n",
    "T,theta=pcm.fit_model_individ(D,MF,verbose=False,fixed_effect='block', fit_scale=False)\n",
    "# Here we correcting for the number of parameters (using AIC)\n",
    "pcm.vis.model_plot(T.likelihood-MF.num_comp_per_m)"
   ]
  },
  {
   "cell_type": "markdown",
   "metadata": {},
   "source": [
    "#### Inference: Model posterior\n",
    "For the inference, we can use either crossvalidated pseudo-likelihoods (within- subject or between subjects - see inference), or we can use the fitted likelihood, correcting for the number of paramaters using an AIC approach. We use latter approach here. "
   ]
  },
  {
   "cell_type": "code",
   "execution_count": 6,
   "metadata": {},
   "outputs": [
    {
     "ename": "ValueError",
     "evalue": "can only convert an array of size 1 to a Python scalar",
     "output_type": "error",
     "traceback": [
      "\u001b[0;31m---------------------------------------------------------------------------\u001b[0m",
      "\u001b[0;31mValueError\u001b[0m                                Traceback (most recent call last)",
      "\u001b[0;32m/var/folders/vh/tsrrmndj3kj8fm3m4p51k3nc0000gn/T/ipykernel_41590/1079555548.py\u001b[0m in \u001b[0;36m<module>\u001b[0;34m\u001b[0m\n\u001b[1;32m      6\u001b[0m \u001b[0;34m\u001b[0m\u001b[0m\n\u001b[1;32m      7\u001b[0m \u001b[0mmposterior\u001b[0m \u001b[0;34m=\u001b[0m \u001b[0mMF\u001b[0m\u001b[0;34m.\u001b[0m\u001b[0mmodel_posterior\u001b[0m\u001b[0;34m(\u001b[0m\u001b[0mT\u001b[0m\u001b[0;34m.\u001b[0m\u001b[0mlikelihood\u001b[0m\u001b[0;34m.\u001b[0m\u001b[0mmean\u001b[0m\u001b[0;34m(\u001b[0m\u001b[0maxis\u001b[0m\u001b[0;34m=\u001b[0m\u001b[0;36m0\u001b[0m\u001b[0;34m)\u001b[0m\u001b[0;34m,\u001b[0m\u001b[0mmethod\u001b[0m\u001b[0;34m=\u001b[0m\u001b[0;34m'AIC'\u001b[0m\u001b[0;34m,\u001b[0m\u001b[0mformat\u001b[0m\u001b[0;34m=\u001b[0m\u001b[0;34m'DataFrame'\u001b[0m\u001b[0;34m)\u001b[0m\u001b[0;34m\u001b[0m\u001b[0;34m\u001b[0m\u001b[0m\n\u001b[0;32m----> 8\u001b[0;31m \u001b[0mpcm\u001b[0m\u001b[0;34m.\u001b[0m\u001b[0mvis\u001b[0m\u001b[0;34m.\u001b[0m\u001b[0mplot_tree\u001b[0m\u001b[0;34m(\u001b[0m\u001b[0mMF\u001b[0m\u001b[0;34m,\u001b[0m\u001b[0mmposterior\u001b[0m\u001b[0;34m,\u001b[0m\u001b[0mshow_labels\u001b[0m\u001b[0;34m=\u001b[0m\u001b[0;32mTrue\u001b[0m\u001b[0;34m,\u001b[0m\u001b[0mshow_edges\u001b[0m\u001b[0;34m=\u001b[0m\u001b[0;32mTrue\u001b[0m\u001b[0;34m)\u001b[0m\u001b[0;34m\u001b[0m\u001b[0;34m\u001b[0m\u001b[0m\n\u001b[0m",
      "\u001b[0;32m~/Python/PcmPy/PcmPy/vis.py\u001b[0m in \u001b[0;36mplot_tree\u001b[0;34m(model_family, data, show_edges, show_labels)\u001b[0m\n\u001b[1;32m     93\u001b[0m     \u001b[0;31m# Determine color range and map\u001b[0m\u001b[0;34m\u001b[0m\u001b[0;34m\u001b[0m\u001b[0;34m\u001b[0m\u001b[0m\n\u001b[1;32m     94\u001b[0m     \u001b[0mcmap\u001b[0m \u001b[0;34m=\u001b[0m \u001b[0mcm\u001b[0m\u001b[0;34m.\u001b[0m\u001b[0mReds\u001b[0m\u001b[0;34m\u001b[0m\u001b[0;34m\u001b[0m\u001b[0m\n\u001b[0;32m---> 95\u001b[0;31m     \u001b[0mnorm\u001b[0m \u001b[0;34m=\u001b[0m \u001b[0mcolors\u001b[0m\u001b[0;34m.\u001b[0m\u001b[0mNormalize\u001b[0m\u001b[0;34m(\u001b[0m\u001b[0mvmin\u001b[0m\u001b[0;34m=\u001b[0m\u001b[0mnp\u001b[0m\u001b[0;34m.\u001b[0m\u001b[0mmin\u001b[0m\u001b[0;34m(\u001b[0m\u001b[0mdata\u001b[0m\u001b[0;34m)\u001b[0m\u001b[0;34m,\u001b[0m \u001b[0mvmax\u001b[0m\u001b[0;34m=\u001b[0m\u001b[0mnp\u001b[0m\u001b[0;34m.\u001b[0m\u001b[0mmax\u001b[0m\u001b[0;34m(\u001b[0m\u001b[0mdata\u001b[0m\u001b[0;34m)\u001b[0m\u001b[0;34m)\u001b[0m\u001b[0;34m\u001b[0m\u001b[0;34m\u001b[0m\u001b[0m\n\u001b[0m\u001b[1;32m     96\u001b[0m \u001b[0;34m\u001b[0m\u001b[0m\n\u001b[1;32m     97\u001b[0m     \u001b[0;31m# Draw model circles\u001b[0m\u001b[0;34m\u001b[0m\u001b[0;34m\u001b[0m\u001b[0;34m\u001b[0m\u001b[0m\n",
      "\u001b[0;32m/opt/miniconda3/lib/python3.9/site-packages/matplotlib/colors.py\u001b[0m in \u001b[0;36m__init__\u001b[0;34m(self, vmin, vmax, clip)\u001b[0m\n\u001b[1;32m   1121\u001b[0m         \u001b[0mReturns\u001b[0m \u001b[0;36m0\u001b[0m \u001b[0;32mif\u001b[0m\u001b[0;31m \u001b[0m\u001b[0;31m`\u001b[0m\u001b[0;31m`\u001b[0m\u001b[0mvmin\u001b[0m \u001b[0;34m==\u001b[0m \u001b[0mvmax\u001b[0m\u001b[0;31m`\u001b[0m\u001b[0;31m`\u001b[0m\u001b[0;34m.\u001b[0m\u001b[0;34m\u001b[0m\u001b[0;34m\u001b[0m\u001b[0m\n\u001b[1;32m   1122\u001b[0m         \"\"\"\n\u001b[0;32m-> 1123\u001b[0;31m         \u001b[0mself\u001b[0m\u001b[0;34m.\u001b[0m\u001b[0mvmin\u001b[0m \u001b[0;34m=\u001b[0m \u001b[0m_sanitize_extrema\u001b[0m\u001b[0;34m(\u001b[0m\u001b[0mvmin\u001b[0m\u001b[0;34m)\u001b[0m\u001b[0;34m\u001b[0m\u001b[0;34m\u001b[0m\u001b[0m\n\u001b[0m\u001b[1;32m   1124\u001b[0m         \u001b[0mself\u001b[0m\u001b[0;34m.\u001b[0m\u001b[0mvmax\u001b[0m \u001b[0;34m=\u001b[0m \u001b[0m_sanitize_extrema\u001b[0m\u001b[0;34m(\u001b[0m\u001b[0mvmax\u001b[0m\u001b[0;34m)\u001b[0m\u001b[0;34m\u001b[0m\u001b[0;34m\u001b[0m\u001b[0m\n\u001b[1;32m   1125\u001b[0m         \u001b[0mself\u001b[0m\u001b[0;34m.\u001b[0m\u001b[0mclip\u001b[0m \u001b[0;34m=\u001b[0m \u001b[0mclip\u001b[0m\u001b[0;34m\u001b[0m\u001b[0;34m\u001b[0m\u001b[0m\n",
      "\u001b[0;32m/opt/miniconda3/lib/python3.9/site-packages/matplotlib/colors.py\u001b[0m in \u001b[0;36m_sanitize_extrema\u001b[0;34m(ex)\u001b[0m\n\u001b[1;32m    124\u001b[0m         \u001b[0;32mreturn\u001b[0m \u001b[0mex\u001b[0m\u001b[0;34m\u001b[0m\u001b[0;34m\u001b[0m\u001b[0m\n\u001b[1;32m    125\u001b[0m     \u001b[0;32mtry\u001b[0m\u001b[0;34m:\u001b[0m\u001b[0;34m\u001b[0m\u001b[0;34m\u001b[0m\u001b[0m\n\u001b[0;32m--> 126\u001b[0;31m         \u001b[0mret\u001b[0m \u001b[0;34m=\u001b[0m \u001b[0mex\u001b[0m\u001b[0;34m.\u001b[0m\u001b[0mitem\u001b[0m\u001b[0;34m(\u001b[0m\u001b[0;34m)\u001b[0m\u001b[0;34m\u001b[0m\u001b[0;34m\u001b[0m\u001b[0m\n\u001b[0m\u001b[1;32m    127\u001b[0m     \u001b[0;32mexcept\u001b[0m \u001b[0mAttributeError\u001b[0m\u001b[0;34m:\u001b[0m\u001b[0;34m\u001b[0m\u001b[0;34m\u001b[0m\u001b[0m\n\u001b[1;32m    128\u001b[0m         \u001b[0mret\u001b[0m \u001b[0;34m=\u001b[0m \u001b[0mfloat\u001b[0m\u001b[0;34m(\u001b[0m\u001b[0mex\u001b[0m\u001b[0;34m)\u001b[0m\u001b[0;34m\u001b[0m\u001b[0;34m\u001b[0m\u001b[0m\n",
      "\u001b[0;32m/opt/miniconda3/lib/python3.9/site-packages/pandas/core/base.py\u001b[0m in \u001b[0;36mitem\u001b[0;34m(self)\u001b[0m\n\u001b[1;32m    329\u001b[0m         \u001b[0;32mif\u001b[0m \u001b[0mlen\u001b[0m\u001b[0;34m(\u001b[0m\u001b[0mself\u001b[0m\u001b[0;34m)\u001b[0m \u001b[0;34m==\u001b[0m \u001b[0;36m1\u001b[0m\u001b[0;34m:\u001b[0m\u001b[0;34m\u001b[0m\u001b[0;34m\u001b[0m\u001b[0m\n\u001b[1;32m    330\u001b[0m             \u001b[0;32mreturn\u001b[0m \u001b[0mnext\u001b[0m\u001b[0;34m(\u001b[0m\u001b[0miter\u001b[0m\u001b[0;34m(\u001b[0m\u001b[0mself\u001b[0m\u001b[0;34m)\u001b[0m\u001b[0;34m)\u001b[0m\u001b[0;34m\u001b[0m\u001b[0;34m\u001b[0m\u001b[0m\n\u001b[0;32m--> 331\u001b[0;31m         \u001b[0;32mraise\u001b[0m \u001b[0mValueError\u001b[0m\u001b[0;34m(\u001b[0m\u001b[0;34m\"can only convert an array of size 1 to a Python scalar\"\u001b[0m\u001b[0;34m)\u001b[0m\u001b[0;34m\u001b[0m\u001b[0;34m\u001b[0m\u001b[0m\n\u001b[0m\u001b[1;32m    332\u001b[0m \u001b[0;34m\u001b[0m\u001b[0m\n\u001b[1;32m    333\u001b[0m     \u001b[0;34m@\u001b[0m\u001b[0mproperty\u001b[0m\u001b[0;34m\u001b[0m\u001b[0;34m\u001b[0m\u001b[0m\n",
      "\u001b[0;31mValueError\u001b[0m: can only convert an array of size 1 to a Python scalar"
     ]
    },
    {
     "data": {
      "image/png": "[encoded data removed]",
      "text/plain": [
       "<Figure size 360x504 with 1 Axes>"
      ]
     },
     "metadata": {
      "needs_background": "light"
     },
     "output_type": "display_data"
    }
   ],
   "source": [
    "# We can computer the posterior probability of each of the mixture models. \n",
    "# This uses the flat prior over all possible model combinations \n",
    "# The whole model family can visualized as a model tree.  \n",
    "plt.figure(figsize=(5,7))\n",
    "# Get the mean likelihood \n",
    "\n",
    "mposterior = MF.model_posterior(T.likelihood.mean(axis=0),method='AIC',format='DataFrame')\n",
    "pcm.vis.plot_tree(MF,mposterior,show_labels=True,show_edges=True)\n"
   ]
  },
  {
   "cell_type": "markdown",
   "metadata": {},
   "source": [
    "#### Inference: Component posterior\n",
    "We can also get the posterior probability for each component. This is simply the sum of the posterior probabilties of all the model combinations that contain that component. The 0.5 line (this is the prior probability) is drawn. The lower line is the most evidence we can get for the absence of a model component using AIC. This is because, in the worst case, a new component does not increase the likelihood at all. This would result in the new component having a realtive likelihood that is 1.0 lower than the simpler model (parameter penality). Thus, overall the worst we can get p=1/(1+exp(1))."
   ]
  },
  {
   "cell_type": "code",
   "execution_count": 27,
   "metadata": {},
   "outputs": [
    {
     "data": {
      "image/png": "[encoded data removed]",
      "text/plain": [
       "<Figure size 288x216 with 1 Axes>"
      ]
     },
     "metadata": {
      "needs_background": "light"
     },
     "output_type": "display_data"
    }
   ],
   "source": [
    "\n",
    "# Component posterior\n",
    "plt.figure(figsize=(4,3))\n",
    "cposterior = MF.component_posterior(T.likelihood,method='AIC',format='DataFrame')\n",
    "pcm.vis.plot_component(cposterior,type='posterior')\n"
   ]
  },
  {
   "cell_type": "markdown",
   "metadata": {},
   "source": [
    "#### Component Bayes factor \n",
    "For frequentist statistical testing and display, it is also often useful use the log-odds of the posterior $log(p/(1-p))$. For a flat prior across the model family, this is the bayes factor for the specific component. "
   ]
  },
  {
   "cell_type": "code",
   "execution_count": 43,
   "metadata": {},
   "outputs": [
    {
     "data": {
      "image/png": "[encoded data removed]",
      "text/plain": [
       "<Figure size 288x216 with 1 Axes>"
      ]
     },
     "metadata": {
      "needs_background": "light"
     },
     "output_type": "display_data"
    }
   ],
   "source": [
    "# Component Bayes Factor \n",
    "plt.figure(figsize=(4,3))\n",
    "c_bf = MF.component_bayesfactor(T.likelihood,method='AIC',format='DataFrame')\n",
    "pcm.vis.plot_component(c_bf,type='bf')"
   ]
  },
  {
   "cell_type": "code",
   "execution_count": 16,
   "metadata": {},
   "outputs": [],
   "source": []
  },
  {
   "cell_type": "code",
   "execution_count": 1,
   "metadata": {},
   "outputs": [
    {
     "ename": "NameError",
     "evalue": "name 'plt' is not defined",
     "output_type": "error",
     "traceback": [
      "\u001b[0;31m---------------------------------------------------------------------------\u001b[0m",
      "\u001b[0;31mNameError\u001b[0m                                 Traceback (most recent call last)",
      "\u001b[0;32m/var/folders/vh/tsrrmndj3kj8fm3m4p51k3nc0000gn/T/ipykernel_31220/3008990217.py\u001b[0m in \u001b[0;36m<module>\u001b[0;34m\u001b[0m\n\u001b[1;32m      1\u001b[0m \u001b[0;31m# show the second moment matrices\u001b[0m\u001b[0;34m\u001b[0m\u001b[0;34m\u001b[0m\u001b[0;34m\u001b[0m\u001b[0m\n\u001b[1;32m      2\u001b[0m \u001b[0;32mfor\u001b[0m \u001b[0mi\u001b[0m \u001b[0;32min\u001b[0m \u001b[0mrange\u001b[0m\u001b[0;34m(\u001b[0m\u001b[0;36m3\u001b[0m\u001b[0;34m)\u001b[0m\u001b[0;34m:\u001b[0m\u001b[0;34m\u001b[0m\u001b[0;34m\u001b[0m\u001b[0m\n\u001b[0;32m----> 3\u001b[0;31m     \u001b[0mplt\u001b[0m\u001b[0;34m.\u001b[0m\u001b[0msubplot\u001b[0m\u001b[0;34m(\u001b[0m\u001b[0;36m1\u001b[0m\u001b[0;34m,\u001b[0m\u001b[0;36m3\u001b[0m\u001b[0;34m,\u001b[0m\u001b[0mi\u001b[0m\u001b[0;34m)\u001b[0m\u001b[0;34m\u001b[0m\u001b[0;34m\u001b[0m\u001b[0m\n\u001b[0m\u001b[1;32m      4\u001b[0m     \u001b[0mplt\u001b[0m\u001b[0;34m.\u001b[0m\u001b[0mimshow\u001b[0m\u001b[0;34m(\u001b[0m\u001b[0mM\u001b[0m\u001b[0;34m[\u001b[0m\u001b[0mi\u001b[0m\u001b[0;34m]\u001b[0m\u001b[0;34m.\u001b[0m\u001b[0mG\u001b[0m\u001b[0;34m)\u001b[0m\u001b[0;34m\u001b[0m\u001b[0;34m\u001b[0m\u001b[0m\n",
      "\u001b[0;31mNameError\u001b[0m: name 'plt' is not defined"
     ]
    }
   ],
   "source": [
    "# show the second moment matrices\n",
    "for i in range(3):\n",
    "    plt.subplot(1,3,i)\n",
    "    plt.imshow(M[i].G)"
   ]
  },
  {
   "cell_type": "markdown",
   "metadata": {},
   "source": [
    "Nice - up to a scaling factor (Subject 4 has especially high signal-to-noise) all seven subjects have a very similar structure of the reresentation of fingers in M1.  "
   ]
  },
  {
   "cell_type": "markdown",
   "metadata": {},
   "source": [
    "If you are more used to looking in representational dissimilarity matrices (RDMs), you can also transform the second momement matrix into this (see Diedrichsen & Kriegeskorte,2017)"
   ]
  },
  {
   "cell_type": "code",
   "execution_count": 17,
   "metadata": {},
   "outputs": [
    {
     "data": {
      "text/plain": [
       "<matplotlib.image.AxesImage at 0x1269684f0>"
      ]
     },
     "execution_count": 17,
     "metadata": {},
     "output_type": "execute_result"
    },
    {
     "data": {
      "image/png": "[encoded data removed]",
      "text/plain": [
       "<Figure size 432x288 with 1 Axes>"
      ]
     },
     "metadata": {
      "needs_background": "light"
     },
     "output_type": "display_data"
    }
   ],
   "source": [
    "from scipy.spatial.distance import squareform\n",
    "C = pcm.pairwise_contrast(np.arange(5))\n",
    "RDM = squareform(np.diag(C @ G_hat[0,:,:]@C.T))\n",
    "plt.imshow(RDM)"
   ]
  },
  {
   "cell_type": "markdown",
   "metadata": {},
   "source": [
    "## Build the models\n",
    "Now we are building a list of models, using a list of second moment matrices"
   ]
  },
  {
   "cell_type": "code",
   "execution_count": 18,
   "metadata": {},
   "outputs": [],
   "source": [
    "# Make an empty list\n",
    "M = []\n",
    "# Null model: All fingers are represented independently. \n",
    "# For RSA model that would mean that all distances are equivalent\n",
    "M.append(pcm.FixedModel('null',np.eye(5)))\n",
    "# Muscle model: Structure is given by covariance structure of EMG signals\n",
    "M.append(pcm.FixedModel('muscle',modelM[0]))\n",
    "# Usage model: Structure is given by covariance structure of EMG signals\n",
    "M.append(pcm.FixedModel('usage',modelM[1]))\n",
    "# Component model: Linear combination of the muscle and usage model\n",
    "M.append(pcm.ComponentModel('muscle+usage',[modelM[0],modelM[1]]))\n",
    "# Free noise ceiling model\n",
    "M.append(pcm.FreeModel('ceil',5)) # Noise ceiling model "
   ]
  },
  {
   "cell_type": "markdown",
   "metadata": {},
   "source": [
    "Now let's look at two underlying second moment matrices - these are pretty similar"
   ]
  },
  {
   "cell_type": "code",
   "execution_count": 19,
   "metadata": {},
   "outputs": [
    {
     "data": {
      "image/png": "[encoded data removed]",
      "text/plain": [
       "<Figure size 432x288 with 2 Axes>"
      ]
     },
     "metadata": {
      "needs_background": "light"
     },
     "output_type": "display_data"
    }
   ],
   "source": []
  },
  {
   "cell_type": "markdown",
   "metadata": {},
   "source": [
    "## Model fitting\n",
    "Now let's fit the models to individual data set. There are three ways to do this. We can fit the models\n",
    "\n",
    "* to each individual participant with it's own parameters $\\theta$\n",
    "* to each all participants together with shared parameters, but with an individual parameter for the signal strength and for group. \n",
    "* in a cross-participant crossvalidated fashion. The models are fit to N-1 subjects and evaluated on the Nth subject. \n",
    "\n"
   ]
  },
  {
   "cell_type": "code",
   "execution_count": 20,
   "metadata": {},
   "outputs": [],
   "source": [
    "# Do the individual fits - suppress verbose printout\n",
    "T_in, theta_in = pcm.fit_model_individ(Y,M,fit_scale = True, verbose = False) "
   ]
  },
  {
   "cell_type": "code",
   "execution_count": 22,
   "metadata": {},
   "outputs": [
    {
     "name": "stdout",
     "output_type": "stream",
     "text": [
      "Fitting model 0\n",
      "Fitting model 1\n",
      "Fitting model 2\n",
      "Fitting model 3\n",
      "Fitting model 4\n"
     ]
    }
   ],
   "source": [
    "# Fit the model in to the full group, using a individual scaling parameter for each \n",
    "T_gr, theta_gr = pcm.fit_model_group(Y, M, fit_scale=True)"
   ]
  },
  {
   "cell_type": "code",
   "execution_count": 23,
   "metadata": {},
   "outputs": [
    {
     "name": "stdout",
     "output_type": "stream",
     "text": [
      "Fitting model 0\n",
      "Fitting model 1\n",
      "Fitting model 2\n",
      "Fitting model 3\n",
      "Fitting model 4\n"
     ]
    }
   ],
   "source": [
    "# crossvalidated likelihood \n",
    "T_cv, theta_cv = pcm.fit_model_group_crossval(Y, M, fit_scale=True)"
   ]
  },
  {
   "cell_type": "markdown",
   "metadata": {},
   "source": [
    "## Inspecting and interpreting the results\n",
    "The results are returned as a nested data frame with the likelihood, noise and scale parameter for each individuals"
   ]
  },
  {
   "cell_type": "code",
   "execution_count": 24,
   "metadata": {},
   "outputs": [
    {
     "data": {
      "text/html": [
       "<div>\n",
       "<style scoped>\n",
       "    .dataframe tbody tr th:only-of-type {\n",
       "        vertical-align: middle;\n",
       "    }\n",
       "\n",
       "    .dataframe tbody tr th {\n",
       "        vertical-align: top;\n",
       "    }\n",
       "\n",
       "    .dataframe thead tr th {\n",
       "        text-align: left;\n",
       "    }\n",
       "</style>\n",
       "<table border=\"1\" class=\"dataframe\">\n",
       "  <thead>\n",
       "    <tr>\n",
       "      <th>variable</th>\n",
       "      <th colspan=\"5\" halign=\"left\">likelihood</th>\n",
       "      <th colspan=\"5\" halign=\"left\">noise</th>\n",
       "      <th colspan=\"5\" halign=\"left\">iterations</th>\n",
       "      <th colspan=\"5\" halign=\"left\">scale</th>\n",
       "    </tr>\n",
       "    <tr>\n",
       "      <th>model</th>\n",
       "      <th>null</th>\n",
       "      <th>muscle</th>\n",
       "      <th>usage</th>\n",
       "      <th>muscle+usage</th>\n",
       "      <th>ceil</th>\n",
       "      <th>null</th>\n",
       "      <th>muscle</th>\n",
       "      <th>usage</th>\n",
       "      <th>muscle+usage</th>\n",
       "      <th>ceil</th>\n",
       "      <th>null</th>\n",
       "      <th>muscle</th>\n",
       "      <th>usage</th>\n",
       "      <th>muscle+usage</th>\n",
       "      <th>ceil</th>\n",
       "      <th>null</th>\n",
       "      <th>muscle</th>\n",
       "      <th>usage</th>\n",
       "      <th>muscle+usage</th>\n",
       "      <th>ceil</th>\n",
       "    </tr>\n",
       "  </thead>\n",
       "  <tbody>\n",
       "    <tr>\n",
       "      <th>0</th>\n",
       "      <td>-42231.412711</td>\n",
       "      <td>-41966.470799</td>\n",
       "      <td>-41786.672956</td>\n",
       "      <td>-41786.672927</td>\n",
       "      <td>-41689.860467</td>\n",
       "      <td>0.875853</td>\n",
       "      <td>0.871286</td>\n",
       "      <td>0.868482</td>\n",
       "      <td>0.868483</td>\n",
       "      <td>0.872297</td>\n",
       "      <td>4.0</td>\n",
       "      <td>4.0</td>\n",
       "      <td>4.0</td>\n",
       "      <td>7.0</td>\n",
       "      <td>30.0</td>\n",
       "      <td>0.109319</td>\n",
       "      <td>0.750145</td>\n",
       "      <td>0.786771</td>\n",
       "      <td>1.000000</td>\n",
       "      <td>0.996839</td>\n",
       "    </tr>\n",
       "    <tr>\n",
       "      <th>1</th>\n",
       "      <td>-34965.171104</td>\n",
       "      <td>-34923.791342</td>\n",
       "      <td>-34915.406608</td>\n",
       "      <td>-34914.959612</td>\n",
       "      <td>-34889.042762</td>\n",
       "      <td>1.070401</td>\n",
       "      <td>1.067480</td>\n",
       "      <td>1.069075</td>\n",
       "      <td>1.068119</td>\n",
       "      <td>1.066987</td>\n",
       "      <td>4.0</td>\n",
       "      <td>4.0</td>\n",
       "      <td>4.0</td>\n",
       "      <td>16.0</td>\n",
       "      <td>21.0</td>\n",
       "      <td>0.045008</td>\n",
       "      <td>0.324407</td>\n",
       "      <td>0.322917</td>\n",
       "      <td>0.963006</td>\n",
       "      <td>0.998003</td>\n",
       "    </tr>\n",
       "    <tr>\n",
       "      <th>2</th>\n",
       "      <td>-34767.538097</td>\n",
       "      <td>-34679.107626</td>\n",
       "      <td>-34632.643241</td>\n",
       "      <td>-34632.642946</td>\n",
       "      <td>-34571.750931</td>\n",
       "      <td>1.026408</td>\n",
       "      <td>1.021219</td>\n",
       "      <td>1.019122</td>\n",
       "      <td>1.019123</td>\n",
       "      <td>1.023299</td>\n",
       "      <td>4.0</td>\n",
       "      <td>4.0</td>\n",
       "      <td>4.0</td>\n",
       "      <td>7.0</td>\n",
       "      <td>32.0</td>\n",
       "      <td>0.059863</td>\n",
       "      <td>0.435483</td>\n",
       "      <td>0.463987</td>\n",
       "      <td>1.000000</td>\n",
       "      <td>0.992453</td>\n",
       "    </tr>\n",
       "    <tr>\n",
       "      <th>3</th>\n",
       "      <td>-45697.970627</td>\n",
       "      <td>-45609.052395</td>\n",
       "      <td>-45448.518276</td>\n",
       "      <td>-45448.518254</td>\n",
       "      <td>-45225.784824</td>\n",
       "      <td>1.480699</td>\n",
       "      <td>1.479592</td>\n",
       "      <td>1.474026</td>\n",
       "      <td>1.474025</td>\n",
       "      <td>1.478701</td>\n",
       "      <td>4.0</td>\n",
       "      <td>4.0</td>\n",
       "      <td>4.0</td>\n",
       "      <td>6.0</td>\n",
       "      <td>18.0</td>\n",
       "      <td>0.173031</td>\n",
       "      <td>1.193770</td>\n",
       "      <td>1.235628</td>\n",
       "      <td>1.000000</td>\n",
       "      <td>0.998176</td>\n",
       "    </tr>\n",
       "    <tr>\n",
       "      <th>4</th>\n",
       "      <td>-31993.363827</td>\n",
       "      <td>-31866.288313</td>\n",
       "      <td>-31806.982719</td>\n",
       "      <td>-31806.982521</td>\n",
       "      <td>-31707.184233</td>\n",
       "      <td>0.808482</td>\n",
       "      <td>0.805621</td>\n",
       "      <td>0.805774</td>\n",
       "      <td>0.805774</td>\n",
       "      <td>0.807319</td>\n",
       "      <td>4.0</td>\n",
       "      <td>4.0</td>\n",
       "      <td>4.0</td>\n",
       "      <td>6.0</td>\n",
       "      <td>32.0</td>\n",
       "      <td>0.073935</td>\n",
       "      <td>0.516338</td>\n",
       "      <td>0.532421</td>\n",
       "      <td>1.000000</td>\n",
       "      <td>0.999360</td>\n",
       "    </tr>\n",
       "    <tr>\n",
       "      <th>5</th>\n",
       "      <td>-41817.234010</td>\n",
       "      <td>-41632.061473</td>\n",
       "      <td>-41543.438786</td>\n",
       "      <td>-41543.438769</td>\n",
       "      <td>-41439.111953</td>\n",
       "      <td>1.035696</td>\n",
       "      <td>1.031827</td>\n",
       "      <td>1.031649</td>\n",
       "      <td>1.031648</td>\n",
       "      <td>1.034879</td>\n",
       "      <td>4.0</td>\n",
       "      <td>4.0</td>\n",
       "      <td>4.0</td>\n",
       "      <td>5.0</td>\n",
       "      <td>19.0</td>\n",
       "      <td>0.116696</td>\n",
       "      <td>0.801114</td>\n",
       "      <td>0.828773</td>\n",
       "      <td>1.000000</td>\n",
       "      <td>0.999325</td>\n",
       "    </tr>\n",
       "    <tr>\n",
       "      <th>6</th>\n",
       "      <td>-50336.142592</td>\n",
       "      <td>-50201.799362</td>\n",
       "      <td>-50173.300358</td>\n",
       "      <td>-50173.300306</td>\n",
       "      <td>-50099.140706</td>\n",
       "      <td>1.479001</td>\n",
       "      <td>1.472401</td>\n",
       "      <td>1.474430</td>\n",
       "      <td>1.474428</td>\n",
       "      <td>1.476145</td>\n",
       "      <td>4.0</td>\n",
       "      <td>4.0</td>\n",
       "      <td>4.0</td>\n",
       "      <td>12.0</td>\n",
       "      <td>29.0</td>\n",
       "      <td>0.101477</td>\n",
       "      <td>0.714043</td>\n",
       "      <td>0.723969</td>\n",
       "      <td>1.000000</td>\n",
       "      <td>0.981997</td>\n",
       "    </tr>\n",
       "  </tbody>\n",
       "</table>\n",
       "</div>"
      ],
      "text/plain": [
       "variable    likelihood                                            \\\n",
       "model             null        muscle         usage  muscle+usage   \n",
       "0        -42231.412711 -41966.470799 -41786.672956 -41786.672927   \n",
       "1        -34965.171104 -34923.791342 -34915.406608 -34914.959612   \n",
       "2        -34767.538097 -34679.107626 -34632.643241 -34632.642946   \n",
       "3        -45697.970627 -45609.052395 -45448.518276 -45448.518254   \n",
       "4        -31993.363827 -31866.288313 -31806.982719 -31806.982521   \n",
       "5        -41817.234010 -41632.061473 -41543.438786 -41543.438769   \n",
       "6        -50336.142592 -50201.799362 -50173.300358 -50173.300306   \n",
       "\n",
       "variable                   noise                                             \\\n",
       "model             ceil      null    muscle     usage muscle+usage      ceil   \n",
       "0        -41689.860467  0.875853  0.871286  0.868482     0.868483  0.872297   \n",
       "1        -34889.042762  1.070401  1.067480  1.069075     1.068119  1.066987   \n",
       "2        -34571.750931  1.026408  1.021219  1.019122     1.019123  1.023299   \n",
       "3        -45225.784824  1.480699  1.479592  1.474026     1.474025  1.478701   \n",
       "4        -31707.184233  0.808482  0.805621  0.805774     0.805774  0.807319   \n",
       "5        -41439.111953  1.035696  1.031827  1.031649     1.031648  1.034879   \n",
       "6        -50099.140706  1.479001  1.472401  1.474430     1.474428  1.476145   \n",
       "\n",
       "variable iterations                                     scale            \\\n",
       "model          null muscle usage muscle+usage  ceil      null    muscle   \n",
       "0               4.0    4.0   4.0          7.0  30.0  0.109319  0.750145   \n",
       "1               4.0    4.0   4.0         16.0  21.0  0.045008  0.324407   \n",
       "2               4.0    4.0   4.0          7.0  32.0  0.059863  0.435483   \n",
       "3               4.0    4.0   4.0          6.0  18.0  0.173031  1.193770   \n",
       "4               4.0    4.0   4.0          6.0  32.0  0.073935  0.516338   \n",
       "5               4.0    4.0   4.0          5.0  19.0  0.116696  0.801114   \n",
       "6               4.0    4.0   4.0         12.0  29.0  0.101477  0.714043   \n",
       "\n",
       "variable                                   \n",
       "model        usage muscle+usage      ceil  \n",
       "0         0.786771     1.000000  0.996839  \n",
       "1         0.322917     0.963006  0.998003  \n",
       "2         0.463987     1.000000  0.992453  \n",
       "3         1.235628     1.000000  0.998176  \n",
       "4         0.532421     1.000000  0.999360  \n",
       "5         0.828773     1.000000  0.999325  \n",
       "6         0.723969     1.000000  0.981997  "
      ]
     },
     "execution_count": 24,
     "metadata": {},
     "output_type": "execute_result"
    }
   ],
   "source": [
    "T_in"
   ]
  },
  {
   "cell_type": "markdown",
   "metadata": {},
   "source": [
    "The likelihoods are very negative and quite different across participants, which is expected (see documentation). What we need to interpret are the difference is the likelihood relative to a null model. \n",
    "We can visualized these using the model_plot"
   ]
  },
  {
   "cell_type": "code",
   "execution_count": 25,
   "metadata": {},
   "outputs": [
    {
     "data": {
      "image/png": "[encoded data removed]",
      "text/plain": [
       "<Figure size 432x288 with 1 Axes>"
      ]
     },
     "metadata": {
      "needs_background": "light"
     },
     "output_type": "display_data"
    }
   ],
   "source": [
    "ax = pcm.model_plot(T_in.likelihood,\n",
    "                        null_model = 'null',\n",
    "                        noise_ceiling= 'ceil')"
   ]
  },
  {
   "cell_type": "markdown",
   "metadata": {},
   "source": [
    "The problem with the noise ceiling is that it is individually fit to each subject. It has much more parameters than the models it is competing against, so it is overfitting. To compare models with different numbers of parameters directly, we need to look at our cross-validated group fits. The group fits can be used as an upper noise ceiling."
   ]
  },
  {
   "cell_type": "code",
   "execution_count": 26,
   "metadata": {},
   "outputs": [
    {
     "data": {
      "image/png": "[encoded data removed]",
      "text/plain": [
       "<Figure size 432x288 with 1 Axes>"
      ]
     },
     "metadata": {
      "needs_background": "light"
     },
     "output_type": "display_data"
    }
   ],
   "source": [
    "ax = pcm.model_plot(T_cv.likelihood,\n",
    "                        null_model = 'null',\n",
    "                        noise_ceiling= 'ceil',\n",
    "                        upper_ceiling = T_gr.likelihood['ceil'])\n"
   ]
  },
  {
   "cell_type": "markdown",
   "metadata": {},
   "source": [
    "As you can see, the likelihood for individual, group, and crossvalidated group fits for the fixed models (null, muscle + usage) are all identical, because these models do not have common group parameters - in all cases we are fitting an individual scale and noise parameter. "
   ]
  },
  {
   "cell_type": "markdown",
   "metadata": {},
   "source": [
    "## Visualizing the model fit"
   ]
  },
  {
   "cell_type": "markdown",
   "metadata": {},
   "source": [
    "Finally, it is very useful to visualize the model prediction in comparision to the fitted data. The model parameters are stored in the return argument `theta`. We can pass these to the `Model.predict()` function to get the predicted second moment matrix. "
   ]
  },
  {
   "cell_type": "code",
   "execution_count": 27,
   "metadata": {},
   "outputs": [
    {
     "data": {
      "text/plain": [
       "<matplotlib.image.AxesImage at 0x12633f6a0>"
      ]
     },
     "execution_count": 27,
     "metadata": {},
     "output_type": "execute_result"
    },
    {
     "data": {
      "image/png": "[encoded data removed]",
      "text/plain": [
       "<Figure size 432x288 with 1 Axes>"
      ]
     },
     "metadata": {
      "needs_background": "light"
     },
     "output_type": "display_data"
    }
   ],
   "source": [
    "G,_ = M[4].predict(theta_gr[4][:M[4].n_param])\n",
    "plt.imshow(G)"
   ]
  }
 ],
 "metadata": {
  "interpreter": {
   "hash": "3d597f4c481aa0f25dceb95d2a0067e73c0966dcbd003d741d821a7208527ecf"
  },
  "kernelspec": {
   "display_name": "Python 3.9.5 64-bit ('base': conda)",
   "name": "python3"
  },
  "language_info": {
   "codemirror_mode": {
    "name": "ipython",
    "version": 3
   },
   "file_extension": ".py",
   "mimetype": "text/x-python",
   "name": "python",
   "nbconvert_exporter": "python",
   "pygments_lexer": "ipython3",
   "version": "3.9.5"
  }
 },
 "nbformat": 4,
 "nbformat_minor": 4
}
