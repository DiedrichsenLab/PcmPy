{
 "cells": [
  {
   "cell_type": "markdown",
   "metadata": {},
   "source": [
    "# PCM correlation models \n",
    "This demo shows two ways to use PCM models to test hypotheses about the correlation between activity patterns. \n",
    "\n",
    "- In the first part of this jupyter notebook, we'll focus on how to assess the **true** correlation between two activity patterns. \n",
    "\n",
    "\n",
    "- In the second part, we will consider a slightly more complex situation in which we want to estimate the true correlation between two **sets** of activity patterns measured under two different conditions. \n",
    "    \n",
    ">For example, we might want to know how the activity patterns related to the observation of 3 hand gestures correlate (at a gesture-specific level) with the activity patterns related to the execution of the same 3 hand gestures."
   ]
  },
  {
   "cell_type": "code",
   "execution_count": 31,
   "metadata": {},
   "outputs": [],
   "source": [
    "# First import necessary libraries\n",
    "#(make sure PcmPy is in your python path)\n",
    "import PcmPy as pcm\n",
    "import numpy as np\n",
    "import pandas as pd\n",
    "import matplotlib.pyplot as plt\n",
    "import seaborn as sns\n",
    "from numpy import exp, sqrt\n",
    "import scipy.stats as sps"
   ]
  },
  {
   "cell_type": "markdown",
   "metadata": {},
   "source": [
    "## 1. Estimating the true correlation between two patterns\n",
    "How similar/correlated are two activity patterns? It is easy to test whether 2 activity patterns are more correlated than chance (i.e., zero correlation). However, even if the two conditions elicit exactly the same pattern, the correlation will not be 1, simply because of measurement noise. Thus, it is very hard to estimate the **true** correlation between condition **A** and **B**. As explained in our blog [*Brain, Data, and Science*](http://diedrichsenlab.org/BrainDataScience/noisy_correlation), cross-validation does not result in unbiased estimates.\n",
    "\n",
    "To solve this problem, PCM turns the problem around: rather than asking which correlation is the best estimate given the data, let's instead ask how likely the data is given different levels of correlations. Thus, we will calculate the likelihood of the data given a range of specific correlations, $p(Y|r)$, and then compare this likelihood across a range of correlation models. \n",
    "\n",
    "In estimating the likelihood, we also need to estimate two additional model parameters: \n",
    "- The strength (variance across voxels) of the activity patterns associated with condition **A**. \n",
    "- The strength (variance across voxels) of the activity patterns associated with condition **B**. \n",
    "\n",
    "And one additional noise parameter: \n",
    "- The variance of the measurement noise across repeated measures of the same pattern. \n",
    "\n",
    "These hyper-parameters are collectively referred to by $\\theta$ (thetas). Here we will compare different models by using the (Type II) maximum likelihood to approximate the model evidence:\n",
    "\n",
    "$$\n",
    "p(Y|r) \\approx \\underset{\\theta}{\\operatorname{max}}{p(Y|r,\\theta)}.\n",
    "$$\n",
    "\n",
    ">This may seem like a bit of a cheat, but works in this case quite well. Estimating parameters on the same data that you use to evaluate the model of course leads to an overestimation of the likelihood. \n",
    "\n",
    ">However, as the number of hyper-parameters is low and all correlation models have the same number of parameters, this bias will be approximately stable across all models. Since we are interested in the *difference* in log-likelihood across models, this small bias simply disappears. \n",
    "\n",
    ">If you want to compare models with different numbers of parameters, a more sophisticated approach (such as group-cross-validation) is required. "
   ]
  },
  {
   "cell_type": "markdown",
   "metadata": {},
   "source": [
    "### 1.1 Simulating the data\n",
    "We will use the PCM toolbox to simulate data from a given model of the underlying true (noiseless) correlation between two activity patterns (`Mtrue`). In this example, we set that our two activity patterns are positively correlated with a true correlation of 0.7.\n",
    "\n",
    ">Note that in `pcm.CorrelationModel` we set `num_items` to 1, as we have only 1 activity pattern per condition, and we set `cond_effect` to `False`, as we do not want to model the overall effect between different conditions (each with multiple items, see section 2 below).\n",
    "\n",
    "The true model (`Mtrue`) has 2 hyper-parameters reflecting the signal strength (or true pattern variance) for each activity pattern (`item`). In addition to the 2 model parameters, PCM also fits one parameter for the variance of the measurement noise.\n"
   ]
  },
  {
   "cell_type": "code",
   "execution_count": 32,
   "metadata": {},
   "outputs": [
    {
     "name": "stdout",
     "output_type": "stream",
     "text": [
      "The true model has 2 hyper parameters\n"
     ]
    }
   ],
   "source": [
    "Mtrue = pcm.CorrelationModel('corr', num_items=1, corr=0.7, cond_effect=False)\n",
    "print(f\"The true model has {Mtrue.n_param} hyper parameters\")"
   ]
  },
  {
   "cell_type": "markdown",
   "metadata": {},
   "source": [
    "We can now use the simulation module to create 20 datasets (e.g., one per simulated participant) with a relatively low signal-to-noise level (0.2:1). We will use a design with 2 conditions and 8 partitions/runs per dataset.\n",
    ">Note that the thetas are specified as log(variance)."
   ]
  },
  {
   "cell_type": "code",
   "execution_count": 33,
   "metadata": {},
   "outputs": [],
   "source": [
    "# Create the design. In this case it's 2 conditions, across 8 runs (partitions)\n",
    "cond_vec, part_vec = pcm.sim.make_design(n_cond=2, n_part=8)\n",
    "\n",
    "# Starting from the true model above, generate 20 datasets/participants \n",
    "# with relatively low signal-to-noise ratio (0.2:1)\n",
    "# Note that signal variance is 0.2 - noise variance is by default set to 1 \n",
    "# For replicability, we are using a fixed random seed (100)\n",
    "rng = np.random.default_rng(seed=100)\n",
    "D = pcm.sim.make_dataset(model=Mtrue, \\\n",
    "    theta=[0,0], \\\n",
    "    cond_vec=cond_vec, \\\n",
    "    part_vec=part_vec, \\\n",
    "    n_sim=20, \\\n",
    "    signal=0.2,\\\n",
    "    rng=rng)"
   ]
  },
  {
   "cell_type": "markdown",
   "metadata": {},
   "source": [
    "First let's look at the correlation that we get when we calculate the *naive* correlation—i.e. the correlation between the two estimated activity patterns. "
   ]
  },
  {
   "cell_type": "code",
   "execution_count": 34,
   "metadata": {},
   "outputs": [
    {
     "name": "stdout",
     "output_type": "stream",
     "text": [
      "Estimated mean correlation: 0.4127\n"
     ]
    }
   ],
   "source": [
    "def get_corr(X,cond_vec):\n",
    "    \"\"\"\n",
    "        Get normal correlation\n",
    "    \"\"\"\n",
    "    p1 = X[cond_vec==0,:].mean(axis=0)\n",
    "    p2 = X[cond_vec==1,:].mean(axis=0)\n",
    "    return np.corrcoef(p1,p2)[0,1]\n",
    "\n",
    "r = np.empty((20,))\n",
    "for i in range(20):\n",
    "    data = D[i].measurements\n",
    "    r[i] = get_corr(data, cond_vec)\n",
    "print(f'Estimated mean correlation: {r.mean():.4f}')"
   ]
  },
  {
   "cell_type": "markdown",
   "metadata": {},
   "source": [
    "As we can see, due to measurement noise, the estimated mean correlation is much lower than the true value of 0.7.\n",
    "\n",
    "This is not a problem if we just want to test the hypothesis that the true correlation is larger than zero. Then we can just calculate the individual correlations per subject and test them against zero using a t-test. \n",
    "\n",
    "However, if we want to test whether the true correlation has a specific value (for example `true_corr=1`, indicating that the activity patterns are the same), or if we want to test whether the correlations are higher in one brain area than another, then this becomes an issue. \n",
    "\n",
    "Different brain regions measured with fMRI often differ dramatically in their signal-to-noise ratio. Thus, we need to take into account our level of measurement noise. PCM can do that."
   ]
  },
  {
   "cell_type": "markdown",
   "metadata": {},
   "source": [
    "### 1.2 Fitting the data\n",
    "We can solve this problem by making a series of PCM correlation models in the range e.g., [0 1] (or -1 to 1 if you want). We also generare a flexible model (`Mflex`) that has the correlation as a parameter that is being optimized. "
   ]
  },
  {
   "cell_type": "code",
   "execution_count": 35,
   "metadata": {},
   "outputs": [],
   "source": [
    "nsteps = 20 # how many correlation models?  \n",
    "M = [] # initialize the output list M\n",
    "\n",
    "# Generate the models equally spaced between 0 and 1 \n",
    "for r in np.linspace(0, 1, nsteps):\n",
    "    M.append(pcm.CorrelationModel(f\"{r:0.2f}\", num_items=1, corr=r, cond_effect=False))\n",
    "    \n",
    "# Now make the flexible model \n",
    "Mflex = pcm.CorrelationModel(\"flex\", num_items=1, corr=None, cond_effect=False)\n",
    "M.append(Mflex)"
   ]
  },
  {
   "cell_type": "markdown",
   "metadata": {},
   "source": [
    "We can now fit the models to the datasets in one go. The resulting dataframe `T` has the log-likelihoods for each model (columns) and dataset (rows). The second return argument `theta` contains the parameters for each model fit. "
   ]
  },
  {
   "cell_type": "code",
   "execution_count": 36,
   "metadata": {},
   "outputs": [
    {
     "data": {
      "text/html": [
       "<div>\n",
       "<style scoped>\n",
       "    .dataframe tbody tr th:only-of-type {\n",
       "        vertical-align: middle;\n",
       "    }\n",
       "\n",
       "    .dataframe tbody tr th {\n",
       "        vertical-align: top;\n",
       "    }\n",
       "\n",
       "    .dataframe thead tr th {\n",
       "        text-align: left;\n",
       "    }\n",
       "</style>\n",
       "<table border=\"1\" class=\"dataframe\">\n",
       "  <thead>\n",
       "    <tr>\n",
       "      <th>variable</th>\n",
       "      <th colspan=\"10\" halign=\"left\">likelihood</th>\n",
       "      <th>...</th>\n",
       "      <th colspan=\"10\" halign=\"left\">iterations</th>\n",
       "    </tr>\n",
       "    <tr>\n",
       "      <th>model</th>\n",
       "      <th>0.00</th>\n",
       "      <th>0.05</th>\n",
       "      <th>0.11</th>\n",
       "      <th>0.16</th>\n",
       "      <th>0.21</th>\n",
       "      <th>0.26</th>\n",
       "      <th>0.32</th>\n",
       "      <th>0.37</th>\n",
       "      <th>0.42</th>\n",
       "      <th>0.47</th>\n",
       "      <th>...</th>\n",
       "      <th>0.58</th>\n",
       "      <th>0.63</th>\n",
       "      <th>0.68</th>\n",
       "      <th>0.74</th>\n",
       "      <th>0.79</th>\n",
       "      <th>0.84</th>\n",
       "      <th>0.89</th>\n",
       "      <th>0.95</th>\n",
       "      <th>1.00</th>\n",
       "      <th>flex</th>\n",
       "    </tr>\n",
       "  </thead>\n",
       "  <tbody>\n",
       "    <tr>\n",
       "      <th>0</th>\n",
       "      <td>-234.937150</td>\n",
       "      <td>-234.793421</td>\n",
       "      <td>-234.679377</td>\n",
       "      <td>-234.594949</td>\n",
       "      <td>-234.540553</td>\n",
       "      <td>-234.517117</td>\n",
       "      <td>-234.526138</td>\n",
       "      <td>-234.569756</td>\n",
       "      <td>-234.650865</td>\n",
       "      <td>-234.773248</td>\n",
       "      <td>...</td>\n",
       "      <td>4.0</td>\n",
       "      <td>4.0</td>\n",
       "      <td>5.0</td>\n",
       "      <td>5.0</td>\n",
       "      <td>5.0</td>\n",
       "      <td>6.0</td>\n",
       "      <td>7.0</td>\n",
       "      <td>8.0</td>\n",
       "      <td>9.0</td>\n",
       "      <td>4.0</td>\n",
       "    </tr>\n",
       "    <tr>\n",
       "      <th>1</th>\n",
       "      <td>-249.115550</td>\n",
       "      <td>-248.445834</td>\n",
       "      <td>-247.806381</td>\n",
       "      <td>-247.194513</td>\n",
       "      <td>-246.608029</td>\n",
       "      <td>-246.045157</td>\n",
       "      <td>-245.504529</td>\n",
       "      <td>-244.985186</td>\n",
       "      <td>-244.486599</td>\n",
       "      <td>-244.008726</td>\n",
       "      <td>...</td>\n",
       "      <td>4.0</td>\n",
       "      <td>4.0</td>\n",
       "      <td>3.0</td>\n",
       "      <td>3.0</td>\n",
       "      <td>3.0</td>\n",
       "      <td>3.0</td>\n",
       "      <td>3.0</td>\n",
       "      <td>3.0</td>\n",
       "      <td>3.0</td>\n",
       "      <td>6.0</td>\n",
       "    </tr>\n",
       "    <tr>\n",
       "      <th>2</th>\n",
       "      <td>-278.140577</td>\n",
       "      <td>-277.923649</td>\n",
       "      <td>-277.723567</td>\n",
       "      <td>-277.539976</td>\n",
       "      <td>-277.372656</td>\n",
       "      <td>-277.221540</td>\n",
       "      <td>-277.086717</td>\n",
       "      <td>-276.968453</td>\n",
       "      <td>-276.867193</td>\n",
       "      <td>-276.783574</td>\n",
       "      <td>...</td>\n",
       "      <td>3.0</td>\n",
       "      <td>3.0</td>\n",
       "      <td>3.0</td>\n",
       "      <td>3.0</td>\n",
       "      <td>3.0</td>\n",
       "      <td>3.0</td>\n",
       "      <td>4.0</td>\n",
       "      <td>4.0</td>\n",
       "      <td>4.0</td>\n",
       "      <td>5.0</td>\n",
       "    </tr>\n",
       "    <tr>\n",
       "      <th>3</th>\n",
       "      <td>-262.453736</td>\n",
       "      <td>-261.949207</td>\n",
       "      <td>-261.472521</td>\n",
       "      <td>-261.021806</td>\n",
       "      <td>-260.595609</td>\n",
       "      <td>-260.192870</td>\n",
       "      <td>-259.812921</td>\n",
       "      <td>-259.455499</td>\n",
       "      <td>-259.120782</td>\n",
       "      <td>-258.809456</td>\n",
       "      <td>...</td>\n",
       "      <td>3.0</td>\n",
       "      <td>3.0</td>\n",
       "      <td>3.0</td>\n",
       "      <td>3.0</td>\n",
       "      <td>3.0</td>\n",
       "      <td>2.0</td>\n",
       "      <td>3.0</td>\n",
       "      <td>3.0</td>\n",
       "      <td>4.0</td>\n",
       "      <td>5.0</td>\n",
       "    </tr>\n",
       "    <tr>\n",
       "      <th>4</th>\n",
       "      <td>-254.133454</td>\n",
       "      <td>-253.676709</td>\n",
       "      <td>-253.248643</td>\n",
       "      <td>-252.847649</td>\n",
       "      <td>-252.472559</td>\n",
       "      <td>-252.122629</td>\n",
       "      <td>-251.797543</td>\n",
       "      <td>-251.497447</td>\n",
       "      <td>-251.222995</td>\n",
       "      <td>-250.975441</td>\n",
       "      <td>...</td>\n",
       "      <td>3.0</td>\n",
       "      <td>3.0</td>\n",
       "      <td>3.0</td>\n",
       "      <td>3.0</td>\n",
       "      <td>3.0</td>\n",
       "      <td>3.0</td>\n",
       "      <td>4.0</td>\n",
       "      <td>4.0</td>\n",
       "      <td>4.0</td>\n",
       "      <td>5.0</td>\n",
       "    </tr>\n",
       "  </tbody>\n",
       "</table>\n",
       "<p>5 rows × 63 columns</p>\n",
       "</div>"
      ],
      "text/plain": [
       "variable  likelihood                                                  \\\n",
       "model           0.00        0.05        0.11        0.16        0.21   \n",
       "0        -234.937150 -234.793421 -234.679377 -234.594949 -234.540553   \n",
       "1        -249.115550 -248.445834 -247.806381 -247.194513 -246.608029   \n",
       "2        -278.140577 -277.923649 -277.723567 -277.539976 -277.372656   \n",
       "3        -262.453736 -261.949207 -261.472521 -261.021806 -260.595609   \n",
       "4        -254.133454 -253.676709 -253.248643 -252.847649 -252.472559   \n",
       "\n",
       "variable                                                              ...  \\\n",
       "model           0.26        0.32        0.37        0.42        0.47  ...   \n",
       "0        -234.517117 -234.526138 -234.569756 -234.650865 -234.773248  ...   \n",
       "1        -246.045157 -245.504529 -244.985186 -244.486599 -244.008726  ...   \n",
       "2        -277.221540 -277.086717 -276.968453 -276.867193 -276.783574  ...   \n",
       "3        -260.192870 -259.812921 -259.455499 -259.120782 -258.809456  ...   \n",
       "4        -252.122629 -251.797543 -251.497447 -251.222995 -250.975441  ...   \n",
       "\n",
       "variable iterations                                               \n",
       "model          0.58 0.63 0.68 0.74 0.79 0.84 0.89 0.95 1.00 flex  \n",
       "0               4.0  4.0  5.0  5.0  5.0  6.0  7.0  8.0  9.0  4.0  \n",
       "1               4.0  4.0  3.0  3.0  3.0  3.0  3.0  3.0  3.0  6.0  \n",
       "2               3.0  3.0  3.0  3.0  3.0  3.0  4.0  4.0  4.0  5.0  \n",
       "3               3.0  3.0  3.0  3.0  3.0  2.0  3.0  3.0  4.0  5.0  \n",
       "4               3.0  3.0  3.0  3.0  3.0  3.0  4.0  4.0  4.0  5.0  \n",
       "\n",
       "[5 rows x 63 columns]"
      ]
     },
     "execution_count": 36,
     "metadata": {},
     "output_type": "execute_result"
    }
   ],
   "source": [
    "# In this case, we model the block effect as a mixed effect\n",
    "# We don't need to include a scale parameter given that we don't have a fixed model \n",
    "T, theta = pcm.fit_model_individ(D, M, fixed_effect=None, fit_scale=False, verbose=False)\n",
    "T.head()"
   ]
  },
  {
   "cell_type": "markdown",
   "metadata": {},
   "source": [
    "### 1.3 Interpreting the fit \n",
    "Note that the log-likelihood values are negative and differ substantially across datasets. This is normal—the only thing we can interpret are differences between log-likelihoods across the same data set for different models.\n",
    "\n",
    "Therefore, first, we remove the mean log-likelihood for each dataset across correlation models, expressing each log-likelihood as the difference from the mean.\n",
    "\n",
    "Next, we plot the full log-likelihood curves (solid lines) and the maximum likelihood estimate (filled circles) of the correlation for each participant. We can also add the mean log-likelihood curve (dotted line) and the mean of the maximum log-likelihood estimates (vertical blue line) across participants."
   ]
  },
  {
   "cell_type": "code",
   "execution_count": 37,
   "metadata": {},
   "outputs": [
    {
     "data": {
      "text/plain": [
       "Text(0,0.5,'log-likelihood')"
      ]
     },
     "execution_count": 37,
     "metadata": {},
     "output_type": "execute_result"
    },
    {
     "data": {
      "image/png": "[encoded data removed]",
      "text/plain": [
       "<matplotlib.figure.Figure at 0x1a2159b828>"
      ]
     },
     "metadata": {},
     "output_type": "display_data"
    }
   ],
   "source": [
    "L = T.likelihood.to_numpy()\n",
    "\n",
    "# express log-likelihoods relative to mean \n",
    "L = L - L.mean(axis=1).reshape(-1,1)\n",
    "maxL = L[:,-1] # Last model is the flexible \n",
    "L = L[:,0:-1] # Remove it \n",
    "\n",
    "# Get the correlation for each of the models\n",
    "r = np.empty((nsteps,))\n",
    "for i in range(nsteps):\n",
    "    r[i] = M[i].corr\n",
    "\n",
    "# Get the maximum likelihood estimate of each parameter \n",
    "maxr = M[-1].get_correlation(theta[-1])\n",
    "\n",
    "# Now we make the plot: \n",
    "# Plot the individual log-liklihood curves and their peak in gray lines: \n",
    "plt.plot(r, L.T, color='gray', marker=None, linewidth=1)\n",
    "plt.plot(maxr, maxL, 'k.', markersize=12)\n",
    "\n",
    "# Plot the mean of the maximum-liklihood estimates in a vertical line \n",
    "plt.axvline(maxr.mean())\n",
    "\n",
    "# Plot the mean of the likelihood curves as a dashed line \n",
    "plt.plot(r,L.mean(axis=0), 'k:')\n",
    "plt.xlabel('correlation')\n",
    "plt.ylabel('log-likelihood')"
   ]
  },
  {
   "cell_type": "markdown",
   "metadata": {},
   "source": [
    "As we can see, the maximum-likelihood estimates (filled circles) behave quite well, as they are at least around the true correlation value (0.7). \n",
    "\n",
    "However, the mean of the maximum-likelihood estimates (vertical line) is unfortunately not unbiased but slightly biased towards zero (see [*Brain, Data, and Science blog*](http://diedrichsenlab.org/BrainDataScience/noisy_correlation)). Therefore, best way to use the log-likelihoods is to do a paired-samples t-test between the log-likelihoods for two correlation values.\n",
    "\n",
    "For example, 0.7 vs. 1, or 0.7 vs. 0: "
   ]
  },
  {
   "cell_type": "code",
   "execution_count": 38,
   "metadata": {},
   "outputs": [
    {
     "name": "stdout",
     "output_type": "stream",
     "text": [
      "Testing correlation of 0.68 against 1.00\n",
      "Paired-samples t-test: t(19)=3.334; p(19)=0.003491\n",
      "\n",
      "Testing correlation of 0.68 against 0.00\n",
      "Paired-samples t-test: t(19)=6.101; p(19)=0.000007\n"
     ]
    }
   ],
   "source": [
    "print(f\"Testing correlation of {r[13]:0.2f} against {r[19]:0.2f}\")\n",
    "t, p = sps.ttest_rel(L[:,13],L[:,19])\n",
    "print(f'Paired-samples t-test: t({len(L)-1})={t:1.3f}; p({len(L)-1})={p:1.6f}\\n')\n",
    "\n",
    "print(f\"Testing correlation of {r[13]:0.2f} against {r[0]:0.2f}\")\n",
    "t, p = sps.ttest_rel(L[:,13],L[:,0])\n",
    "print(f'Paired-samples t-test: t({len(L)-1})={t:1.3f}; p({len(L)-1})={p:1.6f}')"
   ]
  },
  {
   "cell_type": "markdown",
   "metadata": {},
   "source": [
    "Thus, we have clear evidence that the correlation of 0.68 is more likely than a correlation of zero (i.e., that the patterns are unrelated), and more likely than a correlation of one (i.e., that the patterns are identical).  "
   ]
  },
  {
   "cell_type": "markdown",
   "metadata": {},
   "source": [
    "## 2. Testing for specific correlations between activity patterns across two conditions\n",
    "In the second part of this notebook, we will simulate data from a hypothetical experiment, in which participants observed 3 hand gestures or executed the same 3 hand gestures. Thus, we have 3 items (i.e., the hand gestures) in each of 2 conditions (i.e., either observe or execute). \n",
    "\n",
    "We are interested in the average correlation between the patterns associated with observing and executing action A, observing and executing action B, and observing and executing action C, while accounting for overall differences in the average patterns of observing and executing. To solve this problem, we again calculate the likelihood of the data given a range of specific correlations $p(Y|r)$.\n",
    "\n",
    "In this case we have a few more additional hyper-parameters to estimate: \n",
    "- The variance of the movement-specific activity patterns associated with observing actions.\n",
    "- The variance of the movement-specific activity patterns associated with executing actions.\n",
    "\n",
    "\n",
    ">These hyper-parameters express the strength of encoding and are directly related to the average inter-item distance in an RSA analysis.\n",
    "\n",
    "\n",
    "- The variance of the pattern component that is common to all observed actions. \n",
    "- The variance of the pattern component that is common to all executed actions. \n",
    "\n",
    "\n",
    "- Finally, we again have a hyper-parameter for the noise variance. "
   ]
  },
  {
   "cell_type": "markdown",
   "metadata": {},
   "source": [
    "### 2.1 Data simulation\n",
    "First, we create our true model (`Mtrue`): one where the all actions are equally strongly encoded in each condition, but where the strength of encoding can differ between conditions (i.e., between observation or execution). \n",
    "\n",
    ">For example, we could expect the difference between actions to be smaller during observation than during execution (simply due to overall levels of brain activation). \n",
    "\n",
    "Next, we also model the covariance between items within each condition with a condition effect (i.e., by setting `condEffect` to `True`). Finally, we set the ground-truth correlation to be 0.7. "
   ]
  },
  {
   "cell_type": "code",
   "execution_count": 39,
   "metadata": {},
   "outputs": [
    {
     "name": "stdout",
     "output_type": "stream",
     "text": [
      "The true model has 4 hyper parameters\n"
     ]
    }
   ],
   "source": [
    "Mtrue = pcm.CorrelationModel('corr', num_items=3, corr=0.7, cond_effect=True, within_cov=None)\n",
    "print(f\"The true model has {Mtrue.n_param} hyper parameters\")"
   ]
  },
  {
   "cell_type": "markdown",
   "metadata": {},
   "source": [
    "These four parameters are concerned with the condition effect and item effect for observation and execution, respectively. Visualizing the components of the second moment matrix (also known as variance-covariance, or simply covariance matrix) helps to understand this:"
   ]
  },
  {
   "cell_type": "code",
   "execution_count": 40,
   "metadata": {},
   "outputs": [
    {
     "data": {
      "image/png": "[encoded data removed]",
      "text/plain": [
       "<matplotlib.figure.Figure at 0x1a20dd8fd0>"
      ]
     },
     "metadata": {},
     "output_type": "display_data"
    }
   ],
   "source": [
    "H = Mtrue.n_param\n",
    "for i in range(H):\n",
    "    plt.subplot(1, H, i+1)\n",
    "    plt.imshow(Mtrue.Gc[i,:,:])"
   ]
  },
  {
   "cell_type": "markdown",
   "metadata": {},
   "source": [
    ">The first two components plotted above reflect the condition effect and model the covariance between items within each condition (observation, execution). The second two components reflect the item effect and model the item-specific variance for each item (3 hand gestures) in each condition."
   ]
  },
  {
   "cell_type": "markdown",
   "metadata": {},
   "source": [
    "To Simulate a dataset, we need to simulate an experimental design. Let's assume we measure the 6 trial types (3 items x 2 conditions) in 8 imaging runs and submit the beta-values from each run to the model as $\\mathbf{Y}$. \n",
    "\n",
    "We then generate a dataset where there is a strong overall effect for both observation (exp(0)) and execution (exp(1)). In comparison, the item-specific effects for observation (exp(-1.5)) and execution (exp(-1)) are pretty weak (this is a rather typical finding).\n",
    "\n",
    ">Note that all hyper parameters are log(variances)—this helps us to keep variances positive and the math easy. "
   ]
  },
  {
   "cell_type": "code",
   "execution_count": 41,
   "metadata": {},
   "outputs": [],
   "source": [
    "# Create the design. In this case it's 8 runs, 6 trial types\n",
    "cond_vec, part_vec = pcm.sim.make_design(n_cond=6, n_part=8)\n",
    "#print(cond_vec)\n",
    "#print(part_vec)\n",
    "\n",
    "# Starting from the true model above, generate 20 datasets/participants \n",
    "# with relatively low signal-to-noise ratio (0.2:1)\n",
    "D = pcm.sim.make_dataset(model=Mtrue, \\\n",
    "    theta=[1,2.7,0.4,0.2], \\\n",
    "    cond_vec=cond_vec, \\\n",
    "    part_vec=part_vec, \\\n",
    "    n_sim=20, \\\n",
    "    signal=0.2)"
   ]
  },
  {
   "cell_type": "markdown",
   "metadata": {},
   "source": [
    "As a quick check, let's plot the predicted second moment matrix of our true model (using the simulation parameters) and the crossvalidated estimate from the first dataset. "
   ]
  },
  {
   "cell_type": "code",
   "execution_count": 42,
   "metadata": {},
   "outputs": [
    {
     "data": {
      "text/plain": [
       "Text(0.5,1,'dataset')"
      ]
     },
     "execution_count": 42,
     "metadata": {},
     "output_type": "execute_result"
    },
    {
     "data": {
      "image/png": "[encoded data removed]",
      "text/plain": [
       "<matplotlib.figure.Figure at 0x1a20dd8278>"
      ]
     },
     "metadata": {},
     "output_type": "display_data"
    }
   ],
   "source": [
    "# Get the predicted G-matrix  from the true model\n",
    "G,_ = Mtrue.predict([1,2.7,0.4,0.2])\n",
    "\n",
    "# The estimated G-matrix from the first dataset \n",
    "trial_type = D[1].obs_descriptors['cond_vec']\n",
    "G_hat,_ = pcm.est_G_crossval(D[1].measurements, trial_type, part_vec)\n",
    "\n",
    "# Visualize the second moment (G) matrices\n",
    "plt.subplot(1,2,1)\n",
    "plt.imshow(G)\n",
    "plt.title('predicted')\n",
    "\n",
    "plt.subplot(1,2,2)\n",
    "plt.imshow(G_hat)\n",
    "plt.title('dataset')"
   ]
  },
  {
   "cell_type": "markdown",
   "metadata": {},
   "source": [
    "### 2.2 Fitting the data \n",
    "Now we are fitting these datasets with a range of models, each assuming a correlation value between 0 and 1. The other parameters will still be included, as we did for the true model.\n",
    "\n",
    "For comparison, we also include a flexible correlation model (`Mflex`), which has a additional free parameter that models the correlation."
   ]
  },
  {
   "cell_type": "code",
   "execution_count": 44,
   "metadata": {},
   "outputs": [],
   "source": [
    "nsteps = 100 # how many correlation models?  \n",
    "M = [] # initialize the output list M\n",
    "\n",
    "# Generate the models equally spaced between 0 and 1 \n",
    "for r in np.linspace(0, 1, nsteps):\n",
    "    M.append(pcm.CorrelationModel(f\"{r:0.2f}\", num_items=3, corr=r, cond_effect=True))\n",
    "    \n",
    "# Now make the flexible model \n",
    "Mflex = pcm.CorrelationModel(\"flex\", num_items=3, corr=None, cond_effect=True)\n",
    "M.append(Mflex)"
   ]
  },
  {
   "cell_type": "markdown",
   "metadata": {},
   "source": [
    "We can now fit the model to the datasets in one go. The resulting dataframe `T` has the log-likelihoods for each model (columns) / dataset (rows). The second return argument `theta` contains the parameters for each model fit. "
   ]
  },
  {
   "cell_type": "code",
   "execution_count": 45,
   "metadata": {},
   "outputs": [
    {
     "data": {
      "text/html": [
       "<div>\n",
       "<style scoped>\n",
       "    .dataframe tbody tr th:only-of-type {\n",
       "        vertical-align: middle;\n",
       "    }\n",
       "\n",
       "    .dataframe tbody tr th {\n",
       "        vertical-align: top;\n",
       "    }\n",
       "\n",
       "    .dataframe thead tr th {\n",
       "        text-align: left;\n",
       "    }\n",
       "</style>\n",
       "<table border=\"1\" class=\"dataframe\">\n",
       "  <thead>\n",
       "    <tr>\n",
       "      <th>variable</th>\n",
       "      <th colspan=\"10\" halign=\"left\">likelihood</th>\n",
       "      <th>...</th>\n",
       "      <th colspan=\"10\" halign=\"left\">iterations</th>\n",
       "    </tr>\n",
       "    <tr>\n",
       "      <th>model</th>\n",
       "      <th>0.00</th>\n",
       "      <th>0.01</th>\n",
       "      <th>0.02</th>\n",
       "      <th>0.03</th>\n",
       "      <th>0.04</th>\n",
       "      <th>0.05</th>\n",
       "      <th>0.06</th>\n",
       "      <th>0.07</th>\n",
       "      <th>0.08</th>\n",
       "      <th>0.09</th>\n",
       "      <th>...</th>\n",
       "      <th>0.92</th>\n",
       "      <th>0.93</th>\n",
       "      <th>0.94</th>\n",
       "      <th>0.95</th>\n",
       "      <th>0.96</th>\n",
       "      <th>0.97</th>\n",
       "      <th>0.98</th>\n",
       "      <th>0.99</th>\n",
       "      <th>1.00</th>\n",
       "      <th>flex</th>\n",
       "    </tr>\n",
       "  </thead>\n",
       "  <tbody>\n",
       "    <tr>\n",
       "      <th>0</th>\n",
       "      <td>-887.831487</td>\n",
       "      <td>-887.705964</td>\n",
       "      <td>-887.582884</td>\n",
       "      <td>-887.462226</td>\n",
       "      <td>-887.343969</td>\n",
       "      <td>-887.228095</td>\n",
       "      <td>-887.114588</td>\n",
       "      <td>-887.003433</td>\n",
       "      <td>-886.894614</td>\n",
       "      <td>-886.788120</td>\n",
       "      <td>...</td>\n",
       "      <td>6.0</td>\n",
       "      <td>6.0</td>\n",
       "      <td>6.0</td>\n",
       "      <td>6.0</td>\n",
       "      <td>6.0</td>\n",
       "      <td>6.0</td>\n",
       "      <td>6.0</td>\n",
       "      <td>6.0</td>\n",
       "      <td>6.0</td>\n",
       "      <td>5.0</td>\n",
       "    </tr>\n",
       "    <tr>\n",
       "      <th>1</th>\n",
       "      <td>-897.418265</td>\n",
       "      <td>-897.100121</td>\n",
       "      <td>-896.784548</td>\n",
       "      <td>-896.471492</td>\n",
       "      <td>-896.160898</td>\n",
       "      <td>-895.852715</td>\n",
       "      <td>-895.546892</td>\n",
       "      <td>-895.243381</td>\n",
       "      <td>-894.942133</td>\n",
       "      <td>-894.643103</td>\n",
       "      <td>...</td>\n",
       "      <td>6.0</td>\n",
       "      <td>6.0</td>\n",
       "      <td>6.0</td>\n",
       "      <td>6.0</td>\n",
       "      <td>6.0</td>\n",
       "      <td>6.0</td>\n",
       "      <td>6.0</td>\n",
       "      <td>6.0</td>\n",
       "      <td>6.0</td>\n",
       "      <td>7.0</td>\n",
       "    </tr>\n",
       "    <tr>\n",
       "      <th>2</th>\n",
       "      <td>-938.057184</td>\n",
       "      <td>-937.851286</td>\n",
       "      <td>-937.647757</td>\n",
       "      <td>-937.446563</td>\n",
       "      <td>-937.247669</td>\n",
       "      <td>-937.051042</td>\n",
       "      <td>-936.856650</td>\n",
       "      <td>-936.664465</td>\n",
       "      <td>-936.474457</td>\n",
       "      <td>-936.286599</td>\n",
       "      <td>...</td>\n",
       "      <td>5.0</td>\n",
       "      <td>5.0</td>\n",
       "      <td>5.0</td>\n",
       "      <td>5.0</td>\n",
       "      <td>5.0</td>\n",
       "      <td>5.0</td>\n",
       "      <td>5.0</td>\n",
       "      <td>5.0</td>\n",
       "      <td>5.0</td>\n",
       "      <td>5.0</td>\n",
       "    </tr>\n",
       "    <tr>\n",
       "      <th>3</th>\n",
       "      <td>-938.816255</td>\n",
       "      <td>-938.592624</td>\n",
       "      <td>-938.371687</td>\n",
       "      <td>-938.153403</td>\n",
       "      <td>-937.937735</td>\n",
       "      <td>-937.724648</td>\n",
       "      <td>-937.514106</td>\n",
       "      <td>-937.306077</td>\n",
       "      <td>-937.100530</td>\n",
       "      <td>-936.897437</td>\n",
       "      <td>...</td>\n",
       "      <td>6.0</td>\n",
       "      <td>6.0</td>\n",
       "      <td>6.0</td>\n",
       "      <td>6.0</td>\n",
       "      <td>6.0</td>\n",
       "      <td>6.0</td>\n",
       "      <td>6.0</td>\n",
       "      <td>6.0</td>\n",
       "      <td>6.0</td>\n",
       "      <td>6.0</td>\n",
       "    </tr>\n",
       "    <tr>\n",
       "      <th>4</th>\n",
       "      <td>-875.956085</td>\n",
       "      <td>-875.773279</td>\n",
       "      <td>-875.593541</td>\n",
       "      <td>-875.416842</td>\n",
       "      <td>-875.243151</td>\n",
       "      <td>-875.072443</td>\n",
       "      <td>-874.904691</td>\n",
       "      <td>-874.739873</td>\n",
       "      <td>-874.577969</td>\n",
       "      <td>-874.418959</td>\n",
       "      <td>...</td>\n",
       "      <td>6.0</td>\n",
       "      <td>6.0</td>\n",
       "      <td>6.0</td>\n",
       "      <td>6.0</td>\n",
       "      <td>6.0</td>\n",
       "      <td>6.0</td>\n",
       "      <td>6.0</td>\n",
       "      <td>6.0</td>\n",
       "      <td>6.0</td>\n",
       "      <td>5.0</td>\n",
       "    </tr>\n",
       "  </tbody>\n",
       "</table>\n",
       "<p>5 rows × 303 columns</p>\n",
       "</div>"
      ],
      "text/plain": [
       "variable  likelihood                                                  \\\n",
       "model           0.00        0.01        0.02        0.03        0.04   \n",
       "0        -887.831487 -887.705964 -887.582884 -887.462226 -887.343969   \n",
       "1        -897.418265 -897.100121 -896.784548 -896.471492 -896.160898   \n",
       "2        -938.057184 -937.851286 -937.647757 -937.446563 -937.247669   \n",
       "3        -938.816255 -938.592624 -938.371687 -938.153403 -937.937735   \n",
       "4        -875.956085 -875.773279 -875.593541 -875.416842 -875.243151   \n",
       "\n",
       "variable                                                              ...  \\\n",
       "model           0.05        0.06        0.07        0.08        0.09  ...   \n",
       "0        -887.228095 -887.114588 -887.003433 -886.894614 -886.788120  ...   \n",
       "1        -895.852715 -895.546892 -895.243381 -894.942133 -894.643103  ...   \n",
       "2        -937.051042 -936.856650 -936.664465 -936.474457 -936.286599  ...   \n",
       "3        -937.724648 -937.514106 -937.306077 -937.100530 -936.897437  ...   \n",
       "4        -875.072443 -874.904691 -874.739873 -874.577969 -874.418959  ...   \n",
       "\n",
       "variable iterations                                               \n",
       "model          0.92 0.93 0.94 0.95 0.96 0.97 0.98 0.99 1.00 flex  \n",
       "0               6.0  6.0  6.0  6.0  6.0  6.0  6.0  6.0  6.0  5.0  \n",
       "1               6.0  6.0  6.0  6.0  6.0  6.0  6.0  6.0  6.0  7.0  \n",
       "2               5.0  5.0  5.0  5.0  5.0  5.0  5.0  5.0  5.0  5.0  \n",
       "3               6.0  6.0  6.0  6.0  6.0  6.0  6.0  6.0  6.0  6.0  \n",
       "4               6.0  6.0  6.0  6.0  6.0  6.0  6.0  6.0  6.0  5.0  \n",
       "\n",
       "[5 rows x 303 columns]"
      ]
     },
     "execution_count": 45,
     "metadata": {},
     "output_type": "execute_result"
    }
   ],
   "source": [
    "# In this case, we model the block effect as a mixed effect\n",
    "# We don't need to include a scale parameter given that we don't have a fixed model \n",
    "T, theta = pcm.fit_model_individ(D, M, fixed_effect='block', fit_scale=False, verbose=False)\n",
    "T.head()"
   ]
  },
  {
   "cell_type": "markdown",
   "metadata": {},
   "source": [
    "### 2.3 Interpreting the Fit \n",
    "Again, note that the absolute values of the log-likelihoods don't mean much. Therefore, first, we remove the mean log-likelihood for each correlation model, expressing each log-likelihood as the difference against the mean. \n",
    "\n",
    "Next, we plot the full log-likelihood curves (solid lines) and the maximum likelihood estimate (filled circles) of the correlation for each participant. We can also add the mean log-likelihood curve (dotted line) and the mean of the maximum log-likelihood estimates (vertical blue line) across participants."
   ]
  },
  {
   "cell_type": "code",
   "execution_count": 46,
   "metadata": {},
   "outputs": [
    {
     "data": {
      "text/plain": [
       "Text(0,0.5,'log-likelihood')"
      ]
     },
     "execution_count": 46,
     "metadata": {},
     "output_type": "execute_result"
    },
    {
     "data": {
      "image/png": "[encoded data removed]",
      "text/plain": [
       "<matplotlib.figure.Figure at 0x1a20b041d0>"
      ]
     },
     "metadata": {},
     "output_type": "display_data"
    }
   ],
   "source": [
    "L = T.likelihood.to_numpy()\n",
    "\n",
    "# express log-likelihoods relative to mean \n",
    "L = L - L.mean(axis=1).reshape(-1,1)\n",
    "maxL = L[:,-1] # Last model is the flexible \n",
    "L = L[:,0:-1] # Remove it \n",
    "\n",
    "# Get the correlation for each of the models\n",
    "r = np.empty((nsteps,))\n",
    "for i in range(nsteps):\n",
    "    r[i]= M[i].corr\n",
    "\n",
    "# Get the maximum likelihood estimate of each parameter \n",
    "maxr = M[-1].get_correlation(theta[-1])\n",
    "\n",
    "# Now we make the plot \n",
    "plt.plot(r, L.T, color='gray', marker=None, linewidth=1)\n",
    "plt.plot(maxr, maxL, 'k.', markersize=12)\n",
    "plt.plot(r, L.mean(axis=0), 'k:')\n",
    "plt.axvline(maxr.mean())\n",
    "plt.xlabel('correlation')\n",
    "plt.ylabel('log-likelihood')"
   ]
  },
  {
   "cell_type": "markdown",
   "metadata": {},
   "source": [
    "\n",
    "Again, the best way to use the log-likelihoods is to do a paired-samples t-test between the log-likelihoods for two correlation values: e.g., 0.7 vs 0.3:"
   ]
  },
  {
   "cell_type": "code",
   "execution_count": 48,
   "metadata": {},
   "outputs": [
    {
     "name": "stdout",
     "output_type": "stream",
     "text": [
      "Testing correlation of 0.70 against 0.30\n",
      "nPaired-samples t-test: t(19)=3.331; p(19)=0.003513\n"
     ]
    }
   ],
   "source": [
    "print(f\"Testing correlation of {r[69]:0.2f} against {r[30]:0.2f}\")\n",
    "t, p = sps.ttest_rel(L[:,69], L[:,30])\n",
    "print(f'nPaired-samples t-test: t({len(L)-1})={t:1.3f}; p({len(L)-1})={p:1.6f}')"
   ]
  },
  {
   "cell_type": "markdown",
   "metadata": {},
   "source": [
    "Thus, we have clear evidence that the true correlation is much more likely to be 0.7 than 0.3. \n",
    "\n",
    "Alternatively, we can transform the log-likelihoods in approximate posterior distributions, and proceed with a Full Bayesian group analysis. \n",
    "For more accurate results, you probably want to space your correlation models more tightly."
   ]
  },
  {
   "cell_type": "code",
   "execution_count": 49,
   "metadata": {},
   "outputs": [
    {
     "data": {
      "text/plain": [
       "Text(0,0.5,'posterior probability')"
      ]
     },
     "execution_count": 49,
     "metadata": {},
     "output_type": "execute_result"
    },
    {
     "data": {
      "image/png": "[encoded data removed]",
      "text/plain": [
       "<matplotlib.figure.Figure at 0x1a20b04128>"
      ]
     },
     "metadata": {},
     "output_type": "display_data"
    }
   ],
   "source": [
    "P = exp(L) # Take the exponential of the log-likelihoods\n",
    "P = P / P.sum(axis=1).reshape(-1,1) # Normalize to 1 over domain \n",
    "plt.plot(r, P.T, color='gray', marker=None, linewidth=1)\n",
    "plt.xlabel('correlation')\n",
    "plt.ylabel('posterior probability')"
   ]
  }
 ],
 "metadata": {
  "interpreter": {
   "hash": "3d597f4c481aa0f25dceb95d2a0067e73c0966dcbd003d741d821a7208527ecf"
  },
  "kernelspec": {
   "display_name": "Python 3",
   "language": "python",
   "name": "python3"
  },
  "language_info": {
   "codemirror_mode": {
    "name": "ipython",
    "version": 3
   },
   "file_extension": ".py",
   "mimetype": "text/x-python",
   "name": "python",
   "nbconvert_exporter": "python",
   "pygments_lexer": "ipython3",
   "version": "3.6.4"
  }
 },
 "nbformat": 4,
 "nbformat_minor": 4
}
