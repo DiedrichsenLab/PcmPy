{
 "cells": [
  {
   "cell_type": "markdown",
   "metadata": {},
   "source": [
    "## Finger demo\n",
    "Example of a fit to two fixed pcm-models\n",
    "The example of the models and data is taken from Ejaz et al. (2015).\n",
    "Nature Neuroscience: \"Hand usage predicts..\" \n",
    "We fit the follwoing 5 models \n",
    "* null: G=np.eye, all finger patterns are equally far away from each other, Note that in many situations the no-information null model, G = np.zeros, maybe , more appropriate   \n",
    "* Muscle: Fixed model with G = covariance of muscle activities \n",
    "* Natural: Fixed model with G = covariance of natural movements\n",
    "* Muscle+nat: Combination model of muscle and natural covariance \n",
    "* Noiseceil: Noise ceiling model "
   ]
  },
  {
   "cell_type": "code",
   "execution_count": 1,
   "metadata": {},
   "outputs": [],
   "source": [
    "# Import necessary libraries\n",
    "import PcmPy as pcm\n",
    "import numpy as np\n",
    "import pickle\n",
    "import pandas as pd\n",
    "import matplotlib.pyplot as plt\n",
    "import seaborn as sns"
   ]
  },
  {
   "cell_type": "code",
   "execution_count": 2,
   "metadata": {},
   "outputs": [],
   "source": [
    "# Read in the activity Data, condition vector, partition vector, \n",
    "# and model matrices for Muscle (0) and Natural stats Models (M)\n",
    "f = open('data_demo_finger7T.p','rb')\n",
    "Data,cond_vec,part_vec,modelM = pickle.load(f)\n",
    "f.close()"
   ]
  },
  {
   "cell_type": "code",
   "execution_count": 3,
   "metadata": {},
   "outputs": [],
   "source": [
    "# Build the datasets from the Data and condition vectors \n",
    "Y = list()\n",
    "for i in range(len(Data)):\n",
    "    obs_des = {'cond_vec': cond_vec[i],\n",
    "               'part_vec': part_vec[i]}\n",
    "    Y.append(pcm.Dataset(Data[i],obs_descriptors = obs_des))"
   ]
  },
  {
   "cell_type": "code",
   "execution_count": 4,
   "metadata": {},
   "outputs": [],
   "source": [
    "# Estimate and plot the second moment matrices across all data sets\n",
    "N=len(Y)\n",
    "G_hat = np.zeros((N,5,5))\n",
    "for i in range(N):\n",
    "    G_hat[i,:,:],_ = pcm.util.est_G_crossval(Y[i].measurements,\n",
    "                            Y[i].obs_descriptors['cond_vec'],\n",
    "                            Y[i].obs_descriptors['part_vec'],\n",
    "                            X=pcm.matrix.indicator(Y[i].obs_descriptors['part_vec']))"
   ]
  },
  {
   "cell_type": "code",
   "execution_count": 5,
   "metadata": {},
   "outputs": [
    {
     "data": {
      "image/png": "[encoded data removed]",
      "text/plain": [
       "<Figure size 432x288 with 7 Axes>"
      ]
     },
     "metadata": {
      "needs_background": "light"
     },
     "output_type": "display_data"
    }
   ],
   "source": [
    "# show all second moment matrices\n",
    "vmin = G_hat.min()\n",
    "vmax = G_hat.max()\n",
    "for i in range(N):\n",
    "    plt.subplot(2,4,i+1)\n",
    "    plt.imshow(G_hat[i,:,:],vmin=vmin,vmax=vmax)"
   ]
  },
  {
   "cell_type": "code",
   "execution_count": 6,
   "metadata": {},
   "outputs": [],
   "source": [
    "# Build models from the second momement matrices\n",
    "M = []\n",
    "M.append(pcm.ModelFixed('null',np.eye(5)))\n",
    "M.append(pcm.ModelFixed('muscle',modelM[0]))\n",
    "M.append(pcm.ModelFixed('natural',modelM[1]))\n",
    "M.append(pcm.ModelComponent('muscle+nat',[modelM[0],modelM[1]]))\n",
    "M.append(pcm.ModelFree('ceil',5)) # Noise ceiling model "
   ]
  },
  {
   "cell_type": "code",
   "execution_count": 7,
   "metadata": {},
   "outputs": [
    {
     "data": {
      "image/png": "[encoded data removed]",
      "text/plain": [
       "<Figure size 432x288 with 2 Axes>"
      ]
     },
     "metadata": {
      "needs_background": "light"
     },
     "output_type": "display_data"
    }
   ],
   "source": [
    "# Show the two underlying second moment matrices, these are pretty similar\n",
    "for i in range(2):\n",
    "    plt.subplot(1,2,i+1)\n",
    "    plt.imshow(M[i+1].G)\n",
    "    plt.title(M[i+1].name)"
   ]
  },
  {
   "cell_type": "code",
   "execution_count": 8,
   "metadata": {},
   "outputs": [
    {
     "name": "stdout",
     "output_type": "stream",
     "text": [
      "Fitting model 0\n",
      "Fitting model 1\n",
      "Fitting model 2\n",
      "Fitting model 3\n",
      "Fitting model 4\n"
     ]
    }
   ],
   "source": [
    "# Fit the model in to the full group, using a individual scaling parameter for each \n",
    "T_gr, theta = pcm.inference.fit_model_group(Y, M, fit_scale=True)\n"
   ]
  },
  {
   "cell_type": "code",
   "execution_count": 9,
   "metadata": {},
   "outputs": [
    {
     "name": "stdout",
     "output_type": "stream",
     "text": [
      "Fitting model 0\n",
      "Fitting model 1\n",
      "Fitting model 2\n",
      "Fitting model 3\n",
      "Fitting model 4\n"
     ]
    }
   ],
   "source": [
    "# crossvalidated likelihood is the same as the group fit for all \n",
    "# except the component and noise ceiling model\n",
    "T_cv, theta_cv = pcm.inference.fit_model_group_crossval(Y, M, fit_scale=True)\n"
   ]
  },
  {
   "cell_type": "code",
   "execution_count": 10,
   "metadata": {},
   "outputs": [
    {
     "data": {
      "image/png": "[encoded data removed]",
      "text/plain": [
       "<Figure size 432x288 with 1 Axes>"
      ]
     },
     "metadata": {
      "needs_background": "light"
     },
     "output_type": "display_data"
    }
   ],
   "source": [
    "ax = pcm.vis.model_plot(T_cv.likelihood,null_model = 'null',noise_ceiling= 'ceil',upper_ceiling = T_gr.likelihood['ceil'])\n"
   ]
  },
  {
   "cell_type": "code",
   "execution_count": 10,
   "metadata": {},
   "outputs": [
    {
     "data": {
      "text/html": [
       "<div>\n",
       "<style scoped>\n",
       "    .dataframe tbody tr th:only-of-type {\n",
       "        vertical-align: middle;\n",
       "    }\n",
       "\n",
       "    .dataframe tbody tr th {\n",
       "        vertical-align: top;\n",
       "    }\n",
       "\n",
       "    .dataframe thead tr th {\n",
       "        text-align: left;\n",
       "    }\n",
       "</style>\n",
       "<table border=\"1\" class=\"dataframe\">\n",
       "  <thead>\n",
       "    <tr>\n",
       "      <th>variable</th>\n",
       "      <th colspan=\"5\" halign=\"left\">likelihood</th>\n",
       "      <th colspan=\"5\" halign=\"left\">noise</th>\n",
       "      <th colspan=\"5\" halign=\"left\">scale</th>\n",
       "      <th colspan=\"5\" halign=\"left\">iterations</th>\n",
       "    </tr>\n",
       "    <tr>\n",
       "      <th>model</th>\n",
       "      <th>null</th>\n",
       "      <th>muscle</th>\n",
       "      <th>natural</th>\n",
       "      <th>muscle+nat</th>\n",
       "      <th>ceil</th>\n",
       "      <th>null</th>\n",
       "      <th>muscle</th>\n",
       "      <th>natural</th>\n",
       "      <th>muscle+nat</th>\n",
       "      <th>ceil</th>\n",
       "      <th>null</th>\n",
       "      <th>muscle</th>\n",
       "      <th>natural</th>\n",
       "      <th>muscle+nat</th>\n",
       "      <th>ceil</th>\n",
       "      <th>null</th>\n",
       "      <th>muscle</th>\n",
       "      <th>natural</th>\n",
       "      <th>muscle+nat</th>\n",
       "      <th>ceil</th>\n",
       "    </tr>\n",
       "  </thead>\n",
       "  <tbody>\n",
       "    <tr>\n",
       "      <th>0</th>\n",
       "      <td>-42231.412711</td>\n",
       "      <td>-41966.470799</td>\n",
       "      <td>-41786.672956</td>\n",
       "      <td>-41786.672945</td>\n",
       "      <td>-41729.668880</td>\n",
       "      <td>0.875853</td>\n",
       "      <td>0.871286</td>\n",
       "      <td>0.868482</td>\n",
       "      <td>0.868482</td>\n",
       "      <td>0.874193</td>\n",
       "      <td>0.109319</td>\n",
       "      <td>0.750145</td>\n",
       "      <td>0.786771</td>\n",
       "      <td>1.209841</td>\n",
       "      <td>1.135093</td>\n",
       "      <td>13</td>\n",
       "      <td>4</td>\n",
       "      <td>4</td>\n",
       "      <td>6</td>\n",
       "      <td>26</td>\n",
       "    </tr>\n",
       "    <tr>\n",
       "      <th>1</th>\n",
       "      <td>-34965.171104</td>\n",
       "      <td>-34923.791342</td>\n",
       "      <td>-34915.406608</td>\n",
       "      <td>-34915.406214</td>\n",
       "      <td>-34908.744214</td>\n",
       "      <td>1.070401</td>\n",
       "      <td>1.067480</td>\n",
       "      <td>1.069075</td>\n",
       "      <td>1.069075</td>\n",
       "      <td>1.073005</td>\n",
       "      <td>0.045008</td>\n",
       "      <td>0.324407</td>\n",
       "      <td>0.322917</td>\n",
       "      <td>0.496560</td>\n",
       "      <td>0.436238</td>\n",
       "      <td>13</td>\n",
       "      <td>4</td>\n",
       "      <td>4</td>\n",
       "      <td>6</td>\n",
       "      <td>26</td>\n",
       "    </tr>\n",
       "    <tr>\n",
       "      <th>2</th>\n",
       "      <td>-34767.538097</td>\n",
       "      <td>-34679.107626</td>\n",
       "      <td>-34632.643241</td>\n",
       "      <td>-34632.643003</td>\n",
       "      <td>-34607.535979</td>\n",
       "      <td>1.026408</td>\n",
       "      <td>1.021219</td>\n",
       "      <td>1.019122</td>\n",
       "      <td>1.019123</td>\n",
       "      <td>1.022025</td>\n",
       "      <td>0.059863</td>\n",
       "      <td>0.435483</td>\n",
       "      <td>0.463987</td>\n",
       "      <td>0.713478</td>\n",
       "      <td>0.664386</td>\n",
       "      <td>13</td>\n",
       "      <td>4</td>\n",
       "      <td>4</td>\n",
       "      <td>6</td>\n",
       "      <td>26</td>\n",
       "    </tr>\n",
       "    <tr>\n",
       "      <th>3</th>\n",
       "      <td>-45697.970627</td>\n",
       "      <td>-45609.052395</td>\n",
       "      <td>-45448.518276</td>\n",
       "      <td>-45448.518460</td>\n",
       "      <td>-45344.074725</td>\n",
       "      <td>1.480699</td>\n",
       "      <td>1.479592</td>\n",
       "      <td>1.474026</td>\n",
       "      <td>1.474026</td>\n",
       "      <td>1.479776</td>\n",
       "      <td>0.173031</td>\n",
       "      <td>1.193770</td>\n",
       "      <td>1.235628</td>\n",
       "      <td>1.900067</td>\n",
       "      <td>1.758033</td>\n",
       "      <td>13</td>\n",
       "      <td>4</td>\n",
       "      <td>4</td>\n",
       "      <td>6</td>\n",
       "      <td>26</td>\n",
       "    </tr>\n",
       "    <tr>\n",
       "      <th>4</th>\n",
       "      <td>-31993.363827</td>\n",
       "      <td>-31866.288313</td>\n",
       "      <td>-31806.982719</td>\n",
       "      <td>-31806.982541</td>\n",
       "      <td>-31738.538552</td>\n",
       "      <td>0.808482</td>\n",
       "      <td>0.805621</td>\n",
       "      <td>0.805774</td>\n",
       "      <td>0.805774</td>\n",
       "      <td>0.808484</td>\n",
       "      <td>0.073935</td>\n",
       "      <td>0.516338</td>\n",
       "      <td>0.532421</td>\n",
       "      <td>0.818724</td>\n",
       "      <td>0.764043</td>\n",
       "      <td>13</td>\n",
       "      <td>4</td>\n",
       "      <td>4</td>\n",
       "      <td>6</td>\n",
       "      <td>26</td>\n",
       "    </tr>\n",
       "    <tr>\n",
       "      <th>5</th>\n",
       "      <td>-41817.234010</td>\n",
       "      <td>-41632.061473</td>\n",
       "      <td>-41543.438786</td>\n",
       "      <td>-41543.438798</td>\n",
       "      <td>-41456.459249</td>\n",
       "      <td>1.035696</td>\n",
       "      <td>1.031827</td>\n",
       "      <td>1.031649</td>\n",
       "      <td>1.031649</td>\n",
       "      <td>1.036328</td>\n",
       "      <td>0.116696</td>\n",
       "      <td>0.801114</td>\n",
       "      <td>0.828773</td>\n",
       "      <td>1.274435</td>\n",
       "      <td>1.185213</td>\n",
       "      <td>13</td>\n",
       "      <td>4</td>\n",
       "      <td>4</td>\n",
       "      <td>6</td>\n",
       "      <td>26</td>\n",
       "    </tr>\n",
       "    <tr>\n",
       "      <th>6</th>\n",
       "      <td>-50336.142592</td>\n",
       "      <td>-50201.799362</td>\n",
       "      <td>-50173.300358</td>\n",
       "      <td>-50173.300312</td>\n",
       "      <td>-50157.026613</td>\n",
       "      <td>1.479001</td>\n",
       "      <td>1.472401</td>\n",
       "      <td>1.474430</td>\n",
       "      <td>1.474430</td>\n",
       "      <td>1.481835</td>\n",
       "      <td>0.101477</td>\n",
       "      <td>0.714043</td>\n",
       "      <td>0.723969</td>\n",
       "      <td>1.113272</td>\n",
       "      <td>1.002238</td>\n",
       "      <td>13</td>\n",
       "      <td>4</td>\n",
       "      <td>4</td>\n",
       "      <td>6</td>\n",
       "      <td>26</td>\n",
       "    </tr>\n",
       "  </tbody>\n",
       "</table>\n",
       "</div>"
      ],
      "text/plain": [
       "variable    likelihood                                            \\\n",
       "model             null        muscle       natural    muscle+nat   \n",
       "0        -42231.412711 -41966.470799 -41786.672956 -41786.672945   \n",
       "1        -34965.171104 -34923.791342 -34915.406608 -34915.406214   \n",
       "2        -34767.538097 -34679.107626 -34632.643241 -34632.643003   \n",
       "3        -45697.970627 -45609.052395 -45448.518276 -45448.518460   \n",
       "4        -31993.363827 -31866.288313 -31806.982719 -31806.982541   \n",
       "5        -41817.234010 -41632.061473 -41543.438786 -41543.438798   \n",
       "6        -50336.142592 -50201.799362 -50173.300358 -50173.300312   \n",
       "\n",
       "variable                   noise                                           \\\n",
       "model             ceil      null    muscle   natural muscle+nat      ceil   \n",
       "0        -41729.668880  0.875853  0.871286  0.868482   0.868482  0.874193   \n",
       "1        -34908.744214  1.070401  1.067480  1.069075   1.069075  1.073005   \n",
       "2        -34607.535979  1.026408  1.021219  1.019122   1.019123  1.022025   \n",
       "3        -45344.074725  1.480699  1.479592  1.474026   1.474026  1.479776   \n",
       "4        -31738.538552  0.808482  0.805621  0.805774   0.805774  0.808484   \n",
       "5        -41456.459249  1.035696  1.031827  1.031649   1.031649  1.036328   \n",
       "6        -50157.026613  1.479001  1.472401  1.474430   1.474430  1.481835   \n",
       "\n",
       "variable     scale                                          iterations         \\\n",
       "model         null    muscle   natural muscle+nat      ceil       null muscle   \n",
       "0         0.109319  0.750145  0.786771   1.209841  1.135093         13      4   \n",
       "1         0.045008  0.324407  0.322917   0.496560  0.436238         13      4   \n",
       "2         0.059863  0.435483  0.463987   0.713478  0.664386         13      4   \n",
       "3         0.173031  1.193770  1.235628   1.900067  1.758033         13      4   \n",
       "4         0.073935  0.516338  0.532421   0.818724  0.764043         13      4   \n",
       "5         0.116696  0.801114  0.828773   1.274435  1.185213         13      4   \n",
       "6         0.101477  0.714043  0.723969   1.113272  1.002238         13      4   \n",
       "\n",
       "variable                          \n",
       "model    natural muscle+nat ceil  \n",
       "0              4          6   26  \n",
       "1              4          6   26  \n",
       "2              4          6   26  \n",
       "3              4          6   26  \n",
       "4              4          6   26  \n",
       "5              4          6   26  \n",
       "6              4          6   26  "
      ]
     },
     "execution_count": 10,
     "metadata": {},
     "output_type": "execute_result"
    }
   ],
   "source": [
    "T_gr"
   ]
  },
  {
   "cell_type": "code",
   "execution_count": 23,
   "metadata": {},
   "outputs": [
    {
     "data": {
      "text/plain": [
       "<matplotlib.image.AxesImage at 0x1a1f7efd68>"
      ]
     },
     "execution_count": 23,
     "metadata": {},
     "output_type": "execute_result"
    },
    {
     "data": {
      "image/png": "[encoded data removed]",
      "text/plain": [
       "<Figure size 432x288 with 1 Axes>"
      ]
     },
     "metadata": {
      "needs_background": "light"
     },
     "output_type": "display_data"
    }
   ],
   "source": [
    "G,_ = M[4].predict(theta[4][:M[4].n_param])\n",
    "plt.imshow(G)"
   ]
  }
 ],
 "metadata": {
  "kernelspec": {
   "display_name": "Python 3",
   "language": "python",
   "name": "python3"
  },
  "language_info": {
   "codemirror_mode": {
    "name": "ipython",
    "version": 3
   },
   "file_extension": ".py",
   "mimetype": "text/x-python",
   "name": "python",
   "nbconvert_exporter": "python",
   "pygments_lexer": "ipython3",
   "version": "3.7.1"
  }
 },
 "nbformat": 4,
 "nbformat_minor": 4
}
