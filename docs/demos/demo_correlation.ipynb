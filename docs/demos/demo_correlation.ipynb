{
 "cells": [
  {
   "cell_type": "markdown",
   "metadata": {},
   "source": [
    "# Correlation models \n",
    "This example shows how PCM can be used to test hypotheses about the correlation between two sets of activity patterns. For more information, see our [*Brain, Data, and Science*](http://diedrichsenlab.org/BrainDataScience/noisy_correlation) blog on this topic. \n",
    "\n",
    "In this example we will simulate data from a hypothetical experiment, in which participants observe 3 hand gestures or execute the same 3 hand gestures. In this case we have three items (actions) observed under 2 conditions. We are interested in the average correlation between the patterns associated with observing and execution action A, observing and execution action observing and execution action B, and observing and execution action C. In this, we would like to account for the general correlation between the average patterns of observing and executing. \n",
    "\n",
    "To solve this problem, we calculate the likelihood of the data, given specific correlations $p(Y|r)$. Additionally to the correlation, we need to deal with some additional parameters. In our case this is the variance in the activity patterns associated with observing different actions, and the variance associated with execution different actions. These hyper-parameter express the strength of the encoding and are directly related to the average inter-item distance in an RSA analysis. Additionally, we need to consider a pattern component that is caused by the condition itself (observing or executing actions), common to all items. Finally, we need a parameter that determines the noise variance. These hyper-parameters are collectively referred to by $\\theta$. Here we will compare different models by using the (Type II) maximum likelihood to approximate the model evidence. \n",
    "\n",
    "$$\n",
    "p(Y|r) \\approx \\underset{\\theta}{\\operatorname{max}}{p(Y|r,\\theta)}.\n",
    "$$\n",
    "\n",
    "These may seem like a bit of a cheat, but works in this this case quite well. Estimating parameters on the same data that you use to evaluate the model of course leads to an overestimation of the likelihood. However, as the number of hyper-parameters is low and all correlation models have the same number of parameters, this bias will be approximately stable across all models. Since we are interested in the *difference* in log-likelihood across models, this small bias simply disappears. If you want to compare models with different numbers of parameters, a more sophisticated approach, such as group-cross-validation is required. "
   ]
  },
  {
   "cell_type": "code",
   "execution_count": 1,
   "metadata": {},
   "outputs": [],
   "source": [
    "# First import necessary libraries\n",
    "import PcmPy as pcm\n",
    "import numpy as np\n",
    "import pandas as pd\n",
    "import matplotlib.pyplot as plt\n",
    "import seaborn as sns\n",
    "from numpy import exp, sqrt\n",
    "import scipy.stats as ss"
   ]
  },
  {
   "cell_type": "markdown",
   "metadata": {},
   "source": [
    "## Data simulation\n",
    "First, we make our true model - one where the all action are equally stronly encoded in each conditions - but where the strength of encoding can differ between condition - certainly it is expected to be smaller during observation than during execution. We also model the covariance between items within condition with a condition effect.\n",
    "Let's say the correlation is 0.7. "
   ]
  },
  {
   "cell_type": "code",
   "execution_count": 2,
   "metadata": {},
   "outputs": [
    {
     "name": "stdout",
     "output_type": "stream",
     "text": [
      "The model has 4 hyper parameters\n"
     ]
    }
   ],
   "source": [
    "Mtrue = pcm.CorrelationModel('corr',num_items=3, corr=0.7, cond_effect=True, within_cov=None)\n",
    "print(f\"The model has {Mtrue.n_param} hyper parameters\")"
   ]
  },
  {
   "cell_type": "markdown",
   "metadata": {},
   "source": [
    "These four parameters are concerned with the condition effect and item effects for observation and execution respectively. Visualizing the components of the second moment mattrix helps to understand this.  "
   ]
  },
  {
   "cell_type": "code",
   "execution_count": 3,
   "metadata": {},
   "outputs": [
    {
     "data": {
      "image/png": "[encoded data removed]",
      "text/plain": [
       "<Figure size 432x288 with 4 Axes>"
      ]
     },
     "metadata": {
      "needs_background": "light"
     },
     "output_type": "display_data"
    }
   ],
   "source": [
    "H = Mtrue.n_param\n",
    "for i in range(H):\n",
    "    plt.subplot(1,H,i+1)\n",
    "    plt.imshow(Mtrue.Gc[i,:,:])"
   ]
  },
  {
   "cell_type": "markdown",
   "metadata": {},
   "source": [
    "To Simulate a data set, we need to make a design. Let's assume we measure the 6 trial types in 8 imaging runs and submit the beta-values from each run to the model as $\\mathbf{Y}$. \n",
    "\n",
    "We then generate a data set where there is a strong effect of both observation (exp(0)) and execution (exp(1)) \n",
    "The item effects for observation (exp(-1.5)) and execution ((exp(-1))) are pretty weak in comparision, as it typical \n",
    "Note that all hyper parameters are log(variances) - this helps us to keep variances positive and the math easy. "
   ]
  },
  {
   "cell_type": "code",
   "execution_count": 4,
   "metadata": {},
   "outputs": [],
   "source": [
    "\n",
    "# Make the design in this case it's 8 runs, 6 conditions!\n",
    "cond_vec,part_vec = pcm.sim.make_design(6,8)\n",
    "# Generate 20 data sets with pretty low signal to noise (1:10)\n",
    "D = pcm.sim.make_dataset(Mtrue, [0,0.5,-0.5,-0.5], cond_vec, part_vec=part_vec,n_sim=12, signal=0.4)\n",
    "    "
   ]
  },
  {
   "cell_type": "markdown",
   "metadata": {},
   "source": [
    "As a quick check, let's plot the predicted second moment matrix of our model (for the simulation parameters) and the crossvalidated estimate from the first data set. "
   ]
  },
  {
   "cell_type": "code",
   "execution_count": 5,
   "metadata": {},
   "outputs": [
    {
     "data": {
      "text/plain": [
       "Text(0.5, 1.0, 'data set')"
      ]
     },
     "execution_count": 5,
     "metadata": {},
     "output_type": "execute_result"
    },
    {
     "data": {
      "image/png": "[encoded data removed]",
      "text/plain": [
       "<Figure size 432x288 with 2 Axes>"
      ]
     },
     "metadata": {
      "needs_background": "light"
     },
     "output_type": "display_data"
    }
   ],
   "source": [
    " # Get the predicted G-matrix \n",
    " G,_ = Mtrue.predict([0,0.5,-0.5,-0.5])\n",
    "# The estimated G-matrix from the data \n",
    "trial_type = D[1].obs_descriptors['cond_vec']\n",
    "G_hat,_ = pcm.est_G_crossval(D[1].measurements,trial_type,part_vec)\n",
    "plt.subplot(1,2,1)\n",
    "plt.imshow(G)\n",
    "plt.title('predicted')\n",
    "plt.subplot(1,2,2)\n",
    "plt.imshow(G_hat)\n",
    "plt.title('data set')\n",
    "\n"
   ]
  },
  {
   "cell_type": "markdown",
   "metadata": {},
   "source": [
    "## Fitting the data \n",
    "Now we are fitting these data sets with a range of models assuming a correlation between -1 and 1. The other parameters will still be included, like in the true model. \n",
    "We also include a flexible correlation model, which has a additional free parameter that model the correlation. "
   ]
  },
  {
   "cell_type": "code",
   "execution_count": 6,
   "metadata": {},
   "outputs": [],
   "source": [
    "nsteps=21 # 21 models  \n",
    "M=[]\n",
    "# Generate the models equally spaced between -1 and 1 \n",
    "for r in np.linspace(-1,1,nsteps):\n",
    "    M.append(pcm.CorrelationModel(f\"{r:0.2f}\",num_items=3,corr=r,cond_effect=True))\n",
    "# Now make the flexible model \n",
    "Mflex = pcm.CorrelationModel(\"flex\",num_items=3,corr=None,cond_effect=True)\n",
    "M.append(Mflex)"
   ]
  },
  {
   "cell_type": "markdown",
   "metadata": {},
   "source": [
    "We can now fit the model to the data sets in one go. The resulting data frame `T` has the log-likelihoods for each model / data set. The second return argument `theta` contains the parameters for each model fit. "
   ]
  },
  {
   "cell_type": "code",
   "execution_count": 7,
   "metadata": {},
   "outputs": [
    {
     "data": {
      "text/html": [
       "<div>\n",
       "<style scoped>\n",
       "    .dataframe tbody tr th:only-of-type {\n",
       "        vertical-align: middle;\n",
       "    }\n",
       "\n",
       "    .dataframe tbody tr th {\n",
       "        vertical-align: top;\n",
       "    }\n",
       "\n",
       "    .dataframe thead tr th {\n",
       "        text-align: left;\n",
       "    }\n",
       "</style>\n",
       "<table border=\"1\" class=\"dataframe\">\n",
       "  <thead>\n",
       "    <tr>\n",
       "      <th>variable</th>\n",
       "      <th colspan=\"10\" halign=\"left\">likelihood</th>\n",
       "      <th>...</th>\n",
       "      <th colspan=\"10\" halign=\"left\">iterations</th>\n",
       "    </tr>\n",
       "    <tr>\n",
       "      <th>model</th>\n",
       "      <th>-1.00</th>\n",
       "      <th>-0.90</th>\n",
       "      <th>-0.80</th>\n",
       "      <th>-0.70</th>\n",
       "      <th>-0.60</th>\n",
       "      <th>-0.50</th>\n",
       "      <th>-0.40</th>\n",
       "      <th>-0.30</th>\n",
       "      <th>-0.20</th>\n",
       "      <th>-0.10</th>\n",
       "      <th>...</th>\n",
       "      <th>0.20</th>\n",
       "      <th>0.30</th>\n",
       "      <th>0.40</th>\n",
       "      <th>0.50</th>\n",
       "      <th>0.60</th>\n",
       "      <th>0.70</th>\n",
       "      <th>0.80</th>\n",
       "      <th>0.90</th>\n",
       "      <th>1.00</th>\n",
       "      <th>flex</th>\n",
       "    </tr>\n",
       "  </thead>\n",
       "  <tbody>\n",
       "    <tr>\n",
       "      <th>0</th>\n",
       "      <td>-941.346922</td>\n",
       "      <td>-941.346922</td>\n",
       "      <td>-941.346922</td>\n",
       "      <td>-943.905154</td>\n",
       "      <td>-939.052666</td>\n",
       "      <td>-935.243151</td>\n",
       "      <td>-932.176317</td>\n",
       "      <td>-929.648516</td>\n",
       "      <td>-927.530061</td>\n",
       "      <td>-925.737022</td>\n",
       "      <td>...</td>\n",
       "      <td>6.0</td>\n",
       "      <td>6.0</td>\n",
       "      <td>6.0</td>\n",
       "      <td>6.0</td>\n",
       "      <td>6.0</td>\n",
       "      <td>6.0</td>\n",
       "      <td>6.0</td>\n",
       "      <td>6.0</td>\n",
       "      <td>6.0</td>\n",
       "      <td>6.0</td>\n",
       "    </tr>\n",
       "    <tr>\n",
       "      <th>1</th>\n",
       "      <td>-963.255790</td>\n",
       "      <td>-963.255790</td>\n",
       "      <td>-963.255790</td>\n",
       "      <td>-964.989670</td>\n",
       "      <td>-960.658266</td>\n",
       "      <td>-957.254868</td>\n",
       "      <td>-954.536941</td>\n",
       "      <td>-952.325220</td>\n",
       "      <td>-950.503404</td>\n",
       "      <td>-948.996276</td>\n",
       "      <td>...</td>\n",
       "      <td>6.0</td>\n",
       "      <td>6.0</td>\n",
       "      <td>6.0</td>\n",
       "      <td>6.0</td>\n",
       "      <td>6.0</td>\n",
       "      <td>6.0</td>\n",
       "      <td>6.0</td>\n",
       "      <td>6.0</td>\n",
       "      <td>7.0</td>\n",
       "      <td>6.0</td>\n",
       "    </tr>\n",
       "    <tr>\n",
       "      <th>2</th>\n",
       "      <td>-977.466351</td>\n",
       "      <td>-977.466351</td>\n",
       "      <td>-981.104807</td>\n",
       "      <td>-971.566383</td>\n",
       "      <td>-965.019533</td>\n",
       "      <td>-960.104649</td>\n",
       "      <td>-956.217212</td>\n",
       "      <td>-953.039679</td>\n",
       "      <td>-950.387440</td>\n",
       "      <td>-948.146537</td>\n",
       "      <td>...</td>\n",
       "      <td>6.0</td>\n",
       "      <td>7.0</td>\n",
       "      <td>7.0</td>\n",
       "      <td>7.0</td>\n",
       "      <td>7.0</td>\n",
       "      <td>7.0</td>\n",
       "      <td>7.0</td>\n",
       "      <td>7.0</td>\n",
       "      <td>7.0</td>\n",
       "      <td>7.0</td>\n",
       "    </tr>\n",
       "    <tr>\n",
       "      <th>3</th>\n",
       "      <td>-878.943470</td>\n",
       "      <td>-878.943470</td>\n",
       "      <td>-878.943470</td>\n",
       "      <td>-878.943470</td>\n",
       "      <td>-883.299121</td>\n",
       "      <td>-879.133191</td>\n",
       "      <td>-875.688116</td>\n",
       "      <td>-872.790678</td>\n",
       "      <td>-870.311437</td>\n",
       "      <td>-868.162291</td>\n",
       "      <td>...</td>\n",
       "      <td>6.0</td>\n",
       "      <td>6.0</td>\n",
       "      <td>6.0</td>\n",
       "      <td>6.0</td>\n",
       "      <td>6.0</td>\n",
       "      <td>6.0</td>\n",
       "      <td>6.0</td>\n",
       "      <td>6.0</td>\n",
       "      <td>6.0</td>\n",
       "      <td>6.0</td>\n",
       "    </tr>\n",
       "    <tr>\n",
       "      <th>4</th>\n",
       "      <td>-937.541361</td>\n",
       "      <td>-937.541361</td>\n",
       "      <td>-937.541361</td>\n",
       "      <td>-943.986282</td>\n",
       "      <td>-937.903511</td>\n",
       "      <td>-933.134617</td>\n",
       "      <td>-929.244676</td>\n",
       "      <td>-925.972045</td>\n",
       "      <td>-923.155306</td>\n",
       "      <td>-920.690015</td>\n",
       "      <td>...</td>\n",
       "      <td>6.0</td>\n",
       "      <td>6.0</td>\n",
       "      <td>6.0</td>\n",
       "      <td>6.0</td>\n",
       "      <td>7.0</td>\n",
       "      <td>7.0</td>\n",
       "      <td>7.0</td>\n",
       "      <td>7.0</td>\n",
       "      <td>7.0</td>\n",
       "      <td>7.0</td>\n",
       "    </tr>\n",
       "    <tr>\n",
       "      <th>5</th>\n",
       "      <td>-959.922378</td>\n",
       "      <td>-959.922378</td>\n",
       "      <td>-967.157071</td>\n",
       "      <td>-957.686609</td>\n",
       "      <td>-951.126677</td>\n",
       "      <td>-946.169341</td>\n",
       "      <td>-942.222987</td>\n",
       "      <td>-938.974599</td>\n",
       "      <td>-936.241107</td>\n",
       "      <td>-933.908626</td>\n",
       "      <td>...</td>\n",
       "      <td>6.0</td>\n",
       "      <td>6.0</td>\n",
       "      <td>6.0</td>\n",
       "      <td>6.0</td>\n",
       "      <td>6.0</td>\n",
       "      <td>6.0</td>\n",
       "      <td>6.0</td>\n",
       "      <td>6.0</td>\n",
       "      <td>6.0</td>\n",
       "      <td>6.0</td>\n",
       "    </tr>\n",
       "    <tr>\n",
       "      <th>6</th>\n",
       "      <td>-894.316665</td>\n",
       "      <td>-894.316665</td>\n",
       "      <td>-894.447352</td>\n",
       "      <td>-889.771757</td>\n",
       "      <td>-886.215981</td>\n",
       "      <td>-883.567894</td>\n",
       "      <td>-881.564797</td>\n",
       "      <td>-880.039914</td>\n",
       "      <td>-878.890488</td>\n",
       "      <td>-878.053580</td>\n",
       "      <td>...</td>\n",
       "      <td>6.0</td>\n",
       "      <td>6.0</td>\n",
       "      <td>6.0</td>\n",
       "      <td>6.0</td>\n",
       "      <td>6.0</td>\n",
       "      <td>6.0</td>\n",
       "      <td>6.0</td>\n",
       "      <td>10.0</td>\n",
       "      <td>12.0</td>\n",
       "      <td>6.0</td>\n",
       "    </tr>\n",
       "    <tr>\n",
       "      <th>7</th>\n",
       "      <td>-911.966859</td>\n",
       "      <td>-911.966859</td>\n",
       "      <td>-911.966859</td>\n",
       "      <td>-918.258785</td>\n",
       "      <td>-912.184313</td>\n",
       "      <td>-907.418657</td>\n",
       "      <td>-903.529567</td>\n",
       "      <td>-900.256342</td>\n",
       "      <td>-897.437967</td>\n",
       "      <td>-894.970178</td>\n",
       "      <td>...</td>\n",
       "      <td>6.0</td>\n",
       "      <td>6.0</td>\n",
       "      <td>6.0</td>\n",
       "      <td>6.0</td>\n",
       "      <td>6.0</td>\n",
       "      <td>6.0</td>\n",
       "      <td>6.0</td>\n",
       "      <td>6.0</td>\n",
       "      <td>6.0</td>\n",
       "      <td>6.0</td>\n",
       "    </tr>\n",
       "    <tr>\n",
       "      <th>8</th>\n",
       "      <td>-905.725007</td>\n",
       "      <td>-905.725007</td>\n",
       "      <td>-917.829986</td>\n",
       "      <td>-909.052852</td>\n",
       "      <td>-902.722999</td>\n",
       "      <td>-897.867417</td>\n",
       "      <td>-893.958456</td>\n",
       "      <td>-890.706335</td>\n",
       "      <td>-887.938234</td>\n",
       "      <td>-885.544805</td>\n",
       "      <td>...</td>\n",
       "      <td>6.0</td>\n",
       "      <td>6.0</td>\n",
       "      <td>7.0</td>\n",
       "      <td>7.0</td>\n",
       "      <td>7.0</td>\n",
       "      <td>7.0</td>\n",
       "      <td>7.0</td>\n",
       "      <td>7.0</td>\n",
       "      <td>7.0</td>\n",
       "      <td>7.0</td>\n",
       "    </tr>\n",
       "    <tr>\n",
       "      <th>9</th>\n",
       "      <td>-1001.881171</td>\n",
       "      <td>-1026.377830</td>\n",
       "      <td>-1006.188539</td>\n",
       "      <td>-995.019762</td>\n",
       "      <td>-987.217681</td>\n",
       "      <td>-981.234521</td>\n",
       "      <td>-976.388805</td>\n",
       "      <td>-972.321637</td>\n",
       "      <td>-968.822271</td>\n",
       "      <td>-965.757975</td>\n",
       "      <td>...</td>\n",
       "      <td>6.0</td>\n",
       "      <td>6.0</td>\n",
       "      <td>6.0</td>\n",
       "      <td>6.0</td>\n",
       "      <td>6.0</td>\n",
       "      <td>6.0</td>\n",
       "      <td>6.0</td>\n",
       "      <td>6.0</td>\n",
       "      <td>6.0</td>\n",
       "      <td>6.0</td>\n",
       "    </tr>\n",
       "    <tr>\n",
       "      <th>10</th>\n",
       "      <td>-945.423994</td>\n",
       "      <td>-945.423994</td>\n",
       "      <td>-950.748299</td>\n",
       "      <td>-942.900876</td>\n",
       "      <td>-937.247236</td>\n",
       "      <td>-932.948670</td>\n",
       "      <td>-929.532521</td>\n",
       "      <td>-926.735623</td>\n",
       "      <td>-924.400937</td>\n",
       "      <td>-922.430042</td>\n",
       "      <td>...</td>\n",
       "      <td>6.0</td>\n",
       "      <td>6.0</td>\n",
       "      <td>6.0</td>\n",
       "      <td>6.0</td>\n",
       "      <td>6.0</td>\n",
       "      <td>6.0</td>\n",
       "      <td>6.0</td>\n",
       "      <td>6.0</td>\n",
       "      <td>6.0</td>\n",
       "      <td>6.0</td>\n",
       "    </tr>\n",
       "    <tr>\n",
       "      <th>11</th>\n",
       "      <td>-963.311866</td>\n",
       "      <td>-963.311866</td>\n",
       "      <td>-963.311866</td>\n",
       "      <td>-962.693557</td>\n",
       "      <td>-959.784867</td>\n",
       "      <td>-957.406244</td>\n",
       "      <td>-955.487411</td>\n",
       "      <td>-953.936860</td>\n",
       "      <td>-952.684954</td>\n",
       "      <td>-951.683730</td>\n",
       "      <td>...</td>\n",
       "      <td>6.0</td>\n",
       "      <td>6.0</td>\n",
       "      <td>6.0</td>\n",
       "      <td>6.0</td>\n",
       "      <td>6.0</td>\n",
       "      <td>6.0</td>\n",
       "      <td>6.0</td>\n",
       "      <td>6.0</td>\n",
       "      <td>7.0</td>\n",
       "      <td>6.0</td>\n",
       "    </tr>\n",
       "  </tbody>\n",
       "</table>\n",
       "<p>12 rows × 66 columns</p>\n",
       "</div>"
      ],
      "text/plain": [
       "variable   likelihood                                                    \\\n",
       "model           -1.00        -0.90        -0.80       -0.70       -0.60   \n",
       "0         -941.346922  -941.346922  -941.346922 -943.905154 -939.052666   \n",
       "1         -963.255790  -963.255790  -963.255790 -964.989670 -960.658266   \n",
       "2         -977.466351  -977.466351  -981.104807 -971.566383 -965.019533   \n",
       "3         -878.943470  -878.943470  -878.943470 -878.943470 -883.299121   \n",
       "4         -937.541361  -937.541361  -937.541361 -943.986282 -937.903511   \n",
       "5         -959.922378  -959.922378  -967.157071 -957.686609 -951.126677   \n",
       "6         -894.316665  -894.316665  -894.447352 -889.771757 -886.215981   \n",
       "7         -911.966859  -911.966859  -911.966859 -918.258785 -912.184313   \n",
       "8         -905.725007  -905.725007  -917.829986 -909.052852 -902.722999   \n",
       "9        -1001.881171 -1026.377830 -1006.188539 -995.019762 -987.217681   \n",
       "10        -945.423994  -945.423994  -950.748299 -942.900876 -937.247236   \n",
       "11        -963.311866  -963.311866  -963.311866 -962.693557 -959.784867   \n",
       "\n",
       "variable                                                              ...  \\\n",
       "model          -0.50       -0.40       -0.30       -0.20       -0.10  ...   \n",
       "0        -935.243151 -932.176317 -929.648516 -927.530061 -925.737022  ...   \n",
       "1        -957.254868 -954.536941 -952.325220 -950.503404 -948.996276  ...   \n",
       "2        -960.104649 -956.217212 -953.039679 -950.387440 -948.146537  ...   \n",
       "3        -879.133191 -875.688116 -872.790678 -870.311437 -868.162291  ...   \n",
       "4        -933.134617 -929.244676 -925.972045 -923.155306 -920.690015  ...   \n",
       "5        -946.169341 -942.222987 -938.974599 -936.241107 -933.908626  ...   \n",
       "6        -883.567894 -881.564797 -880.039914 -878.890488 -878.053580  ...   \n",
       "7        -907.418657 -903.529567 -900.256342 -897.437967 -894.970178  ...   \n",
       "8        -897.867417 -893.958456 -890.706335 -887.938234 -885.544805  ...   \n",
       "9        -981.234521 -976.388805 -972.321637 -968.822271 -965.757975  ...   \n",
       "10       -932.948670 -929.532521 -926.735623 -924.400937 -922.430042  ...   \n",
       "11       -957.406244 -955.487411 -953.936860 -952.684954 -951.683730  ...   \n",
       "\n",
       "variable iterations                                                 \n",
       "model          0.20 0.30 0.40 0.50 0.60 0.70 0.80  0.90  1.00 flex  \n",
       "0               6.0  6.0  6.0  6.0  6.0  6.0  6.0   6.0   6.0  6.0  \n",
       "1               6.0  6.0  6.0  6.0  6.0  6.0  6.0   6.0   7.0  6.0  \n",
       "2               6.0  7.0  7.0  7.0  7.0  7.0  7.0   7.0   7.0  7.0  \n",
       "3               6.0  6.0  6.0  6.0  6.0  6.0  6.0   6.0   6.0  6.0  \n",
       "4               6.0  6.0  6.0  6.0  7.0  7.0  7.0   7.0   7.0  7.0  \n",
       "5               6.0  6.0  6.0  6.0  6.0  6.0  6.0   6.0   6.0  6.0  \n",
       "6               6.0  6.0  6.0  6.0  6.0  6.0  6.0  10.0  12.0  6.0  \n",
       "7               6.0  6.0  6.0  6.0  6.0  6.0  6.0   6.0   6.0  6.0  \n",
       "8               6.0  6.0  7.0  7.0  7.0  7.0  7.0   7.0   7.0  7.0  \n",
       "9               6.0  6.0  6.0  6.0  6.0  6.0  6.0   6.0   6.0  6.0  \n",
       "10              6.0  6.0  6.0  6.0  6.0  6.0  6.0   6.0   6.0  6.0  \n",
       "11              6.0  6.0  6.0  6.0  6.0  6.0  6.0   6.0   7.0  6.0  \n",
       "\n",
       "[12 rows x 66 columns]"
      ]
     },
     "execution_count": 7,
     "metadata": {},
     "output_type": "execute_result"
    }
   ],
   "source": [
    " # In this case we model the block effect as a mixed effect - we don't need to include a scale parameter, as we don't have a fixed model \n",
    "T,theta = pcm.fit_model_individ(D,M,fixed_effect='block',fit_scale=False,verbose=False)\n",
    "\n",
    "T"
   ]
  },
  {
   "cell_type": "markdown",
   "metadata": {},
   "source": [
    "## Interpreting the Fit \n",
    "Not that the absolute values of the log-likelihoods doesn't mean much - so we first will remove the mean likelihood for each, expressing each as the differences against the mean. Then we plot the full log-likelihood curves and the maximum likelihood estimate of the correlation for each person. We can also add the mean log-likelihood curve."
   ]
  },
  {
   "cell_type": "code",
   "execution_count": 8,
   "metadata": {},
   "outputs": [
    {
     "data": {
      "text/plain": [
       "Text(0, 0.5, 'log-likelihood')"
      ]
     },
     "execution_count": 8,
     "metadata": {},
     "output_type": "execute_result"
    },
    {
     "data": {
      "image/png": "[encoded data removed]",
      "text/plain": [
       "<Figure size 432x288 with 1 Axes>"
      ]
     },
     "metadata": {
      "needs_background": "light"
     },
     "output_type": "display_data"
    }
   ],
   "source": [
    "L = T.likelihood.to_numpy()\n",
    "\n",
    "# express log-liklihoods relative to mean \n",
    "L = L - L.mean(axis=1).reshape(-1,1)\n",
    "maxL = L[:,-1] # Last model is the flexible \n",
    "L = L[:,0:-1] # REmove it \n",
    "\n",
    "# Get the correlation for each of the models\n",
    "r = np.empty((nsteps,))\n",
    "for i in range(nsteps):\n",
    "    r[i]= M[i].corr\n",
    "\n",
    "# Get the maximum likelihood estimate of each parameter \n",
    "maxr = M[-1].get_correlation(theta[-1])\n",
    "\n",
    "# Now we make the plot \n",
    "plt.plot(r,L.T,color='gray', marker=None, linewidth=1)\n",
    "plt.plot(maxr,maxL,'k.',markersize=12)\n",
    "plt.plot(r,L.mean(axis=0),'k:')\n",
    "plt.axvline(maxr.mean())\n",
    "plt.xlabel('correlation')\n",
    "plt.ylabel('log-likelihood')"
   ]
  },
  {
   "cell_type": "markdown",
   "metadata": {},
   "source": [
    "As we can see, the maximum likelihood estimates behave quite well, bit the mean of the maximum likelihood estimates is not exactly where the maximum of the mean (or group) likelihood lies. \n",
    "\n",
    "One way to use the log-liklihoods is to do a paired t-test between the log-likelihoods for two correlation values - for example 0.70 vs 0.3"
   ]
  },
  {
   "cell_type": "code",
   "execution_count": 9,
   "metadata": {},
   "outputs": [
    {
     "name": "stdout",
     "output_type": "stream",
     "text": [
      "Testing correlation of 0.30 against 0.70\n",
      "Ttest_relResult(statistic=-1.5869669753542313, pvalue=0.1408272998879615)\n"
     ]
    }
   ],
   "source": [
    "print(f\"Testing correlation of {r[13]:0.2f} against {r[17]:0.2f}\")\n",
    "R1=ss.ttest_rel(L[:,13],L[:,17])\n",
    "print(R1)"
   ]
  },
  {
   "cell_type": "markdown",
   "metadata": {},
   "source": [
    "Alternatively, we can transform the log-likelihoods in approximate posterior distributions, and proceed with a Full Bayesian group analysis. \n",
    "For more accurate results, you probably want to space your correlation models more tightly."
   ]
  },
  {
   "cell_type": "code",
   "execution_count": 10,
   "metadata": {},
   "outputs": [
    {
     "data": {
      "text/plain": [
       "Text(0, 0.5, 'posterior probability')"
      ]
     },
     "execution_count": 10,
     "metadata": {},
     "output_type": "execute_result"
    },
    {
     "data": {
      "image/png": "[encoded data removed]",
      "text/plain": [
       "<Figure size 432x288 with 1 Axes>"
      ]
     },
     "metadata": {
      "needs_background": "light"
     },
     "output_type": "display_data"
    }
   ],
   "source": [
    "P = exp(L) # Take the exponential \n",
    "P = P / P.sum(axis=1).reshape(-1,1) # Normalize to 1 over domain \n",
    "plt.plot(r,P.T,color='gray', marker=None, linewidth=1)\n",
    "plt.xlabel('correlation')\n",
    "plt.ylabel('posterior probability')\n"
   ]
  }
 ],
 "metadata": {
  "interpreter": {
   "hash": "3d597f4c481aa0f25dceb95d2a0067e73c0966dcbd003d741d821a7208527ecf"
  },
  "kernelspec": {
   "display_name": "Python 3 (ipykernel)",
   "language": "python",
   "name": "python3"
  },
  "language_info": {
   "codemirror_mode": {
    "name": "ipython",
    "version": 3
   },
   "file_extension": ".py",
   "mimetype": "text/x-python",
   "name": "python",
   "nbconvert_exporter": "python",
   "pygments_lexer": "ipython3",
   "version": "3.9.5"
  }
 },
 "nbformat": 4,
 "nbformat_minor": 4
}
