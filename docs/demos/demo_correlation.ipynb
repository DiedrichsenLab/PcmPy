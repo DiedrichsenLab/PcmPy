{
 "cells": [
  {
   "cell_type": "markdown",
   "metadata": {},
   "source": [
    "# PCM correlation models \n",
    "This demo shows two ways to use PCM models to test hypotheses about the correlation between activity patterns. \n",
    "\n",
    "- In the first part of this jupyter notebook, we'll focus on how to assess the **true** correlation between two activity patterns. \n",
    "\n",
    "\n",
    "- In the second part, we will consider a slightly more complex situation in which we want to estimate the true correlation between two **sets** of activity patterns measured under two different conditions.  For example, we might want to know how the activity patterns related to the observation of 3 hand gestures correlate (at a gesture-specific level) with the activity patterns related to the execution of the same 3 hand gestures."
   ]
  },
  {
   "cell_type": "code",
   "execution_count": 1,
   "metadata": {},
   "outputs": [],
   "source": [
    "# First import necessary libraries\n",
    "#(make sure PcmPy is in your python path)\n",
    "import PcmPy as pcm\n",
    "import numpy as np\n",
    "import pandas as pd\n",
    "import matplotlib.pyplot as plt\n",
    "import seaborn as sns\n",
    "from numpy import exp, sqrt\n",
    "import scipy.stats as sps"
   ]
  },
  {
   "cell_type": "markdown",
   "metadata": {},
   "source": [
    "## 1. Estimating the true correlation between two patterns\n",
    "How similar/correlated are two activity patterns? It is easy to test whether 2 activity patterns are more correlated than chance (i.e., zero correlation). However, even if the two conditions elicit exactly the same pattern, the correlation will not be 1, simply because of measurement noise. To approach this problem, we can obtain the maximum-likelihood estimator of the correlations, using repeated measurements of the same two activity patttens across multiple runs (repetitions). Note that this estimator is not unbiased, and can get unstable for very low signal to noise datasets - so we need to be caseful in the interpretation and inference.   \n",
    "\n",
    "In the simplest case of 2 activity patterns, the model will have 3 model parameters: \n",
    "- The correlation bewteen **A** and **B**. \n",
    "- The strength (variance across voxels) of the activity patterns associated with condition **A**. \n",
    "- The strength (variance across voxels) of the activity patterns associated with condition **B**. \n",
    "\n",
    "And one additional noise parameter: \n",
    "- The variance of the measurement noise across repeated measures of the same pattern. \n",
    "\n",
    "These (hyper-)parameters are collectively referred to by $\\theta$ (thetas). Here we will compare different models by using the (Type II) maximum likelihood to approximate the model evidence:\n",
    "\n",
    "$p(Y|r) \\approx \\underset{\\theta}{\\operatorname{max}}{p(Y|r,\\theta)}.$"
   ]
  },
  {
   "cell_type": "markdown",
   "metadata": {},
   "source": [
    "### 1.1 Simulating the data\n",
    "In this example, we will use some simulated data with a known correlation between he true (noiseless) activity patterns (`Mtrue`). In this example, we set that our two activity patterns are positively correlated with a true correlation of 0.7.\n",
    "\n",
    ">Note that in `pcm.CorrelationModel` we set `num_items` to 1, as we have only 1 activity pattern per condition, and we set `cond_effect` to `False`, as we do not want to model the overall effect between different conditions (each with multiple items, see section 2 below).\n",
    "\n",
    "The true model (`Mtrue`) has 2 hyper-parameters reflecting the signal strength (or true pattern variance) for each activity pattern (`item`). In addition to the 2 model parameters, PCM also fits one parameter for the variance of the measurement noise.\n"
   ]
  },
  {
   "cell_type": "code",
   "execution_count": 2,
   "metadata": {},
   "outputs": [
    {
     "name": "stdout",
     "output_type": "stream",
     "text": [
      "The true model has 2 hyper parameters\n"
     ]
    }
   ],
   "source": [
    "Mtrue = pcm.CorrelationModel('corr', num_items=1, corr=0.7, cond_effect=False)\n",
    "print(f\"The true model has {Mtrue.n_param} hyper parameters\")"
   ]
  },
  {
   "cell_type": "markdown",
   "metadata": {},
   "source": [
    "We can now use the simulation module to create 20 datasets (e.g., one per simulated participant) with a relatively low signal-to-noise level (0.2:1). We will use a design with 2 conditions and 8 partitions/runs per dataset.\n",
    ">Note that the thetas are specified as log(variance)."
   ]
  },
  {
   "cell_type": "code",
   "execution_count": 3,
   "metadata": {},
   "outputs": [],
   "source": [
    "# Create the design. In this case it's 2 conditions, across 8 runs (partitions)\n",
    "cond_vec, part_vec = pcm.sim.make_design(n_cond=2, n_part=8)\n",
    "\n",
    "# Starting from the true model above, generate 20 datasets/participants \n",
    "# with relatively low signal-to-noise ratio (0.2:1)\n",
    "# Note that signal variance is 0.2 - noise variance is by default set to 1 \n",
    "# For replicability, we are using a fixed random seed (100)\n",
    "rng = np.random.default_rng(seed=100)\n",
    "signal = np.random.gamma(shape=2,scale=0.2,size=(20,))\n",
    "D = pcm.sim.make_dataset(model=Mtrue, \\\n",
    "    theta=[0,0], \\\n",
    "    cond_vec=cond_vec, \\\n",
    "    part_vec=part_vec, \\\n",
    "    n_sim=20, \\\n",
    "    signal=signal,\\\n",
    "    rng=rng)"
   ]
  },
  {
   "cell_type": "markdown",
   "metadata": {},
   "source": [
    "First let's look at the correlation that we get when we calculate the *naive* correlation—i.e. the correlation between the two estimated activity patterns. "
   ]
  },
  {
   "cell_type": "code",
   "execution_count": 4,
   "metadata": {},
   "outputs": [
    {
     "name": "stdout",
     "output_type": "stream",
     "text": [
      "Estimated mean correlation: 0.4079\n"
     ]
    }
   ],
   "source": [
    "def get_corr(X,cond_vec):\n",
    "    \"\"\"\n",
    "        Get normal correlation\n",
    "    \"\"\"\n",
    "    p1 = X[cond_vec==0,:].mean(axis=0)\n",
    "    p2 = X[cond_vec==1,:].mean(axis=0)\n",
    "    return np.corrcoef(p1,p2)[0,1]\n",
    "\n",
    "r = np.empty((20,))\n",
    "for i in range(20):\n",
    "    data = D[i].measurements\n",
    "    r[i] = get_corr(data, cond_vec)\n",
    "print(f'Estimated mean correlation: {r.mean():.4f}')"
   ]
  },
  {
   "cell_type": "markdown",
   "metadata": {},
   "source": [
    "As we can see, due to measurement noise, the estimated mean correlation is much lower than the true value of 0.7.\n",
    "\n",
    "This is not a problem if we just want to test the hypothesis that the true correlation is larger than zero. Then we can just calculate the individual correlations per subject and test them against zero using a t-test. \n",
    "\n",
    "However, if we want to test whether the true correlation has a specific value (for example `true_corr=1`, indicating that the activity patterns are the same), or if we want to test whether the correlations are higher in one brain area than another, then this becomes an issue. \n",
    "\n",
    "Different brain regions measured with fMRI often differ dramatically in their signal-to-noise ratio. Thus, we need to take into account our level of measurement noise. PCM can do that."
   ]
  },
  {
   "cell_type": "markdown",
   "metadata": {},
   "source": [
    "### 1.2 Fitting the data\n",
    "To get the maximum-likelihood estimate of the correlation of A and B we  generare a flexible model (`Mflex`) that has the correlation as a parameter that is being optimized. "
   ]
  },
  {
   "cell_type": "code",
   "execution_count": 5,
   "metadata": {},
   "outputs": [
    {
     "name": "stdout",
     "output_type": "stream",
     "text": [
      "The flexible model has 3 hyper parameters\n"
     ]
    }
   ],
   "source": [
    "# Now make the flexible model \n",
    "Mflex = pcm.CorrelationModel(\"flex\", num_items=1, corr=None, cond_effect=False)\n",
    "print(f\"The flexible model has {Mflex.n_param} hyper parameters\")"
   ]
  },
  {
   "cell_type": "markdown",
   "metadata": {},
   "source": [
    "We can now fit the models to all datasets in one go. The resulting dataframe `T` has the log-likelihoods, noise variances, and iterations for the different dataset (rows). The second return argument `theta` contains the parameters for the model fit.   \n"
   ]
  },
  {
   "cell_type": "code",
   "execution_count": 6,
   "metadata": {},
   "outputs": [
    {
     "data": {
      "text/html": [
       "<div>\n",
       "<style scoped>\n",
       "    .dataframe tbody tr th:only-of-type {\n",
       "        vertical-align: middle;\n",
       "    }\n",
       "\n",
       "    .dataframe tbody tr th {\n",
       "        vertical-align: top;\n",
       "    }\n",
       "\n",
       "    .dataframe thead tr th {\n",
       "        text-align: left;\n",
       "    }\n",
       "</style>\n",
       "<table border=\"1\" class=\"dataframe\">\n",
       "  <thead>\n",
       "    <tr>\n",
       "      <th>variable</th>\n",
       "      <th>likelihood</th>\n",
       "      <th>noise</th>\n",
       "      <th>iterations</th>\n",
       "    </tr>\n",
       "    <tr>\n",
       "      <th>model</th>\n",
       "      <th>flex</th>\n",
       "      <th>flex</th>\n",
       "      <th>flex</th>\n",
       "    </tr>\n",
       "  </thead>\n",
       "  <tbody>\n",
       "    <tr>\n",
       "      <th>0</th>\n",
       "      <td>-224.410698</td>\n",
       "      <td>0.871523</td>\n",
       "      <td>4.0</td>\n",
       "    </tr>\n",
       "    <tr>\n",
       "      <th>1</th>\n",
       "      <td>-240.871078</td>\n",
       "      <td>0.900996</td>\n",
       "      <td>6.0</td>\n",
       "    </tr>\n",
       "    <tr>\n",
       "      <th>2</th>\n",
       "      <td>-279.874348</td>\n",
       "      <td>1.082561</td>\n",
       "      <td>5.0</td>\n",
       "    </tr>\n",
       "    <tr>\n",
       "      <th>3</th>\n",
       "      <td>-245.585238</td>\n",
       "      <td>0.971128</td>\n",
       "      <td>6.0</td>\n",
       "    </tr>\n",
       "    <tr>\n",
       "      <th>4</th>\n",
       "      <td>-234.768008</td>\n",
       "      <td>0.935571</td>\n",
       "      <td>6.0</td>\n",
       "    </tr>\n",
       "  </tbody>\n",
       "</table>\n",
       "</div>"
      ],
      "text/plain": [
       "variable  likelihood     noise iterations\n",
       "model           flex      flex       flex\n",
       "0        -224.410698  0.871523        4.0\n",
       "1        -240.871078  0.900996        6.0\n",
       "2        -279.874348  1.082561        5.0\n",
       "3        -245.585238  0.971128        6.0\n",
       "4        -234.768008  0.935571        6.0"
      ]
     },
     "execution_count": 6,
     "metadata": {},
     "output_type": "execute_result"
    }
   ],
   "source": [
    "# In this case, we the mean of the block is not modelled \n",
    "# This is valid if the measurement noise for A and B within a block are independent. \n",
    "# We don't need to include a scale parameter given that we don't have a fixed model \n",
    "T, theta = pcm.fit_model_individ(D, Mflex, fixed_effect=None, fit_scale=False, verbose=False)\n",
    "T.head()"
   ]
  },
  {
   "cell_type": "markdown",
   "metadata": {},
   "source": [
    "We can also fit all the datasets together with one single model, allowing for a seperate scale and noise paramters for each subject. "
   ]
  },
  {
   "cell_type": "code",
   "execution_count": 7,
   "metadata": {},
   "outputs": [
    {
     "data": {
      "text/html": [
       "<div>\n",
       "<style scoped>\n",
       "    .dataframe tbody tr th:only-of-type {\n",
       "        vertical-align: middle;\n",
       "    }\n",
       "\n",
       "    .dataframe tbody tr th {\n",
       "        vertical-align: top;\n",
       "    }\n",
       "\n",
       "    .dataframe thead tr th {\n",
       "        text-align: left;\n",
       "    }\n",
       "</style>\n",
       "<table border=\"1\" class=\"dataframe\">\n",
       "  <thead>\n",
       "    <tr>\n",
       "      <th>variable</th>\n",
       "      <th>likelihood</th>\n",
       "      <th>noise</th>\n",
       "      <th>scale</th>\n",
       "      <th>iterations</th>\n",
       "    </tr>\n",
       "    <tr>\n",
       "      <th>model</th>\n",
       "      <th>flex</th>\n",
       "      <th>flex</th>\n",
       "      <th>flex</th>\n",
       "      <th>flex</th>\n",
       "    </tr>\n",
       "  </thead>\n",
       "  <tbody>\n",
       "    <tr>\n",
       "      <th>0</th>\n",
       "      <td>-225.339813</td>\n",
       "      <td>0.884684</td>\n",
       "      <td>0.416692</td>\n",
       "      <td>6</td>\n",
       "    </tr>\n",
       "    <tr>\n",
       "      <th>1</th>\n",
       "      <td>-241.936139</td>\n",
       "      <td>0.891377</td>\n",
       "      <td>1.203870</td>\n",
       "      <td>6</td>\n",
       "    </tr>\n",
       "    <tr>\n",
       "      <th>2</th>\n",
       "      <td>-280.220328</td>\n",
       "      <td>1.085983</td>\n",
       "      <td>0.814084</td>\n",
       "      <td>6</td>\n",
       "    </tr>\n",
       "    <tr>\n",
       "      <th>3</th>\n",
       "      <td>-246.218291</td>\n",
       "      <td>0.966990</td>\n",
       "      <td>0.435848</td>\n",
       "      <td>6</td>\n",
       "    </tr>\n",
       "    <tr>\n",
       "      <th>4</th>\n",
       "      <td>-234.995861</td>\n",
       "      <td>0.931088</td>\n",
       "      <td>0.338336</td>\n",
       "      <td>6</td>\n",
       "    </tr>\n",
       "  </tbody>\n",
       "</table>\n",
       "</div>"
      ],
      "text/plain": [
       "variable  likelihood     noise     scale iterations\n",
       "model           flex      flex      flex       flex\n",
       "0        -225.339813  0.884684  0.416692          6\n",
       "1        -241.936139  0.891377  1.203870          6\n",
       "2        -280.220328  1.085983  0.814084          6\n",
       "3        -246.218291  0.966990  0.435848          6\n",
       "4        -234.995861  0.931088  0.338336          6"
      ]
     },
     "execution_count": 7,
     "metadata": {},
     "output_type": "execute_result"
    }
   ],
   "source": [
    "# We don't need to include a scale parameter given that we don't have a fixed model \n",
    "T_gr, theta_gr = pcm.fit_model_group(D, Mflex, fixed_effect=None, fit_scale=True, verbose=False)\n",
    "T_gr.head()"
   ]
  },
  {
   "cell_type": "markdown",
   "metadata": {},
   "source": [
    "As you can see, the likelhood of each of the datasets is a bit lower than for the individual fit. "
   ]
  },
  {
   "cell_type": "markdown",
   "metadata": {},
   "source": [
    "### 1.3 Interpreting the fitted parameters \n",
    "We can now get the signal variance (theta[0], theta[1]), the correlation parameters (theta[2]), and the noise parameter (theta[3]) from the parameter. \n",
    "Note that all the variance parameter are internally represented as log(var) and the correlation parameters are fisherz(r), so we need to make sure we transform it.  \n",
    "\n",
    "The overall estimated SNR is $SNR  = \\sigma_1 \\sigma_2/\\sigma^2_e$. \n",
    "As a diagnostic plot, we recommend to plot the correlation parameter against the estiamted SNR. "
   ]
  },
  {
   "cell_type": "code",
   "execution_count": 18,
   "metadata": {},
   "outputs": [
    {
     "data": {
      "text/plain": [
       "<matplotlib.lines.Line2D at 0x321e0c790>"
      ]
     },
     "execution_count": 18,
     "metadata": {},
     "output_type": "execute_result"
    },
    {
     "data": {
      "image/png": "[encoded data removed]",
      "text/plain": [
       "<Figure size 640x480 with 1 Axes>"
      ]
     },
     "metadata": {},
     "output_type": "display_data"
    }
   ],
   "source": [
    "# Plot individual parameter estimates against the individual noise level\n",
    "sigma2_1 = np.exp(theta[0][0])\n",
    "sigma2_2 = np.exp(theta[0][1])\n",
    "r_indiv = Mflex.get_correlation(theta[0])\n",
    "sigma2_e = np.exp(theta[0][3])\n",
    "SNR = np.sqrt(sigma2_1*sigma2_2)/sigma2_e\n",
    "plt.scatter(SNR, r_indiv)\n",
    "\n",
    "# Add the group estimate as a horizontal line\n",
    "theta_g,_= pcm.group_to_individ_param(theta_gr[0],Mflex,20)\n",
    "r_group = Mflex.get_correlation(theta_g)\n",
    "plt.axhline(r_group[0], color='red', linestyle='--')"
   ]
  },
  {
   "cell_type": "markdown",
   "metadata": {},
   "source": [
    "As we can see, the group estimate (red line) is quite close to the true (simulated) value. Individual estiamtes are downward bias with increasing variance, as the SNR decreases. "
   ]
  },
  {
   "cell_type": "markdown",
   "metadata": {},
   "source": [
    "## 1.4 Inference via bootstrap \n",
    "TO BE ADDED"
   ]
  },
  {
   "cell_type": "markdown",
   "metadata": {},
   "source": [
    "## 2. Testing for specific correlations between activity patterns across two conditions\n",
    "In the second part of this notebook, we will simulate data from a hypothetical experiment, in which participants observed 3 hand gestures or executed the same 3 hand gestures. Thus, we have 3 items (i.e., the hand gestures) in each of 2 conditions (i.e., either observe or execute). \n",
    "\n",
    "We are interested in the average correlation between the patterns associated with observing and executing action A, observing and executing action B, and observing and executing action C, while accounting for overall differences in the average patterns of observing and executing. To solve this problem, we again calculate the likelihood of the data given a range of specific correlations $p(Y|r)$.\n",
    "\n",
    "In this case we have the following parameters to estimate: \n",
    "- The variance of the pattern component that is common to all observed actions. \n",
    "- The variance of the pattern component that is common to all executed actions. \n",
    "- The variance of the movement-specific activity patterns associated with observing actions.\n",
    "- The variance of the movement-specific activity patterns associated with executing actions.\n",
    "- The correlation between A and B \n",
    "\n",
    "\n",
    "- Finally, we again have a parameter for the noise variance. "
   ]
  },
  {
   "cell_type": "markdown",
   "metadata": {},
   "source": [
    "### 2.1 Data simulation\n",
    "First, we create our true model (`Mtrue`): one where the all actions are equally strongly encoded in each condition, but where the strength of encoding can differ between conditions (i.e., between observation or execution). \n",
    "\n",
    ">For example, we could expect the difference between actions to be smaller during observation than during execution (simply due to overall levels of brain activation). \n",
    "\n",
    "Next, we also model the covariance between items within each condition with a condition effect (i.e., by setting `condEffect` to `True`). Finally, we set the ground-truth correlation to be 0.7. "
   ]
  },
  {
   "cell_type": "code",
   "execution_count": 19,
   "metadata": {},
   "outputs": [
    {
     "name": "stdout",
     "output_type": "stream",
     "text": [
      "The true model has 4 hyper parameters\n"
     ]
    }
   ],
   "source": [
    "Mtrue = pcm.CorrelationModel('corr', num_items=3, corr=0.7, cond_effect=True, within_cov=None)\n",
    "print(f\"The true model has {Mtrue.n_param} hyper parameters\")"
   ]
  },
  {
   "cell_type": "markdown",
   "metadata": {},
   "source": [
    "These four parameters are concerned with the condition effect and item effect for observation and execution, respectively. Visualizing the components of the second moment matrix (also known as variance-covariance, or simply covariance matrix) helps to understand this:"
   ]
  },
  {
   "cell_type": "code",
   "execution_count": null,
   "metadata": {},
   "outputs": [
    {
     "data": {
      "image/png": "[encoded data removed]",
      "text/plain": [
       "<Figure size 640x480 with 4 Axes>"
      ]
     },
     "metadata": {},
     "output_type": "display_data"
    }
   ],
   "source": [
    "H = Mtrue.n_param\n",
    "for i in range(H):\n",
    "    plt.subplot(1, H, i+1)\n",
    "    plt.imshow(Mtrue.Gc[i,:,:])"
   ]
  },
  {
   "cell_type": "markdown",
   "metadata": {},
   "source": [
    ">The first two components plotted above reflect the condition effect and model the covariance between items within each condition (observation, execution). The second two components reflect the item effect and model the item-specific variance for each item (3 hand gestures) in each condition."
   ]
  },
  {
   "cell_type": "markdown",
   "metadata": {},
   "source": [
    "To Simulate a dataset, we need to simulate an experimental design. Let's assume we measure the 6 trial types (3 items x 2 conditions) in 8 imaging runs and submit the beta-values from each run to the model as $\\mathbf{Y}$. \n",
    "\n",
    "We then generate a dataset where there is a strong overall effect for both observation (exp(0)) and execution (exp(1)). In comparison, the item-specific effects for observation (exp(-1.5)) and execution (exp(-1)) are pretty weak (this is a rather typical finding).\n",
    "\n",
    ">Note that all hyper parameters are log(variances)—this helps us to keep variances positive and the math easy. "
   ]
  },
  {
   "cell_type": "code",
   "execution_count": 20,
   "metadata": {},
   "outputs": [],
   "source": [
    "# Create the design. In this case it's 8 runs, 6 trial types\n",
    "cond_vec, part_vec = pcm.sim.make_design(n_cond=6, n_part=8)\n",
    "#print(cond_vec)\n",
    "#print(part_vec)\n",
    "\n",
    "# Starting from the true model above, generate 20 datasets/participants \n",
    "# with relatively low signal-to-noise ratio (0.2:1)\n",
    "D = pcm.sim.make_dataset(model=Mtrue, \\\n",
    "    theta=[1,2.7,0.4,0.2], \\\n",
    "    cond_vec=cond_vec, \\\n",
    "    part_vec=part_vec, \\\n",
    "    n_sim=20, \\\n",
    "    signal=signal)"
   ]
  },
  {
   "cell_type": "markdown",
   "metadata": {},
   "source": [
    "As a quick check, let's plot the predicted second moment matrix of our true model (using the simulation parameters) and the crossvalidated estimate from the first dataset. "
   ]
  },
  {
   "cell_type": "code",
   "execution_count": 21,
   "metadata": {},
   "outputs": [
    {
     "data": {
      "text/plain": [
       "Text(0.5, 1.0, 'dataset')"
      ]
     },
     "execution_count": 21,
     "metadata": {},
     "output_type": "execute_result"
    },
    {
     "data": {
      "image/png": "[encoded data removed]",
      "text/plain": [
       "<Figure size 640x480 with 2 Axes>"
      ]
     },
     "metadata": {},
     "output_type": "display_data"
    }
   ],
   "source": [
    "# Get the predicted G-matrix  from the true model\n",
    "G,_ = Mtrue.predict([1,2.7,0.4,0.2])\n",
    "\n",
    "# The estimated G-matrix from the first dataset \n",
    "trial_type = D[1].obs_descriptors['cond_vec']\n",
    "G_hat,_ = pcm.est_G_crossval(D[1].measurements, trial_type, part_vec)\n",
    "\n",
    "# Visualize the second moment (G) matrices\n",
    "plt.subplot(1,2,1)\n",
    "plt.imshow(G)\n",
    "plt.title('predicted')\n",
    "\n",
    "plt.subplot(1,2,2)\n",
    "plt.imshow(G_hat)\n",
    "plt.title('dataset')"
   ]
  },
  {
   "cell_type": "markdown",
   "metadata": {},
   "source": [
    "### 2.2 Fitting the data \n",
    "We now use a flexible correlation model (`Mflex`), that also models the condition effect as random effect."
   ]
  },
  {
   "cell_type": "code",
   "execution_count": 23,
   "metadata": {},
   "outputs": [],
   "source": [
    "\n",
    "# Now make the flexible model \n",
    "Mflex = pcm.CorrelationModel(\"flex\", num_items=3, corr=None, cond_effect=True)\n"
   ]
  },
  {
   "cell_type": "markdown",
   "metadata": {},
   "source": [
    "We can now fit the model to the datasets in one go. The resulting dataframe `T` has the log-likelihoods for each model (columns) / dataset (rows). The second return argument `theta` contains the parameters for each model fit. "
   ]
  },
  {
   "cell_type": "code",
   "execution_count": 24,
   "metadata": {},
   "outputs": [
    {
     "data": {
      "text/html": [
       "<div>\n",
       "<style scoped>\n",
       "    .dataframe tbody tr th:only-of-type {\n",
       "        vertical-align: middle;\n",
       "    }\n",
       "\n",
       "    .dataframe tbody tr th {\n",
       "        vertical-align: top;\n",
       "    }\n",
       "\n",
       "    .dataframe thead tr th {\n",
       "        text-align: left;\n",
       "    }\n",
       "</style>\n",
       "<table border=\"1\" class=\"dataframe\">\n",
       "  <thead>\n",
       "    <tr>\n",
       "      <th>variable</th>\n",
       "      <th>likelihood</th>\n",
       "      <th>noise</th>\n",
       "      <th>iterations</th>\n",
       "    </tr>\n",
       "    <tr>\n",
       "      <th>model</th>\n",
       "      <th>flex</th>\n",
       "      <th>flex</th>\n",
       "      <th>flex</th>\n",
       "    </tr>\n",
       "  </thead>\n",
       "  <tbody>\n",
       "    <tr>\n",
       "      <th>0</th>\n",
       "      <td>-912.339753</td>\n",
       "      <td>1.020360</td>\n",
       "      <td>6.0</td>\n",
       "    </tr>\n",
       "    <tr>\n",
       "      <th>1</th>\n",
       "      <td>-933.918529</td>\n",
       "      <td>0.999302</td>\n",
       "      <td>6.0</td>\n",
       "    </tr>\n",
       "    <tr>\n",
       "      <th>2</th>\n",
       "      <td>-945.936678</td>\n",
       "      <td>1.034411</td>\n",
       "      <td>7.0</td>\n",
       "    </tr>\n",
       "    <tr>\n",
       "      <th>3</th>\n",
       "      <td>-840.541434</td>\n",
       "      <td>0.906216</td>\n",
       "      <td>7.0</td>\n",
       "    </tr>\n",
       "    <tr>\n",
       "      <th>4</th>\n",
       "      <td>-902.160955</td>\n",
       "      <td>1.037839</td>\n",
       "      <td>6.0</td>\n",
       "    </tr>\n",
       "  </tbody>\n",
       "</table>\n",
       "</div>"
      ],
      "text/plain": [
       "variable  likelihood     noise iterations\n",
       "model           flex      flex       flex\n",
       "0        -912.339753  1.020360        6.0\n",
       "1        -933.918529  0.999302        6.0\n",
       "2        -945.936678  1.034411        7.0\n",
       "3        -840.541434  0.906216        7.0\n",
       "4        -902.160955  1.037839        6.0"
      ]
     },
     "execution_count": 24,
     "metadata": {},
     "output_type": "execute_result"
    }
   ],
   "source": [
    "# In this case, we model the block effect as a mixed effect\n",
    "# We don't need to include a scale parameter given that we don't have a fixed model \n",
    "T, theta = pcm.fit_model_individ(D, Mflex, fixed_effect='block', fit_scale=False, verbose=False)\n",
    "T.head()"
   ]
  },
  {
   "cell_type": "code",
   "execution_count": 25,
   "metadata": {},
   "outputs": [
    {
     "data": {
      "text/html": [
       "<div>\n",
       "<style scoped>\n",
       "    .dataframe tbody tr th:only-of-type {\n",
       "        vertical-align: middle;\n",
       "    }\n",
       "\n",
       "    .dataframe tbody tr th {\n",
       "        vertical-align: top;\n",
       "    }\n",
       "\n",
       "    .dataframe thead tr th {\n",
       "        text-align: left;\n",
       "    }\n",
       "</style>\n",
       "<table border=\"1\" class=\"dataframe\">\n",
       "  <thead>\n",
       "    <tr>\n",
       "      <th>variable</th>\n",
       "      <th>likelihood</th>\n",
       "      <th>noise</th>\n",
       "      <th>scale</th>\n",
       "      <th>iterations</th>\n",
       "    </tr>\n",
       "    <tr>\n",
       "      <th>model</th>\n",
       "      <th>flex</th>\n",
       "      <th>flex</th>\n",
       "      <th>flex</th>\n",
       "      <th>flex</th>\n",
       "    </tr>\n",
       "  </thead>\n",
       "  <tbody>\n",
       "    <tr>\n",
       "      <th>0</th>\n",
       "      <td>-913.599043</td>\n",
       "      <td>1.019822</td>\n",
       "      <td>0.488800</td>\n",
       "      <td>6</td>\n",
       "    </tr>\n",
       "    <tr>\n",
       "      <th>1</th>\n",
       "      <td>-934.442363</td>\n",
       "      <td>0.998689</td>\n",
       "      <td>0.992740</td>\n",
       "      <td>6</td>\n",
       "    </tr>\n",
       "    <tr>\n",
       "      <th>2</th>\n",
       "      <td>-949.019978</td>\n",
       "      <td>1.022180</td>\n",
       "      <td>1.028759</td>\n",
       "      <td>6</td>\n",
       "    </tr>\n",
       "    <tr>\n",
       "      <th>3</th>\n",
       "      <td>-842.012151</td>\n",
       "      <td>0.901143</td>\n",
       "      <td>0.460290</td>\n",
       "      <td>6</td>\n",
       "    </tr>\n",
       "    <tr>\n",
       "      <th>4</th>\n",
       "      <td>-903.372545</td>\n",
       "      <td>1.043671</td>\n",
       "      <td>0.261159</td>\n",
       "      <td>6</td>\n",
       "    </tr>\n",
       "  </tbody>\n",
       "</table>\n",
       "</div>"
      ],
      "text/plain": [
       "variable  likelihood     noise     scale iterations\n",
       "model           flex      flex      flex       flex\n",
       "0        -913.599043  1.019822  0.488800          6\n",
       "1        -934.442363  0.998689  0.992740          6\n",
       "2        -949.019978  1.022180  1.028759          6\n",
       "3        -842.012151  0.901143  0.460290          6\n",
       "4        -903.372545  1.043671  0.261159          6"
      ]
     },
     "execution_count": 25,
     "metadata": {},
     "output_type": "execute_result"
    }
   ],
   "source": [
    "# Now the group fit  \n",
    "T_gr, theta_gr = pcm.fit_model_group(D, Mflex, fixed_effect='block', fit_scale=True, verbose=False)\n",
    "T_gr.head()"
   ]
  },
  {
   "cell_type": "markdown",
   "metadata": {},
   "source": [
    "### 2.3 Interpreting the Fit \n",
    "Again, the key diagnostic plot is to look at the ML estimates of the parameters against the overall SNR. Note that the first two parameters are the main condition effects  "
   ]
  },
  {
   "cell_type": "code",
   "execution_count": 26,
   "metadata": {},
   "outputs": [
    {
     "data": {
      "text/plain": [
       "<matplotlib.lines.Line2D at 0x16e232dd0>"
      ]
     },
     "execution_count": 26,
     "metadata": {},
     "output_type": "execute_result"
    },
    {
     "data": {
      "image/png": "[encoded data removed]",
      "text/plain": [
       "<Figure size 640x480 with 1 Axes>"
      ]
     },
     "metadata": {},
     "output_type": "display_data"
    }
   ],
   "source": [
    "# Plot individual parameter estimates against the individual noise level\n",
    "sigma2_1 = np.exp(theta[0][2])\n",
    "sigma2_2 = np.exp(theta[0][3])\n",
    "r_indiv = Mflex.get_correlation(theta[0])\n",
    "sigma2_e = np.exp(theta[0][5])\n",
    "SNR = np.sqrt(sigma2_1*sigma2_2)/sigma2_e\n",
    "plt.scatter(SNR, r_indiv)\n",
    "\n",
    "# Add the group estimate as a horizontal line\n",
    "theta_g,_= pcm.group_to_individ_param(theta_gr[0],Mflex,20)\n",
    "r_group = Mflex.get_correlation(theta_g)\n",
    "plt.axhline(r_group[0], color='red', linestyle='--')"
   ]
  }
 ],
 "metadata": {
  "kernelspec": {
   "display_name": "base",
   "language": "python",
   "name": "python3"
  },
  "language_info": {
   "codemirror_mode": {
    "name": "ipython",
    "version": 3
   },
   "file_extension": ".py",
   "mimetype": "text/x-python",
   "name": "python",
   "nbconvert_exporter": "python",
   "pygments_lexer": "ipython3",
   "version": "3.11.8"
  }
 },
 "nbformat": 4,
 "nbformat_minor": 4
}
