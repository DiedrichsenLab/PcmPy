{
 "cells": [
  {
   "cell_type": "markdown",
   "metadata": {},
   "source": [
    "# Finger representations\n",
    "\n",
    "Example of a fit of fixed and component pcm-models to data from M1. The models and data is taken from [Ejaz et al. (2015)](http://www.diedrichsenlab.org/pubs/Ejaz_NN_2015.pdf). *Hand usage predicts the structure of representations in sensorimotor cortex*, Nature Neuroscience.  \n",
    "\n",
    "We will fit the following 5 models \n",
    "\n",
    "* null: G=np.eye, all finger patterns are equally far away from each other, Note that in many situations the no-information null model, G = np.zeros, maybe more appropriate   \n",
    "* Muscle: Fixed model with G = covariance of muscle activities \n",
    "* Natural: Fixed model with G = covariance of natural movements\n",
    "* Muscle+nat: Combination model of muscle and natural covariance \n",
    "* Noiseceil: Noise ceiling model "
   ]
  },
  {
   "cell_type": "code",
   "execution_count": 1,
   "metadata": {},
   "outputs": [],
   "source": [
    "# Import necessary libraries\n",
    "import PcmPy as pcm\n",
    "import numpy as np\n",
    "import pickle\n",
    "import pandas as pd\n",
    "import matplotlib.pyplot as plt\n",
    "import seaborn as sns"
   ]
  },
  {
   "cell_type": "markdown",
   "metadata": {},
   "source": [
    "Read in the activity Data (`Data`), condition vector (`cond_vec`), partition vector (`part_vec`), and model matrices for Muscle and Natural stats Models (`M`): "
   ]
  },
  {
   "cell_type": "code",
   "execution_count": 2,
   "metadata": {},
   "outputs": [],
   "source": [
    "f = open('data_demo_finger7T.p','rb')\n",
    "Data,cond_vec,part_vec,modelM = pickle.load(f)\n",
    "f.close()"
   ]
  },
  {
   "cell_type": "markdown",
   "metadata": {},
   "source": [
    "Now we are build a list of datasets (one per subject) from the Data and condition vectors "
   ]
  },
  {
   "cell_type": "code",
   "execution_count": 3,
   "metadata": {},
   "outputs": [],
   "source": [
    "Y = list()\n",
    "for i in range(len(Data)):\n",
    "    obs_des = {'cond_vec': cond_vec[i],\n",
    "               'part_vec': part_vec[i]}\n",
    "    Y.append(pcm.dataset.Dataset(Data[i],obs_descriptors = obs_des))"
   ]
  },
  {
   "cell_type": "markdown",
   "metadata": {},
   "source": [
    "## Inspect the data\n",
    "Before fitting the models, it is very useful to first visualize the different data sets to see if there are outliers. One powerful way is to estimate a cross-validated estimate of the second moment matrix. This matrix is just another form of representing a cross-validated representational dissimilarity matrix (RDM)."
   ]
  },
  {
   "cell_type": "code",
   "execution_count": 4,
   "metadata": {},
   "outputs": [],
   "source": [
    "# Estimate and plot the second moment matrices across all data sets\n",
    "N=len(Y)\n",
    "G_hat = np.zeros((N,5,5))\n",
    "for i in range(N):\n",
    "    G_hat[i,:,:],_ = pcm.est_G_crossval(Y[i].measurements,\n",
    "                            Y[i].obs_descriptors['cond_vec'],\n",
    "                            Y[i].obs_descriptors['part_vec'],\n",
    "                            X=pcm.matrix.indicator(Y[i].obs_descriptors['part_vec']))"
   ]
  },
  {
   "cell_type": "code",
   "execution_count": 5,
   "metadata": {},
   "outputs": [
    {
     "data": {
      "image/png": "[encoded data removed]",
      "text/plain": [
       "<Figure size 640x480 with 7 Axes>"
      ]
     },
     "metadata": {},
     "output_type": "display_data"
    }
   ],
   "source": [
    "# show all second moment matrices\n",
    "vmin = G_hat.min()\n",
    "vmax = G_hat.max()\n",
    "for i in range(N):\n",
    "    plt.subplot(2,4,i+1)\n",
    "    plt.imshow(G_hat[i,:,:],vmin=vmin,vmax=vmax)"
   ]
  },
  {
   "cell_type": "markdown",
   "metadata": {},
   "source": [
    "Nice - up to a scaling factor (Subject 4 has especially high signal-to-noise) all seven subjects have a very similar structure of the reresentation of fingers in M1.  "
   ]
  },
  {
   "cell_type": "markdown",
   "metadata": {},
   "source": [
    "If you are more used to looking in representational dissimilarity matrices (RDMs), you can also transform the second momement matrix into this (see Diedrichsen & Kriegeskorte,2017)"
   ]
  },
  {
   "cell_type": "code",
   "execution_count": 6,
   "metadata": {},
   "outputs": [
    {
     "data": {
      "text/plain": [
       "<matplotlib.image.AxesImage at 0x336ab6f10>"
      ]
     },
     "execution_count": 6,
     "metadata": {},
     "output_type": "execute_result"
    },
    {
     "data": {
      "image/png": "[encoded data removed]",
      "text/plain": [
       "<Figure size 640x480 with 1 Axes>"
      ]
     },
     "metadata": {},
     "output_type": "display_data"
    }
   ],
   "source": [
    "RDM = pcm.util.G_to_dist(np.mean(G_hat,axis=0))\n",
    "plt.imshow(RDM)"
   ]
  },
  {
   "cell_type": "code",
   "execution_count": null,
   "metadata": {},
   "outputs": [],
   "source": [
    "W,glam = pcm.util.classical_mds(np.mean(G_hat,axis=0))\n",
    "W\n"
   ]
  },
  {
   "cell_type": "markdown",
   "metadata": {},
   "source": [
    "## Build the models\n",
    "Now we are building a list of models, using a list of second moment matrices"
   ]
  },
  {
   "cell_type": "code",
   "execution_count": 7,
   "metadata": {},
   "outputs": [],
   "source": [
    "# Make an empty list\n",
    "M = []\n",
    "# Null model: All fingers are represented independently. \n",
    "# For RSA model that would mean that all distances are equivalent\n",
    "M.append(pcm.FixedModel('null',np.eye(5)))\n",
    "# Muscle model: Structure is given by covariance structure of EMG signals\n",
    "M.append(pcm.FixedModel('muscle',modelM[0]))\n",
    "# Usage model: Structure is given by covariance structure of EMG signals\n",
    "M.append(pcm.FixedModel('usage',modelM[1]))\n",
    "# Component model: Linear combination of the muscle and usage model\n",
    "M.append(pcm.ComponentModel('muscle+usage',[modelM[0],modelM[1]]))\n",
    "# Free noise ceiling model\n",
    "M.append(pcm.FreeModel('ceil',5)) # Noise ceiling model "
   ]
  },
  {
   "cell_type": "markdown",
   "metadata": {},
   "source": [
    "Now let's look at two underlying second moment matrices - these are pretty similar"
   ]
  },
  {
   "cell_type": "code",
   "execution_count": 8,
   "metadata": {},
   "outputs": [
    {
     "data": {
      "image/png": "[encoded data removed]",
      "text/plain": [
       "<Figure size 640x480 with 2 Axes>"
      ]
     },
     "metadata": {},
     "output_type": "display_data"
    }
   ],
   "source": [
    "for i in range(2):\n",
    "    plt.subplot(1,2,i+1)\n",
    "    plt.imshow(M[i+1].G)\n",
    "    plt.title(M[i+1].name)"
   ]
  },
  {
   "cell_type": "markdown",
   "metadata": {},
   "source": [
    "## Model fitting\n",
    "Now let's fit the models to individual data set. There are three ways to do this. We can fit the models\n",
    "\n",
    "* to each individual participant with it's own parameters $\\theta$\n",
    "* to each all participants together with shared parameters, but with an individual parameter for the signal strength and for group. \n",
    "* in a cross-participant crossvalidated fashion. The models are fit to N-1 subjects and evaluated on the Nth subject. \n",
    "\n"
   ]
  },
  {
   "cell_type": "code",
   "execution_count": 9,
   "metadata": {},
   "outputs": [],
   "source": [
    "# Do the individual fits - suppress verbose printout\n",
    "T_in, theta_in = pcm.fit_model_individ(Y,M,fit_scale = True, verbose = False) "
   ]
  },
  {
   "cell_type": "code",
   "execution_count": 10,
   "metadata": {},
   "outputs": [
    {
     "name": "stdout",
     "output_type": "stream",
     "text": [
      "Fitting group model 0\n",
      "Fitting group model 1\n",
      "Fitting group model 2\n",
      "Fitting group model 3\n",
      "Fitting group model 4\n"
     ]
    }
   ],
   "source": [
    "# Fit the model in to the full group, using a individual scaling parameter for each \n",
    "T_gr, theta_gr = pcm.fit_model_group(Y, M, fit_scale=True)"
   ]
  },
  {
   "cell_type": "code",
   "execution_count": 11,
   "metadata": {},
   "outputs": [
    {
     "name": "stdout",
     "output_type": "stream",
     "text": [
      "Fitting group cross model 0\n",
      "Fitting group cross model 1\n",
      "Fitting group cross model 2\n",
      "Fitting group cross model 3\n",
      "Fitting group cross model 4\n"
     ]
    }
   ],
   "source": [
    "# crossvalidated likelihood \n",
    "T_cv, theta_cv = pcm.fit_model_group_crossval(Y, M, fit_scale=True)"
   ]
  },
  {
   "cell_type": "markdown",
   "metadata": {},
   "source": [
    "## Inspecting and interpreting the results\n",
    "The results are returned as a nested data frame with the likelihood, noise and scale parameter for each individuals"
   ]
  },
  {
   "cell_type": "code",
   "execution_count": 12,
   "metadata": {},
   "outputs": [
    {
     "data": {
      "text/html": [
       "<div>\n",
       "<style scoped>\n",
       "    .dataframe tbody tr th:only-of-type {\n",
       "        vertical-align: middle;\n",
       "    }\n",
       "\n",
       "    .dataframe tbody tr th {\n",
       "        vertical-align: top;\n",
       "    }\n",
       "\n",
       "    .dataframe thead tr th {\n",
       "        text-align: left;\n",
       "    }\n",
       "</style>\n",
       "<table border=\"1\" class=\"dataframe\">\n",
       "  <thead>\n",
       "    <tr>\n",
       "      <th>variable</th>\n",
       "      <th colspan=\"5\" halign=\"left\">likelihood</th>\n",
       "      <th colspan=\"5\" halign=\"left\">noise</th>\n",
       "      <th colspan=\"5\" halign=\"left\">iterations</th>\n",
       "      <th colspan=\"5\" halign=\"left\">scale</th>\n",
       "    </tr>\n",
       "    <tr>\n",
       "      <th>model</th>\n",
       "      <th>null</th>\n",
       "      <th>muscle</th>\n",
       "      <th>usage</th>\n",
       "      <th>muscle+usage</th>\n",
       "      <th>ceil</th>\n",
       "      <th>null</th>\n",
       "      <th>muscle</th>\n",
       "      <th>usage</th>\n",
       "      <th>muscle+usage</th>\n",
       "      <th>ceil</th>\n",
       "      <th>null</th>\n",
       "      <th>muscle</th>\n",
       "      <th>usage</th>\n",
       "      <th>muscle+usage</th>\n",
       "      <th>ceil</th>\n",
       "      <th>null</th>\n",
       "      <th>muscle</th>\n",
       "      <th>usage</th>\n",
       "      <th>muscle+usage</th>\n",
       "      <th>ceil</th>\n",
       "    </tr>\n",
       "  </thead>\n",
       "  <tbody>\n",
       "    <tr>\n",
       "      <th>0</th>\n",
       "      <td>-42231.412711</td>\n",
       "      <td>-41966.470799</td>\n",
       "      <td>-41786.672956</td>\n",
       "      <td>-41786.672927</td>\n",
       "      <td>-41689.860468</td>\n",
       "      <td>0.875853</td>\n",
       "      <td>0.871286</td>\n",
       "      <td>0.868482</td>\n",
       "      <td>0.868483</td>\n",
       "      <td>0.872297</td>\n",
       "      <td>4.0</td>\n",
       "      <td>4.0</td>\n",
       "      <td>4.0</td>\n",
       "      <td>7.0</td>\n",
       "      <td>30.0</td>\n",
       "      <td>0.109319</td>\n",
       "      <td>0.750145</td>\n",
       "      <td>0.786771</td>\n",
       "      <td>1.000000</td>\n",
       "      <td>0.996688</td>\n",
       "    </tr>\n",
       "    <tr>\n",
       "      <th>1</th>\n",
       "      <td>-34965.171104</td>\n",
       "      <td>-34923.791342</td>\n",
       "      <td>-34915.406608</td>\n",
       "      <td>-34914.959612</td>\n",
       "      <td>-34889.042772</td>\n",
       "      <td>1.070401</td>\n",
       "      <td>1.067480</td>\n",
       "      <td>1.069075</td>\n",
       "      <td>1.068119</td>\n",
       "      <td>1.066987</td>\n",
       "      <td>4.0</td>\n",
       "      <td>4.0</td>\n",
       "      <td>4.0</td>\n",
       "      <td>16.0</td>\n",
       "      <td>21.0</td>\n",
       "      <td>0.045008</td>\n",
       "      <td>0.324407</td>\n",
       "      <td>0.322917</td>\n",
       "      <td>0.961247</td>\n",
       "      <td>0.997908</td>\n",
       "    </tr>\n",
       "    <tr>\n",
       "      <th>2</th>\n",
       "      <td>-34767.538097</td>\n",
       "      <td>-34679.107626</td>\n",
       "      <td>-34632.643241</td>\n",
       "      <td>-34632.642946</td>\n",
       "      <td>-34571.750328</td>\n",
       "      <td>1.026408</td>\n",
       "      <td>1.021219</td>\n",
       "      <td>1.019122</td>\n",
       "      <td>1.019123</td>\n",
       "      <td>1.023312</td>\n",
       "      <td>4.0</td>\n",
       "      <td>4.0</td>\n",
       "      <td>4.0</td>\n",
       "      <td>7.0</td>\n",
       "      <td>36.0</td>\n",
       "      <td>0.059863</td>\n",
       "      <td>0.435484</td>\n",
       "      <td>0.463987</td>\n",
       "      <td>1.000000</td>\n",
       "      <td>0.992282</td>\n",
       "    </tr>\n",
       "    <tr>\n",
       "      <th>3</th>\n",
       "      <td>-45697.970627</td>\n",
       "      <td>-45609.052395</td>\n",
       "      <td>-45448.518276</td>\n",
       "      <td>-45448.518254</td>\n",
       "      <td>-45225.784824</td>\n",
       "      <td>1.480699</td>\n",
       "      <td>1.479592</td>\n",
       "      <td>1.474026</td>\n",
       "      <td>1.474025</td>\n",
       "      <td>1.478701</td>\n",
       "      <td>4.0</td>\n",
       "      <td>4.0</td>\n",
       "      <td>4.0</td>\n",
       "      <td>6.0</td>\n",
       "      <td>18.0</td>\n",
       "      <td>0.173031</td>\n",
       "      <td>1.193770</td>\n",
       "      <td>1.235628</td>\n",
       "      <td>1.000000</td>\n",
       "      <td>0.998173</td>\n",
       "    </tr>\n",
       "    <tr>\n",
       "      <th>4</th>\n",
       "      <td>-31993.363827</td>\n",
       "      <td>-31866.288313</td>\n",
       "      <td>-31806.982719</td>\n",
       "      <td>-31806.982521</td>\n",
       "      <td>-31707.184232</td>\n",
       "      <td>0.808482</td>\n",
       "      <td>0.805621</td>\n",
       "      <td>0.805774</td>\n",
       "      <td>0.805774</td>\n",
       "      <td>0.807319</td>\n",
       "      <td>4.0</td>\n",
       "      <td>4.0</td>\n",
       "      <td>4.0</td>\n",
       "      <td>6.0</td>\n",
       "      <td>32.0</td>\n",
       "      <td>0.073935</td>\n",
       "      <td>0.516338</td>\n",
       "      <td>0.532421</td>\n",
       "      <td>1.000000</td>\n",
       "      <td>0.999362</td>\n",
       "    </tr>\n",
       "    <tr>\n",
       "      <th>5</th>\n",
       "      <td>-41817.234010</td>\n",
       "      <td>-41632.061473</td>\n",
       "      <td>-41543.438786</td>\n",
       "      <td>-41543.438769</td>\n",
       "      <td>-41439.111952</td>\n",
       "      <td>1.035696</td>\n",
       "      <td>1.031827</td>\n",
       "      <td>1.031649</td>\n",
       "      <td>1.031648</td>\n",
       "      <td>1.034879</td>\n",
       "      <td>4.0</td>\n",
       "      <td>4.0</td>\n",
       "      <td>4.0</td>\n",
       "      <td>5.0</td>\n",
       "      <td>19.0</td>\n",
       "      <td>0.116696</td>\n",
       "      <td>0.801114</td>\n",
       "      <td>0.828773</td>\n",
       "      <td>1.000000</td>\n",
       "      <td>0.999324</td>\n",
       "    </tr>\n",
       "    <tr>\n",
       "      <th>6</th>\n",
       "      <td>-50336.142592</td>\n",
       "      <td>-50201.799362</td>\n",
       "      <td>-50173.300358</td>\n",
       "      <td>-50173.300306</td>\n",
       "      <td>-50099.140711</td>\n",
       "      <td>1.479001</td>\n",
       "      <td>1.472401</td>\n",
       "      <td>1.474430</td>\n",
       "      <td>1.474428</td>\n",
       "      <td>1.476146</td>\n",
       "      <td>4.0</td>\n",
       "      <td>4.0</td>\n",
       "      <td>4.0</td>\n",
       "      <td>12.0</td>\n",
       "      <td>31.0</td>\n",
       "      <td>0.101477</td>\n",
       "      <td>0.714043</td>\n",
       "      <td>0.723969</td>\n",
       "      <td>1.000000</td>\n",
       "      <td>0.979400</td>\n",
       "    </tr>\n",
       "  </tbody>\n",
       "</table>\n",
       "</div>"
      ],
      "text/plain": [
       "variable    likelihood                                            \\\n",
       "model             null        muscle         usage  muscle+usage   \n",
       "0        -42231.412711 -41966.470799 -41786.672956 -41786.672927   \n",
       "1        -34965.171104 -34923.791342 -34915.406608 -34914.959612   \n",
       "2        -34767.538097 -34679.107626 -34632.643241 -34632.642946   \n",
       "3        -45697.970627 -45609.052395 -45448.518276 -45448.518254   \n",
       "4        -31993.363827 -31866.288313 -31806.982719 -31806.982521   \n",
       "5        -41817.234010 -41632.061473 -41543.438786 -41543.438769   \n",
       "6        -50336.142592 -50201.799362 -50173.300358 -50173.300306   \n",
       "\n",
       "variable                   noise                                             \\\n",
       "model             ceil      null    muscle     usage muscle+usage      ceil   \n",
       "0        -41689.860468  0.875853  0.871286  0.868482     0.868483  0.872297   \n",
       "1        -34889.042772  1.070401  1.067480  1.069075     1.068119  1.066987   \n",
       "2        -34571.750328  1.026408  1.021219  1.019122     1.019123  1.023312   \n",
       "3        -45225.784824  1.480699  1.479592  1.474026     1.474025  1.478701   \n",
       "4        -31707.184232  0.808482  0.805621  0.805774     0.805774  0.807319   \n",
       "5        -41439.111952  1.035696  1.031827  1.031649     1.031648  1.034879   \n",
       "6        -50099.140711  1.479001  1.472401  1.474430     1.474428  1.476146   \n",
       "\n",
       "variable iterations                                     scale            \\\n",
       "model          null muscle usage muscle+usage  ceil      null    muscle   \n",
       "0               4.0    4.0   4.0          7.0  30.0  0.109319  0.750145   \n",
       "1               4.0    4.0   4.0         16.0  21.0  0.045008  0.324407   \n",
       "2               4.0    4.0   4.0          7.0  36.0  0.059863  0.435484   \n",
       "3               4.0    4.0   4.0          6.0  18.0  0.173031  1.193770   \n",
       "4               4.0    4.0   4.0          6.0  32.0  0.073935  0.516338   \n",
       "5               4.0    4.0   4.0          5.0  19.0  0.116696  0.801114   \n",
       "6               4.0    4.0   4.0         12.0  31.0  0.101477  0.714043   \n",
       "\n",
       "variable                                   \n",
       "model        usage muscle+usage      ceil  \n",
       "0         0.786771     1.000000  0.996688  \n",
       "1         0.322917     0.961247  0.997908  \n",
       "2         0.463987     1.000000  0.992282  \n",
       "3         1.235628     1.000000  0.998173  \n",
       "4         0.532421     1.000000  0.999362  \n",
       "5         0.828773     1.000000  0.999324  \n",
       "6         0.723969     1.000000  0.979400  "
      ]
     },
     "execution_count": 12,
     "metadata": {},
     "output_type": "execute_result"
    }
   ],
   "source": [
    "T_in"
   ]
  },
  {
   "cell_type": "markdown",
   "metadata": {},
   "source": [
    "The likelihoods are very negative and quite different across participants, which is expected (see documentation). What we need to interpret are the difference is the likelihood relative to a null model. \n",
    "We can visualized these using the model_plot"
   ]
  },
  {
   "cell_type": "code",
   "execution_count": 13,
   "metadata": {},
   "outputs": [
    {
     "data": {
      "image/png": "[encoded data removed]",
      "text/plain": [
       "<Figure size 640x480 with 1 Axes>"
      ]
     },
     "metadata": {},
     "output_type": "display_data"
    }
   ],
   "source": [
    "ax = pcm.model_plot(T_in.likelihood,\n",
    "                        null_model = 'null',\n",
    "                        noise_ceiling= 'ceil')"
   ]
  },
  {
   "cell_type": "markdown",
   "metadata": {},
   "source": [
    "The problem with the noise ceiling is that it is individually fit to each subject. It has much more parameters than the models it is competing against, so it is overfitting. To compare models with different numbers of parameters directly, we need to look at our cross-validated group fits. The group fits can be used as an upper noise ceiling."
   ]
  },
  {
   "cell_type": "code",
   "execution_count": 14,
   "metadata": {},
   "outputs": [
    {
     "data": {
      "image/png": "[encoded data removed]",
      "text/plain": [
       "<Figure size 640x480 with 1 Axes>"
      ]
     },
     "metadata": {},
     "output_type": "display_data"
    }
   ],
   "source": [
    "ax = pcm.model_plot(T_cv.likelihood,\n",
    "                        null_model = 'null',\n",
    "                        noise_ceiling= 'ceil',\n",
    "                        upper_ceiling = T_gr.likelihood['ceil'])\n"
   ]
  },
  {
   "cell_type": "markdown",
   "metadata": {},
   "source": [
    "As you can see, the likelihood for individual, group, and crossvalidated group fits for the fixed models (null, muscle + usage) are all identical, because these models do not have common group parameters - in all cases we are fitting an individual scale and noise parameter. "
   ]
  },
  {
   "cell_type": "markdown",
   "metadata": {},
   "source": [
    "## Visualizing the model fit"
   ]
  },
  {
   "cell_type": "markdown",
   "metadata": {},
   "source": [
    "Finally, it is very useful to visualize the model prediction in comparision to the fitted data. The model parameters are stored in the return argument `theta`. We can pass these to the `Model.predict()` function to get the predicted second moment matrix. "
   ]
  },
  {
   "cell_type": "code",
   "execution_count": 15,
   "metadata": {},
   "outputs": [
    {
     "data": {
      "text/plain": [
       "<matplotlib.image.AxesImage at 0x336ea9c10>"
      ]
     },
     "execution_count": 15,
     "metadata": {},
     "output_type": "execute_result"
    },
    {
     "data": {
      "image/png": "[encoded data removed]",
      "text/plain": [
       "<Figure size 640x480 with 1 Axes>"
      ]
     },
     "metadata": {},
     "output_type": "display_data"
    }
   ],
   "source": [
    "G,_ = M[4].predict(theta_gr[4][:M[4].n_param])\n",
    "plt.imshow(G)"
   ]
  }
 ],
 "metadata": {
  "kernelspec": {
   "display_name": "base",
   "language": "python",
   "name": "python3"
  },
  "language_info": {
   "codemirror_mode": {
    "name": "ipython",
    "version": 3
   },
   "file_extension": ".py",
   "mimetype": "text/x-python",
   "name": "python",
   "nbconvert_exporter": "python",
   "pygments_lexer": "ipython3",
   "version": "3.11.8"
  }
 },
 "nbformat": 4,
 "nbformat_minor": 4
}
